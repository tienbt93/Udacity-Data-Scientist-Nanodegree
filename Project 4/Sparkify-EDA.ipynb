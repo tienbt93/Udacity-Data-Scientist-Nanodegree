{
 "cells": [
  {
   "cell_type": "markdown",
   "metadata": {},
   "source": [
    "# Sparkify Project Workspace\n",
    "This workspace contains a tiny subset (128MB) of the full dataset available (12GB). Feel free to use this workspace to build your project, or to explore a smaller subset with Spark before deploying your cluster on the cloud. Instructions for setting up your Spark cluster is included in the last lesson of the Extracurricular Spark Course content.\n",
    "\n",
    "You can follow the steps below to guide your data analysis and model building portion of this project."
   ]
  },
  {
   "cell_type": "code",
   "execution_count": 1,
   "metadata": {},
   "outputs": [],
   "source": [
    "!pip freeze > requirements.txt"
   ]
  },
  {
   "cell_type": "code",
   "execution_count": 2,
   "metadata": {},
   "outputs": [
    {
     "name": "stdout",
     "output_type": "stream",
     "text": [
      "Python 3.6.3\r\n"
     ]
    }
   ],
   "source": [
    "!python -V"
   ]
  },
  {
   "cell_type": "code",
   "execution_count": 3,
   "metadata": {},
   "outputs": [
    {
     "name": "stdout",
     "output_type": "stream",
     "text": [
      "              total        used        free      shared  buff/cache   available\r\n",
      "Mem:      131915260    23252980    16548016      214848    92114264   106034872\r\n",
      "Swap:             0           0           0\r\n"
     ]
    }
   ],
   "source": [
    "!free"
   ]
  },
  {
   "cell_type": "code",
   "execution_count": 2,
   "metadata": {},
   "outputs": [],
   "source": [
    "# import libraries\n",
    "import pyspark\n",
    "from pyspark import SparkConf\n",
    "from pyspark.sql import SparkSession\n",
    "from pyspark.sql.functions import udf\n",
    "from pyspark.sql.types import StringType\n",
    "from pyspark.sql.types import IntegerType\n",
    "from pyspark.sql.functions import isnan, count, when, col, desc, udf, col, sort_array, asc, avg\n",
    "from pyspark.sql.functions import sum as Fsum\n",
    "from pyspark.sql.window import Window\n",
    "from pyspark.sql import Row\n",
    "from pyspark.sql import functions as F\n",
    "from pyspark.sql.functions import *\n",
    "\n",
    "from pyspark.ml import Pipeline\n",
    "from pyspark.ml.classification import LogisticRegression, RandomForestClassifier, GBTClassifier, LinearSVC, NaiveBayes\n",
    "from pyspark.ml.evaluation import MulticlassClassificationEvaluator\n",
    "from pyspark.ml.feature import CountVectorizer, IDF, PCA, RegexTokenizer, VectorAssembler, Normalizer, StandardScaler\n",
    "from pyspark.ml.regression import LinearRegression\n",
    "from pyspark.ml.tuning import CrossValidator, ParamGridBuilder\n",
    "from pyspark.sql import SparkSession\n",
    "from pyspark.sql.functions import udf, col, when, count, avg, sum as Fsum, approx_count_distinct, max, min, first\n",
    "from pyspark.sql.types import IntegerType, FloatType, StringType\n",
    "import datetime\n",
    "\n",
    "import datetime\n",
    "import time\n",
    "import os\n",
    "import pandas as pd\n",
    "import numpy as np\n",
    "import re\n",
    "%matplotlib inline\n",
    "import matplotlib.pyplot as plt\n",
    "import seaborn as sns\n",
    "sns.set()"
   ]
  },
  {
   "cell_type": "code",
   "execution_count": 3,
   "metadata": {},
   "outputs": [],
   "source": [
    "# create a Spark session\n",
    "spark = SparkSession \\\n",
    "    .builder \\\n",
    "    .appName(\"Sparkify Project\") \\\n",
    "    .getOrCreate()"
   ]
  },
  {
   "cell_type": "code",
   "execution_count": 4,
   "metadata": {},
   "outputs": [
    {
     "data": {
      "text/plain": [
       "[('spark.app.id', 'local-1734538258138'),\n",
       " ('spark.driver.host',\n",
       "  'f87c4adb2e3aa45f8b00eda7ba88dcd3ba532d2a-58ff7d7b6d-zbk2g'),\n",
       " ('spark.rdd.compress', 'True'),\n",
       " ('spark.serializer.objectStreamReset', '100'),\n",
       " ('spark.master', 'local[*]'),\n",
       " ('spark.executor.id', 'driver'),\n",
       " ('spark.submit.deployMode', 'client'),\n",
       " ('spark.ui.showConsoleProgress', 'true'),\n",
       " ('spark.driver.port', '39369'),\n",
       " ('spark.app.name', 'Sparkify Project')]"
      ]
     },
     "execution_count": 4,
     "metadata": {},
     "output_type": "execute_result"
    }
   ],
   "source": [
    "spark.sparkContext.getConf().getAll()"
   ]
  },
  {
   "cell_type": "markdown",
   "metadata": {},
   "source": [
    "# Load and Clean Dataset\n",
    "In this workspace, the mini-dataset file is `mini_sparkify_event_data.json`. Load and clean the dataset, checking for invalid or missing data - for example, records without userids or sessionids. "
   ]
  },
  {
   "cell_type": "code",
   "execution_count": 5,
   "metadata": {},
   "outputs": [],
   "source": [
    "# load in the dataset\n",
    "df = spark.read.json(\"mini_sparkify_event_data.json\")"
   ]
  },
  {
   "cell_type": "code",
   "execution_count": 6,
   "metadata": {},
   "outputs": [
    {
     "data": {
      "text/plain": [
       "Row(artist='Martha Tilston', auth='Logged In', firstName='Colin', gender='M', itemInSession=50, lastName='Freeman', length=277.89016, level='paid', location='Bakersfield, CA', method='PUT', page='NextSong', registration=1538173362000, sessionId=29, song='Rockpools', status=200, ts=1538352117000, userAgent='Mozilla/5.0 (Windows NT 6.1; WOW64; rv:31.0) Gecko/20100101 Firefox/31.0', userId='30')"
      ]
     },
     "execution_count": 6,
     "metadata": {},
     "output_type": "execute_result"
    }
   ],
   "source": [
    "df.head()"
   ]
  },
  {
   "cell_type": "code",
   "execution_count": 9,
   "metadata": {
    "scrolled": true
   },
   "outputs": [
    {
     "name": "stdout",
     "output_type": "stream",
     "text": [
      "root\n",
      " |-- artist: string (nullable = true)\n",
      " |-- auth: string (nullable = true)\n",
      " |-- firstName: string (nullable = true)\n",
      " |-- gender: string (nullable = true)\n",
      " |-- itemInSession: long (nullable = true)\n",
      " |-- lastName: string (nullable = true)\n",
      " |-- length: double (nullable = true)\n",
      " |-- level: string (nullable = true)\n",
      " |-- location: string (nullable = true)\n",
      " |-- method: string (nullable = true)\n",
      " |-- page: string (nullable = true)\n",
      " |-- registration: long (nullable = true)\n",
      " |-- sessionId: long (nullable = true)\n",
      " |-- song: string (nullable = true)\n",
      " |-- status: long (nullable = true)\n",
      " |-- ts: long (nullable = true)\n",
      " |-- userAgent: string (nullable = true)\n",
      " |-- userId: string (nullable = true)\n",
      "\n"
     ]
    }
   ],
   "source": [
    "# print the schema\n",
    "df.printSchema()"
   ]
  },
  {
   "cell_type": "code",
   "execution_count": 10,
   "metadata": {},
   "outputs": [
    {
     "data": {
      "text/plain": [
       "DataFrame[summary: string, artist: string, auth: string, firstName: string, gender: string, itemInSession: string, lastName: string, length: string, level: string, location: string, method: string, page: string, registration: string, sessionId: string, song: string, status: string, ts: string, userAgent: string, userId: string]"
      ]
     },
     "execution_count": 10,
     "metadata": {},
     "output_type": "execute_result"
    }
   ],
   "source": [
    "df.describe()"
   ]
  },
  {
   "cell_type": "code",
   "execution_count": 11,
   "metadata": {},
   "outputs": [
    {
     "name": "stdout",
     "output_type": "stream",
     "text": [
      "Count of the dataset: 286500\n"
     ]
    }
   ],
   "source": [
    "print('Count of the dataset:', df.count())"
   ]
  },
  {
   "cell_type": "markdown",
   "metadata": {},
   "source": [
    "### Check Missing Values"
   ]
  },
  {
   "cell_type": "code",
   "execution_count": 12,
   "metadata": {},
   "outputs": [],
   "source": [
    "df = df.dropna(how = 'any', subset = [\"userId\", \"sessionId\"])"
   ]
  },
  {
   "cell_type": "code",
   "execution_count": 13,
   "metadata": {},
   "outputs": [
    {
     "data": {
      "text/plain": [
       "286500"
      ]
     },
     "execution_count": 13,
     "metadata": {},
     "output_type": "execute_result"
    }
   ],
   "source": [
    "df.count()"
   ]
  },
  {
   "cell_type": "markdown",
   "metadata": {},
   "source": [
    "We see that the number of lines does not change."
   ]
  },
  {
   "cell_type": "markdown",
   "metadata": {},
   "source": [
    "### Check for duplicate userID"
   ]
  },
  {
   "cell_type": "code",
   "execution_count": 14,
   "metadata": {},
   "outputs": [
    {
     "name": "stdout",
     "output_type": "stream",
     "text": [
      "+------+\n",
      "|userId|\n",
      "+------+\n",
      "|      |\n",
      "|    10|\n",
      "|   100|\n",
      "|100001|\n",
      "|100002|\n",
      "|100003|\n",
      "|100004|\n",
      "|100005|\n",
      "|100006|\n",
      "|100007|\n",
      "|100008|\n",
      "|100009|\n",
      "|100010|\n",
      "|100011|\n",
      "|100012|\n",
      "|100013|\n",
      "|100014|\n",
      "|100015|\n",
      "|100016|\n",
      "|100017|\n",
      "+------+\n",
      "only showing top 20 rows\n",
      "\n"
     ]
    }
   ],
   "source": [
    "df.select(\"userId\").dropDuplicates().sort(\"userId\").show()"
   ]
  },
  {
   "cell_type": "markdown",
   "metadata": {},
   "source": [
    "UserID contains empty values so need to filter to remove those rows"
   ]
  },
  {
   "cell_type": "code",
   "execution_count": 15,
   "metadata": {},
   "outputs": [
    {
     "name": "stdout",
     "output_type": "stream",
     "text": [
      "Number of rows with empty UserID: 8346\n"
     ]
    }
   ],
   "source": [
    "print('Number of rows with empty UserID:', df.filter(df[\"userId\"] == \"\").count())"
   ]
  },
  {
   "cell_type": "code",
   "execution_count": 16,
   "metadata": {},
   "outputs": [],
   "source": [
    "# remove those with an empty string userId\n",
    "df = df.filter(df[\"userId\"] != \"\")"
   ]
  },
  {
   "cell_type": "code",
   "execution_count": 17,
   "metadata": {},
   "outputs": [
    {
     "data": {
      "text/plain": [
       "225"
      ]
     },
     "execution_count": 17,
     "metadata": {},
     "output_type": "execute_result"
    }
   ],
   "source": [
    "df.select(\"userId\").distinct().count()"
   ]
  },
  {
   "cell_type": "markdown",
   "metadata": {},
   "source": [
    "Similarly, we check with the SessionID column."
   ]
  },
  {
   "cell_type": "code",
   "execution_count": 18,
   "metadata": {},
   "outputs": [
    {
     "name": "stdout",
     "output_type": "stream",
     "text": [
      "+---------+\n",
      "|sessionId|\n",
      "+---------+\n",
      "|        1|\n",
      "|        2|\n",
      "|        3|\n",
      "|        4|\n",
      "|        5|\n",
      "|        6|\n",
      "|        7|\n",
      "|        8|\n",
      "|        9|\n",
      "|       10|\n",
      "|       11|\n",
      "|       12|\n",
      "|       13|\n",
      "|       15|\n",
      "|       16|\n",
      "|       17|\n",
      "|       18|\n",
      "|       19|\n",
      "|       20|\n",
      "|       21|\n",
      "+---------+\n",
      "only showing top 20 rows\n",
      "\n"
     ]
    }
   ],
   "source": [
    "df.select(\"sessionId\").dropDuplicates().sort(\"sessionId\").show()"
   ]
  },
  {
   "cell_type": "code",
   "execution_count": 19,
   "metadata": {},
   "outputs": [
    {
     "data": {
      "text/plain": [
       "0"
      ]
     },
     "execution_count": 19,
     "metadata": {},
     "output_type": "execute_result"
    }
   ],
   "source": [
    "df.filter(df[\"sessionId\"] == \"\").count()"
   ]
  },
  {
   "cell_type": "markdown",
   "metadata": {},
   "source": [
    "The sessionId column is quite good and does not contain any null values."
   ]
  },
  {
   "cell_type": "code",
   "execution_count": 20,
   "metadata": {},
   "outputs": [
    {
     "name": "stdout",
     "output_type": "stream",
     "text": [
      "How many rows are there after cleaning the data? 278154\n"
     ]
    }
   ],
   "source": [
    "print('How many rows are there after cleaning the data?', df.count())"
   ]
  },
  {
   "cell_type": "code",
   "execution_count": 21,
   "metadata": {},
   "outputs": [
    {
     "data": {
      "text/html": [
       "<div>\n",
       "<style scoped>\n",
       "    .dataframe tbody tr th:only-of-type {\n",
       "        vertical-align: middle;\n",
       "    }\n",
       "\n",
       "    .dataframe tbody tr th {\n",
       "        vertical-align: top;\n",
       "    }\n",
       "\n",
       "    .dataframe thead th {\n",
       "        text-align: right;\n",
       "    }\n",
       "</style>\n",
       "<table border=\"1\" class=\"dataframe\">\n",
       "  <thead>\n",
       "    <tr style=\"text-align: right;\">\n",
       "      <th></th>\n",
       "      <th>artist</th>\n",
       "      <th>auth</th>\n",
       "      <th>firstName</th>\n",
       "      <th>gender</th>\n",
       "      <th>itemInSession</th>\n",
       "      <th>lastName</th>\n",
       "      <th>length</th>\n",
       "      <th>level</th>\n",
       "      <th>location</th>\n",
       "      <th>method</th>\n",
       "      <th>page</th>\n",
       "      <th>registration</th>\n",
       "      <th>sessionId</th>\n",
       "      <th>song</th>\n",
       "      <th>status</th>\n",
       "      <th>ts</th>\n",
       "      <th>userAgent</th>\n",
       "      <th>userId</th>\n",
       "    </tr>\n",
       "  </thead>\n",
       "  <tbody>\n",
       "    <tr>\n",
       "      <th>0</th>\n",
       "      <td>Martha Tilston</td>\n",
       "      <td>Logged In</td>\n",
       "      <td>Colin</td>\n",
       "      <td>M</td>\n",
       "      <td>50</td>\n",
       "      <td>Freeman</td>\n",
       "      <td>277.89016</td>\n",
       "      <td>paid</td>\n",
       "      <td>Bakersfield, CA</td>\n",
       "      <td>PUT</td>\n",
       "      <td>NextSong</td>\n",
       "      <td>1538173362000</td>\n",
       "      <td>29</td>\n",
       "      <td>Rockpools</td>\n",
       "      <td>200</td>\n",
       "      <td>1538352117000</td>\n",
       "      <td>Mozilla/5.0 (Windows NT 6.1; WOW64; rv:31.0) G...</td>\n",
       "      <td>30</td>\n",
       "    </tr>\n",
       "    <tr>\n",
       "      <th>1</th>\n",
       "      <td>Five Iron Frenzy</td>\n",
       "      <td>Logged In</td>\n",
       "      <td>Micah</td>\n",
       "      <td>M</td>\n",
       "      <td>79</td>\n",
       "      <td>Long</td>\n",
       "      <td>236.09424</td>\n",
       "      <td>free</td>\n",
       "      <td>Boston-Cambridge-Newton, MA-NH</td>\n",
       "      <td>PUT</td>\n",
       "      <td>NextSong</td>\n",
       "      <td>1538331630000</td>\n",
       "      <td>8</td>\n",
       "      <td>Canada</td>\n",
       "      <td>200</td>\n",
       "      <td>1538352180000</td>\n",
       "      <td>\"Mozilla/5.0 (Windows NT 6.1; WOW64) AppleWebK...</td>\n",
       "      <td>9</td>\n",
       "    </tr>\n",
       "    <tr>\n",
       "      <th>2</th>\n",
       "      <td>Adam Lambert</td>\n",
       "      <td>Logged In</td>\n",
       "      <td>Colin</td>\n",
       "      <td>M</td>\n",
       "      <td>51</td>\n",
       "      <td>Freeman</td>\n",
       "      <td>282.82730</td>\n",
       "      <td>paid</td>\n",
       "      <td>Bakersfield, CA</td>\n",
       "      <td>PUT</td>\n",
       "      <td>NextSong</td>\n",
       "      <td>1538173362000</td>\n",
       "      <td>29</td>\n",
       "      <td>Time For Miracles</td>\n",
       "      <td>200</td>\n",
       "      <td>1538352394000</td>\n",
       "      <td>Mozilla/5.0 (Windows NT 6.1; WOW64; rv:31.0) G...</td>\n",
       "      <td>30</td>\n",
       "    </tr>\n",
       "    <tr>\n",
       "      <th>3</th>\n",
       "      <td>Enigma</td>\n",
       "      <td>Logged In</td>\n",
       "      <td>Micah</td>\n",
       "      <td>M</td>\n",
       "      <td>80</td>\n",
       "      <td>Long</td>\n",
       "      <td>262.71302</td>\n",
       "      <td>free</td>\n",
       "      <td>Boston-Cambridge-Newton, MA-NH</td>\n",
       "      <td>PUT</td>\n",
       "      <td>NextSong</td>\n",
       "      <td>1538331630000</td>\n",
       "      <td>8</td>\n",
       "      <td>Knocking On Forbidden Doors</td>\n",
       "      <td>200</td>\n",
       "      <td>1538352416000</td>\n",
       "      <td>\"Mozilla/5.0 (Windows NT 6.1; WOW64) AppleWebK...</td>\n",
       "      <td>9</td>\n",
       "    </tr>\n",
       "    <tr>\n",
       "      <th>4</th>\n",
       "      <td>Daft Punk</td>\n",
       "      <td>Logged In</td>\n",
       "      <td>Colin</td>\n",
       "      <td>M</td>\n",
       "      <td>52</td>\n",
       "      <td>Freeman</td>\n",
       "      <td>223.60771</td>\n",
       "      <td>paid</td>\n",
       "      <td>Bakersfield, CA</td>\n",
       "      <td>PUT</td>\n",
       "      <td>NextSong</td>\n",
       "      <td>1538173362000</td>\n",
       "      <td>29</td>\n",
       "      <td>Harder Better Faster Stronger</td>\n",
       "      <td>200</td>\n",
       "      <td>1538352676000</td>\n",
       "      <td>Mozilla/5.0 (Windows NT 6.1; WOW64; rv:31.0) G...</td>\n",
       "      <td>30</td>\n",
       "    </tr>\n",
       "  </tbody>\n",
       "</table>\n",
       "</div>"
      ],
      "text/plain": [
       "             artist       auth firstName gender  itemInSession lastName  \\\n",
       "0    Martha Tilston  Logged In     Colin      M             50  Freeman   \n",
       "1  Five Iron Frenzy  Logged In     Micah      M             79     Long   \n",
       "2      Adam Lambert  Logged In     Colin      M             51  Freeman   \n",
       "3            Enigma  Logged In     Micah      M             80     Long   \n",
       "4         Daft Punk  Logged In     Colin      M             52  Freeman   \n",
       "\n",
       "      length level                        location method      page  \\\n",
       "0  277.89016  paid                 Bakersfield, CA    PUT  NextSong   \n",
       "1  236.09424  free  Boston-Cambridge-Newton, MA-NH    PUT  NextSong   \n",
       "2  282.82730  paid                 Bakersfield, CA    PUT  NextSong   \n",
       "3  262.71302  free  Boston-Cambridge-Newton, MA-NH    PUT  NextSong   \n",
       "4  223.60771  paid                 Bakersfield, CA    PUT  NextSong   \n",
       "\n",
       "    registration  sessionId                           song  status  \\\n",
       "0  1538173362000         29                      Rockpools     200   \n",
       "1  1538331630000          8                         Canada     200   \n",
       "2  1538173362000         29              Time For Miracles     200   \n",
       "3  1538331630000          8    Knocking On Forbidden Doors     200   \n",
       "4  1538173362000         29  Harder Better Faster Stronger     200   \n",
       "\n",
       "              ts                                          userAgent userId  \n",
       "0  1538352117000  Mozilla/5.0 (Windows NT 6.1; WOW64; rv:31.0) G...     30  \n",
       "1  1538352180000  \"Mozilla/5.0 (Windows NT 6.1; WOW64) AppleWebK...      9  \n",
       "2  1538352394000  Mozilla/5.0 (Windows NT 6.1; WOW64; rv:31.0) G...     30  \n",
       "3  1538352416000  \"Mozilla/5.0 (Windows NT 6.1; WOW64) AppleWebK...      9  \n",
       "4  1538352676000  Mozilla/5.0 (Windows NT 6.1; WOW64; rv:31.0) G...     30  "
      ]
     },
     "execution_count": 21,
     "metadata": {},
     "output_type": "execute_result"
    }
   ],
   "source": [
    "# Convert data to pandas dataframe\n",
    "df_pandas = df.toPandas()\n",
    "df_pandas.head()"
   ]
  },
  {
   "cell_type": "markdown",
   "metadata": {},
   "source": [
    "# Exploratory Data Analysis\n",
    "When you're working with the full dataset, perform EDA by loading a small subset of the data and doing basic manipulations within Spark. In this workspace, you are already provided a small subset of data you can explore.\n",
    "\n",
    "### Define Churn\n",
    "\n",
    "Once you've done some preliminary analysis, create a column `Churn` to use as the label for your model. I suggest using the `Cancellation Confirmation` events to define your churn, which happen for both paid and free users. As a bonus task, you can also look into the `Downgrade` events.\n",
    "\n",
    "### Explore Data\n",
    "Once you've defined churn, perform some exploratory data analysis to observe the behavior for users who stayed vs users who churned. You can start by exploring aggregates on these two groups of users, observing how much of a specific action they experienced per a certain time unit or number of songs played."
   ]
  },
  {
   "cell_type": "markdown",
   "metadata": {},
   "source": [
    "#### How many users have confirmed service cancellation?"
   ]
  },
  {
   "cell_type": "markdown",
   "metadata": {},
   "source": [
    "Determine the label of each user to see who churned based on the page column in the data"
   ]
  },
  {
   "cell_type": "code",
   "execution_count": 22,
   "metadata": {},
   "outputs": [
    {
     "name": "stdout",
     "output_type": "stream",
     "text": [
      "+--------------------+\n",
      "|                page|\n",
      "+--------------------+\n",
      "|              Cancel|\n",
      "|    Submit Downgrade|\n",
      "|         Thumbs Down|\n",
      "|                Home|\n",
      "|           Downgrade|\n",
      "|         Roll Advert|\n",
      "|              Logout|\n",
      "|       Save Settings|\n",
      "|Cancellation Conf...|\n",
      "|               About|\n",
      "|            Settings|\n",
      "|     Add to Playlist|\n",
      "|          Add Friend|\n",
      "|            NextSong|\n",
      "|           Thumbs Up|\n",
      "|                Help|\n",
      "|             Upgrade|\n",
      "|               Error|\n",
      "|      Submit Upgrade|\n",
      "+--------------------+\n",
      "\n"
     ]
    }
   ],
   "source": [
    "df.select(\"page\").dropDuplicates().show()"
   ]
  },
  {
   "cell_type": "markdown",
   "metadata": {},
   "source": [
    "We see that there are multiple pages that users are directed to and the Cancellation Confirmation page is the page where the user confirms that they will cancel the service. Let's see how many users are directed to this page."
   ]
  },
  {
   "cell_type": "code",
   "execution_count": 23,
   "metadata": {},
   "outputs": [
    {
     "data": {
      "text/plain": [
       "52"
      ]
     },
     "execution_count": 23,
     "metadata": {},
     "output_type": "execute_result"
    }
   ],
   "source": [
    "df.select([\"userId\", \"page\"]).where(df.page == \"Cancellation Confirmation\").count()"
   ]
  },
  {
   "cell_type": "code",
   "execution_count": 24,
   "metadata": {},
   "outputs": [
    {
     "name": "stdout",
     "output_type": "stream",
     "text": [
      "+------+--------------------+\n",
      "|userId|                page|\n",
      "+------+--------------------+\n",
      "|    18|Cancellation Conf...|\n",
      "|    32|Cancellation Conf...|\n",
      "|   125|Cancellation Conf...|\n",
      "|   105|Cancellation Conf...|\n",
      "|    17|Cancellation Conf...|\n",
      "|   143|Cancellation Conf...|\n",
      "|   101|Cancellation Conf...|\n",
      "|   129|Cancellation Conf...|\n",
      "|   121|Cancellation Conf...|\n",
      "|    51|Cancellation Conf...|\n",
      "|    87|Cancellation Conf...|\n",
      "|   122|Cancellation Conf...|\n",
      "|    12|Cancellation Conf...|\n",
      "|    58|Cancellation Conf...|\n",
      "|    73|Cancellation Conf...|\n",
      "|     3|Cancellation Conf...|\n",
      "|   106|Cancellation Conf...|\n",
      "|   103|Cancellation Conf...|\n",
      "|    28|Cancellation Conf...|\n",
      "|    54|Cancellation Conf...|\n",
      "+------+--------------------+\n",
      "only showing top 20 rows\n",
      "\n"
     ]
    }
   ],
   "source": [
    "df.select([\"userId\", \"page\"]).where(df.page == \"Cancellation Confirmation\").show()"
   ]
  },
  {
   "cell_type": "markdown",
   "metadata": {},
   "source": [
    "We will label churned users as 1 and not churned users as 0"
   ]
  },
  {
   "cell_type": "code",
   "execution_count": 25,
   "metadata": {},
   "outputs": [],
   "source": [
    "churn_data = udf(lambda x: 1 if x == \"Cancellation Confirmation\" else 0, IntegerType())"
   ]
  },
  {
   "cell_type": "markdown",
   "metadata": {},
   "source": [
    "Add churn column to df"
   ]
  },
  {
   "cell_type": "code",
   "execution_count": 26,
   "metadata": {},
   "outputs": [
    {
     "name": "stdout",
     "output_type": "stream",
     "text": [
      "+--------------------+---------+---------+------+-------------+--------+---------+-----+--------------------+------+---------------+-------------+---------+--------------------+------+-------------+--------------------+------+-----+\n",
      "|              artist|     auth|firstName|gender|itemInSession|lastName|   length|level|            location|method|           page| registration|sessionId|                song|status|           ts|           userAgent|userId|churn|\n",
      "+--------------------+---------+---------+------+-------------+--------+---------+-----+--------------------+------+---------------+-------------+---------+--------------------+------+-------------+--------------------+------+-----+\n",
      "|      Martha Tilston|Logged In|    Colin|     M|           50| Freeman|277.89016| paid|     Bakersfield, CA|   PUT|       NextSong|1538173362000|       29|           Rockpools|   200|1538352117000|Mozilla/5.0 (Wind...|    30|    0|\n",
      "|    Five Iron Frenzy|Logged In|    Micah|     M|           79|    Long|236.09424| free|Boston-Cambridge-...|   PUT|       NextSong|1538331630000|        8|              Canada|   200|1538352180000|\"Mozilla/5.0 (Win...|     9|    0|\n",
      "|        Adam Lambert|Logged In|    Colin|     M|           51| Freeman| 282.8273| paid|     Bakersfield, CA|   PUT|       NextSong|1538173362000|       29|   Time For Miracles|   200|1538352394000|Mozilla/5.0 (Wind...|    30|    0|\n",
      "|              Enigma|Logged In|    Micah|     M|           80|    Long|262.71302| free|Boston-Cambridge-...|   PUT|       NextSong|1538331630000|        8|Knocking On Forbi...|   200|1538352416000|\"Mozilla/5.0 (Win...|     9|    0|\n",
      "|           Daft Punk|Logged In|    Colin|     M|           52| Freeman|223.60771| paid|     Bakersfield, CA|   PUT|       NextSong|1538173362000|       29|Harder Better Fas...|   200|1538352676000|Mozilla/5.0 (Wind...|    30|    0|\n",
      "|The All-American ...|Logged In|    Micah|     M|           81|    Long|208.29995| free|Boston-Cambridge-...|   PUT|       NextSong|1538331630000|        8|      Don't Leave Me|   200|1538352678000|\"Mozilla/5.0 (Win...|     9|    0|\n",
      "|The Velvet Underg...|Logged In|    Micah|     M|           82|    Long|260.46649| free|Boston-Cambridge-...|   PUT|       NextSong|1538331630000|        8|         Run Run Run|   200|1538352886000|\"Mozilla/5.0 (Win...|     9|    0|\n",
      "|        Starflyer 59|Logged In|    Colin|     M|           53| Freeman|185.44281| paid|     Bakersfield, CA|   PUT|       NextSong|1538173362000|       29|Passengers (Old A...|   200|1538352899000|Mozilla/5.0 (Wind...|    30|    0|\n",
      "|                null|Logged In|    Colin|     M|           54| Freeman|     null| paid|     Bakersfield, CA|   PUT|Add to Playlist|1538173362000|       29|                null|   200|1538352905000|Mozilla/5.0 (Wind...|    30|    0|\n",
      "|            Frumpies|Logged In|    Colin|     M|           55| Freeman|134.47791| paid|     Bakersfield, CA|   PUT|       NextSong|1538173362000|       29|          Fuck Kitty|   200|1538353084000|Mozilla/5.0 (Wind...|    30|    0|\n",
      "|        Britt Nicole|Logged In|    Micah|     M|           83|    Long| 229.8771| free|Boston-Cambridge-...|   PUT|       NextSong|1538331630000|        8|   Walk On The Water|   200|1538353146000|\"Mozilla/5.0 (Win...|     9|    0|\n",
      "|                null|Logged In|    Micah|     M|           84|    Long|     null| free|Boston-Cambridge-...|   GET|    Roll Advert|1538331630000|        8|                null|   200|1538353150000|\"Mozilla/5.0 (Win...|     9|    0|\n",
      "|Edward Sharpe & T...|Logged In|    Colin|     M|           56| Freeman|223.58159| paid|     Bakersfield, CA|   PUT|       NextSong|1538173362000|       29|                Jade|   200|1538353218000|Mozilla/5.0 (Wind...|    30|    0|\n",
      "|               Tesla|Logged In|    Micah|     M|           85|    Long|201.06404| free|Boston-Cambridge-...|   PUT|       NextSong|1538331630000|        8|      Gettin' Better|   200|1538353375000|\"Mozilla/5.0 (Win...|     9|    0|\n",
      "|                null|Logged In|    Micah|     M|           86|    Long|     null| free|Boston-Cambridge-...|   PUT|      Thumbs Up|1538331630000|        8|                null|   307|1538353376000|\"Mozilla/5.0 (Win...|     9|    0|\n",
      "|         Stan Mosley|Logged In|    Colin|     M|           57| Freeman|246.69995| paid|     Bakersfield, CA|   PUT|       NextSong|1538173362000|       29|   So-Called Friends|   200|1538353441000|Mozilla/5.0 (Wind...|    30|    0|\n",
      "|Florence + The Ma...|Logged In|    Micah|     M|           87|    Long|168.64608| free|Boston-Cambridge-...|   PUT|       NextSong|1538331630000|        8| You've Got The Love|   200|1538353576000|\"Mozilla/5.0 (Win...|     9|    0|\n",
      "|   Tokyo Police Club|Logged In|  Ashlynn|     F|            0|Williams| 166.1122| free|     Tallahassee, FL|   PUT|       NextSong|1537365219000|      217|Citizens Of Tomorrow|   200|1538353668000|\"Mozilla/5.0 (Mac...|    74|    0|\n",
      "|             Orishas|Logged In|    Colin|     M|           58| Freeman|222.22322| paid|     Bakersfield, CA|   PUT|       NextSong|1538173362000|       29|           Represent|   200|1538353687000|Mozilla/5.0 (Wind...|    30|    0|\n",
      "|             Ratatat|Logged In|    Micah|     M|           88|    Long|229.77261| free|Boston-Cambridge-...|   PUT|       NextSong|1538331630000|        8|              Swisha|   200|1538353744000|\"Mozilla/5.0 (Win...|     9|    0|\n",
      "+--------------------+---------+---------+------+-------------+--------+---------+-----+--------------------+------+---------------+-------------+---------+--------------------+------+-------------+--------------------+------+-----+\n",
      "only showing top 20 rows\n",
      "\n"
     ]
    }
   ],
   "source": [
    "df = df.withColumn(\"churn\", churn_data(\"page\"))\n",
    "df.show()"
   ]
  },
  {
   "cell_type": "code",
   "execution_count": 27,
   "metadata": {},
   "outputs": [
    {
     "name": "stdout",
     "output_type": "stream",
     "text": [
      "+-----+------+\n",
      "|churn| count|\n",
      "+-----+------+\n",
      "|    1|    52|\n",
      "|    0|278102|\n",
      "+-----+------+\n",
      "\n"
     ]
    }
   ],
   "source": [
    "df.select('churn').groupBy('churn').count().show()"
   ]
  },
  {
   "cell_type": "markdown",
   "metadata": {},
   "source": [
    "Since users can be navigating to different pages at different times, a user can have both a churn status of 0 and a churn status of 1. "
   ]
  },
  {
   "cell_type": "code",
   "execution_count": 28,
   "metadata": {},
   "outputs": [
    {
     "name": "stdout",
     "output_type": "stream",
     "text": [
      "+------+-----+\n",
      "|userId|count|\n",
      "+------+-----+\n",
      "|300001|    2|\n",
      "|100022|    2|\n",
      "|    18|    2|\n",
      "|    29|    2|\n",
      "|100025|    2|\n",
      "|300007|    2|\n",
      "|    70|    2|\n",
      "|100021|    2|\n",
      "|   125|    2|\n",
      "|     3|    2|\n",
      "|    28|    2|\n",
      "|100006|    2|\n",
      "|    54|    2|\n",
      "|100005|    2|\n",
      "|100007|    2|\n",
      "|100014|    2|\n",
      "|    51|    2|\n",
      "|   101|    2|\n",
      "|    73|    2|\n",
      "|    87|    2|\n",
      "+------+-----+\n",
      "only showing top 20 rows\n",
      "\n"
     ]
    }
   ],
   "source": [
    "# Count the number of states of each user\n",
    "df_churn = (\n",
    "    df.select(['userId', 'churn'])\n",
    "      .dropDuplicates()\n",
    "      .groupBy('userId')\n",
    "      .count()\n",
    "      .orderBy(F.col('count').desc())  # Sort descending by 'count' column\n",
    ")\n",
    "\n",
    "df_churn.show()"
   ]
  },
  {
   "cell_type": "markdown",
   "metadata": {},
   "source": [
    "Calculate the cumulative total for each user over time to ensure each user has only 1 churn state."
   ]
  },
  {
   "cell_type": "code",
   "execution_count": 29,
   "metadata": {},
   "outputs": [],
   "source": [
    "windowval = Window.partitionBy(\"userId\").orderBy(desc(\"ts\")).rangeBetween(Window.unboundedPreceding, 0)\n"
   ]
  },
  {
   "cell_type": "code",
   "execution_count": 30,
   "metadata": {},
   "outputs": [
    {
     "name": "stdout",
     "output_type": "stream",
     "text": [
      "+--------------------+---------+---------+------+-------------+---------+---------+-----+--------------------+------+-----------+-------------+---------+--------------------+------+-------------+--------------------+------+-----+\n",
      "|              artist|     auth|firstName|gender|itemInSession| lastName|   length|level|            location|method|       page| registration|sessionId|                song|status|           ts|           userAgent|userId|churn|\n",
      "+--------------------+---------+---------+------+-------------+---------+---------+-----+--------------------+------+-----------+-------------+---------+--------------------+------+-------------+--------------------+------+-----+\n",
      "|                null|Logged In| Darianna|     F|           34|Carpenter|     null| free|Bridgeport-Stamfo...|   PUT|     Logout|1538016340000|      187|                null|   307|1542823952000|\"Mozilla/5.0 (iPh...|100010|    0|\n",
      "|          Lily Allen|Logged In| Darianna|     F|           33|Carpenter|185.25995| free|Bridgeport-Stamfo...|   PUT|   NextSong|1538016340000|      187|                  22|   200|1542823951000|\"Mozilla/5.0 (iPh...|100010|    0|\n",
      "|          John Waite|Logged In| Darianna|     F|           32|Carpenter|269.76608| free|Bridgeport-Stamfo...|   PUT|   NextSong|1538016340000|      187|         Missing You|   200|1542823682000|\"Mozilla/5.0 (iPh...|100010|    0|\n",
      "|             Hermano|Logged In| Darianna|     F|           31|Carpenter|115.90485| free|Bridgeport-Stamfo...|   PUT|   NextSong|1538016340000|      187| Letters From Madrid|   200|1542823567000|\"Mozilla/5.0 (iPh...|100010|    0|\n",
      "|                null|Logged In| Darianna|     F|           30|Carpenter|     null| free|Bridgeport-Stamfo...|   GET|Roll Advert|1538016340000|      187|                null|   200|1542823257000|\"Mozilla/5.0 (iPh...|100010|    0|\n",
      "|            Hot Chip|Logged In| Darianna|     F|           29|Carpenter|319.42485| free|Bridgeport-Stamfo...|   PUT|   NextSong|1538016340000|      187|          Alley Cats|   200|1542823248000|\"Mozilla/5.0 (iPh...|100010|    0|\n",
      "|              Eminem|Logged In| Darianna|     F|           28|Carpenter|302.57587| free|Bridgeport-Stamfo...|   PUT|   NextSong|1538016340000|      187|      Taking My Ball|   200|1542822946000|\"Mozilla/5.0 (iPh...|100010|    0|\n",
      "|          The Police|Logged In| Darianna|     F|           27|Carpenter|305.05751| free|Bridgeport-Stamfo...|   PUT|   NextSong|1538016340000|      187| Walking On The Moon|   200|1542822641000|\"Mozilla/5.0 (iPh...|100010|    0|\n",
      "|               Ke$ha|Logged In| Darianna|     F|           26|Carpenter|207.64689| free|Bridgeport-Stamfo...|   PUT|   NextSong|1538016340000|      187|         Kiss N Tell|   200|1542822434000|\"Mozilla/5.0 (iPh...|100010|    0|\n",
      "|        Gwen Stefani|Logged In| Darianna|     F|           25|Carpenter|264.93342| free|Bridgeport-Stamfo...|   PUT|   NextSong|1538016340000|      187|           Luxurious|   200|1542822170000|\"Mozilla/5.0 (iPh...|100010|    0|\n",
      "|                null|Logged In| Darianna|     F|           24|Carpenter|     null| free|Bridgeport-Stamfo...|   PUT|  Thumbs Up|1538016340000|      187|                null|   307|1542821944000|\"Mozilla/5.0 (iPh...|100010|    0|\n",
      "|           DJ Khaled|Logged In| Darianna|     F|           23|Carpenter|  227.082| free|Bridgeport-Stamfo...|   PUT|   NextSong|1538016340000|      187|All I Do Is Win (...|   200|1542821943000|\"Mozilla/5.0 (iPh...|100010|    0|\n",
      "|      Kelly Clarkson|Logged In| Darianna|     F|           22|Carpenter| 281.5473| free|Bridgeport-Stamfo...|   PUT|   NextSong|1538016340000|      187|        Already Gone|   200|1542821662000|\"Mozilla/5.0 (iPh...|100010|    0|\n",
      "|           Bob James|Logged In| Darianna|     F|           21|Carpenter|345.05098| free|Bridgeport-Stamfo...|   PUT|   NextSong|1538016340000|      187|Angela (Theme Fro...|   200|1542821317000|\"Mozilla/5.0 (iPh...|100010|    0|\n",
      "|Nick Cave & The B...|Logged In| Darianna|     F|           20|Carpenter|367.15057| free|Bridgeport-Stamfo...|   PUT|   NextSong|1538016340000|      187|We Came Along Thi...|   200|1542820950000|\"Mozilla/5.0 (iPh...|100010|    0|\n",
      "|                T.I.|Logged In| Darianna|     F|           19|Carpenter|299.75465| free|Bridgeport-Stamfo...|   PUT|   NextSong|1538016340000|      187|Dead And Gone [fe...|   200|1542820651000|\"Mozilla/5.0 (iPh...|100010|    0|\n",
      "|          Sev Statik|Logged In| Darianna|     F|           18|Carpenter|214.80444| free|Bridgeport-Stamfo...|   PUT|   NextSong|1538016340000|      187|MIC (Speak Life A...|   200|1542820437000|\"Mozilla/5.0 (iPh...|100010|    0|\n",
      "|                null|Logged In| Darianna|     F|           17|Carpenter|     null| free|Bridgeport-Stamfo...|   PUT|  Thumbs Up|1538016340000|      187|                null|   307|1542820180000|\"Mozilla/5.0 (iPh...|100010|    0|\n",
      "|       Drowning Pool|Logged In| Darianna|     F|           16|Carpenter|258.16771| free|Bridgeport-Stamfo...|   PUT|   NextSong|1538016340000|      187|Up Side Down (Exp...|   200|1542820179000|\"Mozilla/5.0 (iPh...|100010|    0|\n",
      "|                null|Logged In| Darianna|     F|           15|Carpenter|     null| free|Bridgeport-Stamfo...|   PUT|Thumbs Down|1538016340000|      187|                null|   307|1542819920000|\"Mozilla/5.0 (iPh...|100010|    0|\n",
      "+--------------------+---------+---------+------+-------------+---------+---------+-----+--------------------+------+-----------+-------------+---------+--------------------+------+-------------+--------------------+------+-----+\n",
      "only showing top 20 rows\n",
      "\n"
     ]
    }
   ],
   "source": [
    "df = df.withColumn(\n",
    "    \"churn\",\n",
    "    F.sum(\"churn\").over(windowval)\n",
    ")\n",
    "\n",
    "df.show()"
   ]
  },
  {
   "cell_type": "code",
   "execution_count": 31,
   "metadata": {},
   "outputs": [],
   "source": [
    "df_churn = df.select(['userId', 'churn']).dropDuplicates().groupBy('churn').count()"
   ]
  },
  {
   "cell_type": "code",
   "execution_count": 32,
   "metadata": {},
   "outputs": [
    {
     "name": "stdout",
     "output_type": "stream",
     "text": [
      "+-----+-----+\n",
      "|churn|count|\n",
      "+-----+-----+\n",
      "|    0|  173|\n",
      "|    1|   52|\n",
      "+-----+-----+\n",
      "\n"
     ]
    }
   ],
   "source": [
    "df_churn.show()"
   ]
  },
  {
   "cell_type": "code",
   "execution_count": 33,
   "metadata": {},
   "outputs": [],
   "source": [
    "df_churn = df_churn.toPandas()"
   ]
  },
  {
   "cell_type": "code",
   "execution_count": 34,
   "metadata": {},
   "outputs": [
    {
     "data": {
      "text/html": [
       "<div>\n",
       "<style scoped>\n",
       "    .dataframe tbody tr th:only-of-type {\n",
       "        vertical-align: middle;\n",
       "    }\n",
       "\n",
       "    .dataframe tbody tr th {\n",
       "        vertical-align: top;\n",
       "    }\n",
       "\n",
       "    .dataframe thead th {\n",
       "        text-align: right;\n",
       "    }\n",
       "</style>\n",
       "<table border=\"1\" class=\"dataframe\">\n",
       "  <thead>\n",
       "    <tr style=\"text-align: right;\">\n",
       "      <th></th>\n",
       "      <th>churn</th>\n",
       "      <th>count</th>\n",
       "    </tr>\n",
       "  </thead>\n",
       "  <tbody>\n",
       "    <tr>\n",
       "      <th>0</th>\n",
       "      <td>0</td>\n",
       "      <td>173</td>\n",
       "    </tr>\n",
       "    <tr>\n",
       "      <th>1</th>\n",
       "      <td>1</td>\n",
       "      <td>52</td>\n",
       "    </tr>\n",
       "  </tbody>\n",
       "</table>\n",
       "</div>"
      ],
      "text/plain": [
       "   churn  count\n",
       "0      0    173\n",
       "1      1     52"
      ]
     },
     "execution_count": 34,
     "metadata": {},
     "output_type": "execute_result"
    }
   ],
   "source": [
    "df_churn.head()"
   ]
  },
  {
   "cell_type": "code",
   "execution_count": 35,
   "metadata": {},
   "outputs": [
    {
     "data": {
      "image/png": "[encoded data removed]",
      "text/plain": [
       "<matplotlib.figure.Figure at 0x7b8a479c17b8>"
      ]
     },
     "metadata": {},
     "output_type": "display_data"
    }
   ],
   "source": [
    "# Plotting the pie chart\n",
    "df_churn.set_index('churn')['count'].plot.pie(\n",
    "    autopct='%1.1f%%',  # Display percentages with 1 decimal point\n",
    "    startangle=90,      # Rotate the pie chart to start at 90 degrees\n",
    "    figsize=(6, 6),     # Set the figure size\n",
    "    title='Churn Distribution'  # Add a title\n",
    ")\n",
    "\n",
    "# Display the plot\n",
    "plt.ylabel('')  # Remove y-axis label for better visual\n",
    "plt.savefig('churn_distribution.png')\n"
   ]
  },
  {
   "cell_type": "markdown",
   "metadata": {},
   "source": [
    "!['Churn Distribution](churn_distribution.png)\n",
    "From the chart above we can see that more than 23% of users churned (53 users)."
   ]
  },
  {
   "cell_type": "markdown",
   "metadata": {},
   "source": [
    "#### How does user listening time influence churn?"
   ]
  },
  {
   "cell_type": "code",
   "execution_count": 36,
   "metadata": {},
   "outputs": [],
   "source": [
    "df_length = df.filter(df['length'] != \"NaN\")"
   ]
  },
  {
   "cell_type": "code",
   "execution_count": 37,
   "metadata": {},
   "outputs": [
    {
     "data": {
      "text/html": [
       "<div>\n",
       "<style scoped>\n",
       "    .dataframe tbody tr th:only-of-type {\n",
       "        vertical-align: middle;\n",
       "    }\n",
       "\n",
       "    .dataframe tbody tr th {\n",
       "        vertical-align: top;\n",
       "    }\n",
       "\n",
       "    .dataframe thead th {\n",
       "        text-align: right;\n",
       "    }\n",
       "</style>\n",
       "<table border=\"1\" class=\"dataframe\">\n",
       "  <thead>\n",
       "    <tr style=\"text-align: right;\">\n",
       "      <th></th>\n",
       "      <th>artist</th>\n",
       "      <th>auth</th>\n",
       "      <th>firstName</th>\n",
       "      <th>gender</th>\n",
       "      <th>itemInSession</th>\n",
       "      <th>lastName</th>\n",
       "      <th>length</th>\n",
       "      <th>level</th>\n",
       "      <th>location</th>\n",
       "      <th>method</th>\n",
       "      <th>page</th>\n",
       "      <th>registration</th>\n",
       "      <th>sessionId</th>\n",
       "      <th>song</th>\n",
       "      <th>status</th>\n",
       "      <th>ts</th>\n",
       "      <th>userAgent</th>\n",
       "      <th>userId</th>\n",
       "      <th>churn</th>\n",
       "    </tr>\n",
       "  </thead>\n",
       "  <tbody>\n",
       "    <tr>\n",
       "      <th>0</th>\n",
       "      <td>Lily Allen</td>\n",
       "      <td>Logged In</td>\n",
       "      <td>Darianna</td>\n",
       "      <td>F</td>\n",
       "      <td>33</td>\n",
       "      <td>Carpenter</td>\n",
       "      <td>185.25995</td>\n",
       "      <td>free</td>\n",
       "      <td>Bridgeport-Stamford-Norwalk, CT</td>\n",
       "      <td>PUT</td>\n",
       "      <td>NextSong</td>\n",
       "      <td>1538016340000</td>\n",
       "      <td>187</td>\n",
       "      <td>22</td>\n",
       "      <td>200</td>\n",
       "      <td>1542823951000</td>\n",
       "      <td>\"Mozilla/5.0 (iPhone; CPU iPhone OS 7_1_2 like...</td>\n",
       "      <td>100010</td>\n",
       "      <td>0</td>\n",
       "    </tr>\n",
       "    <tr>\n",
       "      <th>1</th>\n",
       "      <td>John Waite</td>\n",
       "      <td>Logged In</td>\n",
       "      <td>Darianna</td>\n",
       "      <td>F</td>\n",
       "      <td>32</td>\n",
       "      <td>Carpenter</td>\n",
       "      <td>269.76608</td>\n",
       "      <td>free</td>\n",
       "      <td>Bridgeport-Stamford-Norwalk, CT</td>\n",
       "      <td>PUT</td>\n",
       "      <td>NextSong</td>\n",
       "      <td>1538016340000</td>\n",
       "      <td>187</td>\n",
       "      <td>Missing You</td>\n",
       "      <td>200</td>\n",
       "      <td>1542823682000</td>\n",
       "      <td>\"Mozilla/5.0 (iPhone; CPU iPhone OS 7_1_2 like...</td>\n",
       "      <td>100010</td>\n",
       "      <td>0</td>\n",
       "    </tr>\n",
       "    <tr>\n",
       "      <th>2</th>\n",
       "      <td>Hermano</td>\n",
       "      <td>Logged In</td>\n",
       "      <td>Darianna</td>\n",
       "      <td>F</td>\n",
       "      <td>31</td>\n",
       "      <td>Carpenter</td>\n",
       "      <td>115.90485</td>\n",
       "      <td>free</td>\n",
       "      <td>Bridgeport-Stamford-Norwalk, CT</td>\n",
       "      <td>PUT</td>\n",
       "      <td>NextSong</td>\n",
       "      <td>1538016340000</td>\n",
       "      <td>187</td>\n",
       "      <td>Letters From Madrid</td>\n",
       "      <td>200</td>\n",
       "      <td>1542823567000</td>\n",
       "      <td>\"Mozilla/5.0 (iPhone; CPU iPhone OS 7_1_2 like...</td>\n",
       "      <td>100010</td>\n",
       "      <td>0</td>\n",
       "    </tr>\n",
       "    <tr>\n",
       "      <th>3</th>\n",
       "      <td>Hot Chip</td>\n",
       "      <td>Logged In</td>\n",
       "      <td>Darianna</td>\n",
       "      <td>F</td>\n",
       "      <td>29</td>\n",
       "      <td>Carpenter</td>\n",
       "      <td>319.42485</td>\n",
       "      <td>free</td>\n",
       "      <td>Bridgeport-Stamford-Norwalk, CT</td>\n",
       "      <td>PUT</td>\n",
       "      <td>NextSong</td>\n",
       "      <td>1538016340000</td>\n",
       "      <td>187</td>\n",
       "      <td>Alley Cats</td>\n",
       "      <td>200</td>\n",
       "      <td>1542823248000</td>\n",
       "      <td>\"Mozilla/5.0 (iPhone; CPU iPhone OS 7_1_2 like...</td>\n",
       "      <td>100010</td>\n",
       "      <td>0</td>\n",
       "    </tr>\n",
       "    <tr>\n",
       "      <th>4</th>\n",
       "      <td>Eminem</td>\n",
       "      <td>Logged In</td>\n",
       "      <td>Darianna</td>\n",
       "      <td>F</td>\n",
       "      <td>28</td>\n",
       "      <td>Carpenter</td>\n",
       "      <td>302.57587</td>\n",
       "      <td>free</td>\n",
       "      <td>Bridgeport-Stamford-Norwalk, CT</td>\n",
       "      <td>PUT</td>\n",
       "      <td>NextSong</td>\n",
       "      <td>1538016340000</td>\n",
       "      <td>187</td>\n",
       "      <td>Taking My Ball</td>\n",
       "      <td>200</td>\n",
       "      <td>1542822946000</td>\n",
       "      <td>\"Mozilla/5.0 (iPhone; CPU iPhone OS 7_1_2 like...</td>\n",
       "      <td>100010</td>\n",
       "      <td>0</td>\n",
       "    </tr>\n",
       "  </tbody>\n",
       "</table>\n",
       "</div>"
      ],
      "text/plain": [
       "       artist       auth firstName gender  itemInSession   lastName  \\\n",
       "0  Lily Allen  Logged In  Darianna      F             33  Carpenter   \n",
       "1  John Waite  Logged In  Darianna      F             32  Carpenter   \n",
       "2     Hermano  Logged In  Darianna      F             31  Carpenter   \n",
       "3    Hot Chip  Logged In  Darianna      F             29  Carpenter   \n",
       "4      Eminem  Logged In  Darianna      F             28  Carpenter   \n",
       "\n",
       "      length level                         location method      page  \\\n",
       "0  185.25995  free  Bridgeport-Stamford-Norwalk, CT    PUT  NextSong   \n",
       "1  269.76608  free  Bridgeport-Stamford-Norwalk, CT    PUT  NextSong   \n",
       "2  115.90485  free  Bridgeport-Stamford-Norwalk, CT    PUT  NextSong   \n",
       "3  319.42485  free  Bridgeport-Stamford-Norwalk, CT    PUT  NextSong   \n",
       "4  302.57587  free  Bridgeport-Stamford-Norwalk, CT    PUT  NextSong   \n",
       "\n",
       "    registration  sessionId                 song  status             ts  \\\n",
       "0  1538016340000        187                   22     200  1542823951000   \n",
       "1  1538016340000        187          Missing You     200  1542823682000   \n",
       "2  1538016340000        187  Letters From Madrid     200  1542823567000   \n",
       "3  1538016340000        187           Alley Cats     200  1542823248000   \n",
       "4  1538016340000        187       Taking My Ball     200  1542822946000   \n",
       "\n",
       "                                           userAgent  userId  churn  \n",
       "0  \"Mozilla/5.0 (iPhone; CPU iPhone OS 7_1_2 like...  100010      0  \n",
       "1  \"Mozilla/5.0 (iPhone; CPU iPhone OS 7_1_2 like...  100010      0  \n",
       "2  \"Mozilla/5.0 (iPhone; CPU iPhone OS 7_1_2 like...  100010      0  \n",
       "3  \"Mozilla/5.0 (iPhone; CPU iPhone OS 7_1_2 like...  100010      0  \n",
       "4  \"Mozilla/5.0 (iPhone; CPU iPhone OS 7_1_2 like...  100010      0  "
      ]
     },
     "execution_count": 37,
     "metadata": {},
     "output_type": "execute_result"
    }
   ],
   "source": [
    "df_length = df_length.toPandas()\n",
    "df_length.head()"
   ]
  },
  {
   "cell_type": "code",
   "execution_count": 38,
   "metadata": {},
   "outputs": [],
   "source": [
    "# drop the nulls\n",
    "df_length.length.dropna(inplace=True)"
   ]
  },
  {
   "cell_type": "code",
   "execution_count": 39,
   "metadata": {},
   "outputs": [
    {
     "data": {
      "text/html": [
       "<div>\n",
       "<style scoped>\n",
       "    .dataframe tbody tr th:only-of-type {\n",
       "        vertical-align: middle;\n",
       "    }\n",
       "\n",
       "    .dataframe tbody tr th {\n",
       "        vertical-align: top;\n",
       "    }\n",
       "\n",
       "    .dataframe thead th {\n",
       "        text-align: right;\n",
       "    }\n",
       "</style>\n",
       "<table border=\"1\" class=\"dataframe\">\n",
       "  <thead>\n",
       "    <tr style=\"text-align: right;\">\n",
       "      <th></th>\n",
       "      <th>churn</th>\n",
       "      <th>length</th>\n",
       "    </tr>\n",
       "    <tr>\n",
       "      <th>userId</th>\n",
       "      <th></th>\n",
       "      <th></th>\n",
       "    </tr>\n",
       "  </thead>\n",
       "  <tbody>\n",
       "    <tr>\n",
       "      <th>10</th>\n",
       "      <td>0</td>\n",
       "      <td>247.944090</td>\n",
       "    </tr>\n",
       "    <tr>\n",
       "      <th>100</th>\n",
       "      <td>0</td>\n",
       "      <td>250.886598</td>\n",
       "    </tr>\n",
       "    <tr>\n",
       "      <th>100001</th>\n",
       "      <td>1</td>\n",
       "      <td>263.712347</td>\n",
       "    </tr>\n",
       "    <tr>\n",
       "      <th>100002</th>\n",
       "      <td>0</td>\n",
       "      <td>254.153426</td>\n",
       "    </tr>\n",
       "    <tr>\n",
       "      <th>100003</th>\n",
       "      <td>1</td>\n",
       "      <td>241.302340</td>\n",
       "    </tr>\n",
       "  </tbody>\n",
       "</table>\n",
       "</div>"
      ],
      "text/plain": [
       "        churn      length\n",
       "userId                   \n",
       "10          0  247.944090\n",
       "100         0  250.886598\n",
       "100001      1  263.712347\n",
       "100002      0  254.153426\n",
       "100003      1  241.302340"
      ]
     },
     "execution_count": 39,
     "metadata": {},
     "output_type": "execute_result"
    }
   ],
   "source": [
    "df_length = df_length.groupby('userId').agg({'churn': 'max', 'length': 'mean'})\n",
    "df_length.head()"
   ]
  },
  {
   "cell_type": "code",
   "execution_count": 40,
   "metadata": {},
   "outputs": [
    {
     "data": {
      "text/plain": [
       "(225, 2)"
      ]
     },
     "execution_count": 40,
     "metadata": {},
     "output_type": "execute_result"
    }
   ],
   "source": [
    "df_length.shape"
   ]
  },
  {
   "cell_type": "code",
   "execution_count": 41,
   "metadata": {},
   "outputs": [],
   "source": [
    "def plot_histograms_by_length(df, output_file=None, bins='auto'):\n",
    "    \"\"\"\n",
    "    Plots histograms of 'length' grouped by 'churn' status \n",
    "    and optionally saves the plot to a PNG file.\n",
    "\n",
    "    This function takes a DataFrame, groups it by the 'churn' column, \n",
    "    and plots histograms for the distribution of 'length' for users with \n",
    "    different churn statuses (0 or 1).\n",
    "\n",
    "    Parameters:\n",
    "    -----------\n",
    "    df : pandas.DataFrame\n",
    "        A DataFrame containing the user activity data. It should have the following columns:\n",
    "        - 'churn': Binary column indicating churn status (0 = not churned, 1 = churned).\n",
    "        - 'length': Numeric column representing the data to be plotted (e.g., session length).\n",
    "\n",
    "    output_file : str, optional\n",
    "        The file path where the plot will be saved as a PNG file. If None, the plot will only be displayed.\n",
    "\n",
    "    bins : int, str, or numpy array, optional\n",
    "        The bin strategy or number of bins to use for the histograms. \n",
    "        Default is 'auto', which automatically determines bin edges using numpy.histogram_bin_edges.\n",
    "\n",
    "    Returns:\n",
    "    --------\n",
    "    None\n",
    "        Displays a histogram plot with subplots for each churn status and optionally saves it to a file.\n",
    "    \"\"\"\n",
    "    # Group by churn\n",
    "    grouped = df.groupby('churn')\n",
    "\n",
    "    # Determine bin edges based on the entire dataset\n",
    "    all_data = df['length']\n",
    "    _, bin_edges = np.histogram(all_data, bins=bins)\n",
    "\n",
    "    # Create a figure with 2 subplots side by side\n",
    "    fig = plt.figure(figsize=(12, 6))\n",
    "\n",
    "    # Iterate through each group and plot on separate axes\n",
    "    for i, (churn_value, group) in enumerate(grouped):\n",
    "        ax = fig.add_subplot(1, 2, i + 1)  # Create a subplot (1 row, 2 columns, index i+1)\n",
    "        \n",
    "        # Plot histogram\n",
    "        counts, bins, patches = ax.hist(\n",
    "            group['length'], \n",
    "            bins=bin_edges, \n",
    "            alpha=0.7, \n",
    "            color='blue' if churn_value == 0 else 'orange'\n",
    "        )\n",
    "        ax.set_title(f'Histogram for Churn = {churn_value}')  # Title for each subplot\n",
    "        ax.set_xlabel('Length')                              # X-axis label\n",
    "        ax.set_ylabel('Frequency')                           # Y-axis label\n",
    "        ax.set_xlim(bin_edges[0], bin_edges[-1])             # Set x-axis limit\n",
    "        ax.grid(axis='y', alpha=0.75)                        # Add gridlines for clarity\n",
    "\n",
    "    # Adjust layout for better spacing\n",
    "    plt.tight_layout()\n",
    "\n",
    "    # Save the plot to file if output_file is specified\n",
    "    if output_file:\n",
    "        plt.savefig(output_file, format='png', dpi=300)\n",
    "        print(f\"Figure saved to {output_file}\")\n",
    "\n",
    "    # Display the plot\n",
    "    plt.show()"
   ]
  },
  {
   "cell_type": "code",
   "execution_count": 42,
   "metadata": {},
   "outputs": [
    {
     "name": "stdout",
     "output_type": "stream",
     "text": [
      "Figure saved to histograms_by_length.png\n"
     ]
    },
    {
     "data": {
      "image/png": "[encoded data removed]",
      "text/plain": [
       "<matplotlib.figure.Figure at 0x7b8a451bb7f0>"
      ]
     },
     "metadata": {
      "needs_background": "light"
     },
     "output_type": "display_data"
    }
   ],
   "source": [
    "plot_histograms_by_length(df_length, output_file='histograms_by_length.png', bins='auto')"
   ]
  },
  {
   "cell_type": "markdown",
   "metadata": {},
   "source": [
    "![Histogram of Length]('histograms_by_length.png')\n",
    "\n",
    "Through the chart above we see that there is not much difference in teeth. The average length is mainly concentrated in the range of 200 to 300 on both churn = 1 and churn = 0 sets."
   ]
  },
  {
   "cell_type": "markdown",
   "metadata": {},
   "source": [
    "#### What is the gender of the groups?"
   ]
  },
  {
   "cell_type": "code",
   "execution_count": 43,
   "metadata": {},
   "outputs": [],
   "source": [
    "# create gender df grouped by churn and gender\n",
    "df_gender = df.select(['userId', 'churn', 'gender']).dropDuplicates()\n",
    "df_gender = df_gender.toPandas()\n"
   ]
  },
  {
   "cell_type": "code",
   "execution_count": 44,
   "metadata": {
    "scrolled": true
   },
   "outputs": [],
   "source": [
    "def plot_gender_distribution_by_churn(df, output_file=None):\n",
    "    \"\"\"\n",
    "    Plots pie charts of gender distribution grouped by churn status \n",
    "    and optionally saves the plot to a PNG file.\n",
    "\n",
    "    This function takes a DataFrame, groups it by the 'churn' column, \n",
    "    and plots pie charts showing the proportion of each gender for users \n",
    "    with different churn statuses (0 or 1).\n",
    "\n",
    "    Parameters:\n",
    "    -----------\n",
    "    df : pandas.DataFrame\n",
    "        A DataFrame containing the user activity data. It should have the following columns:\n",
    "        - 'churn': Binary column indicating churn status (0 = not churned, 1 = churned).\n",
    "        - 'gender': Categorical column representing gender (e.g., 'Male', 'Female').\n",
    "\n",
    "    output_file : str, optional\n",
    "        The file path where the plot will be saved as a PNG file. If None, the plot will only be displayed.\n",
    "\n",
    "    Returns:\n",
    "    --------\n",
    "    None\n",
    "        Displays pie chart plots with subplots for each churn status and optionally saves it to a file.\n",
    "    \"\"\"\n",
    "    # Group by churn\n",
    "    grouped = df.groupby('churn')\n",
    "\n",
    "    # Create a figure with 2 subplots side by side\n",
    "    fig = plt.figure(figsize=(12, 6))\n",
    "\n",
    "    # Iterate through each group and plot on separate axes\n",
    "    for i, (churn_value, group) in enumerate(grouped):\n",
    "        ax = fig.add_subplot(1, 2, i + 1)  # Create a subplot (1 row, 2 columns, index i+1)\n",
    "        gender_counts = group['gender'].value_counts()  # Count occurrences of each gender\n",
    "        \n",
    "        # Plot pie chart\n",
    "        ax.pie(\n",
    "            gender_counts, \n",
    "            labels=gender_counts.index, \n",
    "            autopct='%1.1f%%',  # Show percentage with one decimal place\n",
    "            startangle=90,      # Rotate start angle for better alignment\n",
    "            colors=['lightblue', 'pink'] if 'Male' in gender_counts.index else ['pink', 'lightblue'],  # Assign colors\n",
    "            textprops={'fontsize': 10}  # Adjust text size\n",
    "        )\n",
    "        ax.set_title(f'Gender Distribution for Churn = {churn_value}', fontsize=12)  # Add title\n",
    "\n",
    "    # Adjust layout for better spacing\n",
    "    plt.tight_layout()\n",
    "\n",
    "    # Save the plot to file if output_file is specified\n",
    "    if output_file:\n",
    "        plt.savefig(output_file, format='png', dpi=300)\n",
    "        print(f\"Figure saved to {output_file}\")\n",
    "\n",
    "    # Display the plot\n",
    "    plt.show()\n"
   ]
  },
  {
   "cell_type": "code",
   "execution_count": 45,
   "metadata": {},
   "outputs": [
    {
     "name": "stdout",
     "output_type": "stream",
     "text": [
      "Figure saved to gender_distribution.png\n"
     ]
    },
    {
     "data": {
      "image/png": "[encoded data removed]",
      "text/plain": [
       "<matplotlib.figure.Figure at 0x7b8a88604dd8>"
      ]
     },
     "metadata": {},
     "output_type": "display_data"
    }
   ],
   "source": [
    "plot_gender_distribution_by_churn(df_gender, output_file='gender_distribution.png')"
   ]
  },
  {
   "cell_type": "markdown",
   "metadata": {},
   "source": [
    "![Gender Distribution](gender_distribution.png)\n",
    "\n",
    "The Male ratio in churn = 1 set is quite high while in churn = 0 set it is quite balanced."
   ]
  },
  {
   "cell_type": "markdown",
   "metadata": {},
   "source": [
    "#### What is the level of users in each group?"
   ]
  },
  {
   "cell_type": "code",
   "execution_count": 46,
   "metadata": {},
   "outputs": [
    {
     "data": {
      "text/html": [
       "<div>\n",
       "<style scoped>\n",
       "    .dataframe tbody tr th:only-of-type {\n",
       "        vertical-align: middle;\n",
       "    }\n",
       "\n",
       "    .dataframe tbody tr th {\n",
       "        vertical-align: top;\n",
       "    }\n",
       "\n",
       "    .dataframe thead th {\n",
       "        text-align: right;\n",
       "    }\n",
       "</style>\n",
       "<table border=\"1\" class=\"dataframe\">\n",
       "  <thead>\n",
       "    <tr style=\"text-align: right;\">\n",
       "      <th></th>\n",
       "      <th>userId</th>\n",
       "      <th>churn</th>\n",
       "      <th>level</th>\n",
       "    </tr>\n",
       "  </thead>\n",
       "  <tbody>\n",
       "    <tr>\n",
       "      <th>0</th>\n",
       "      <td>100010</td>\n",
       "      <td>0</td>\n",
       "      <td>free</td>\n",
       "    </tr>\n",
       "    <tr>\n",
       "      <th>1</th>\n",
       "      <td>200002</td>\n",
       "      <td>0</td>\n",
       "      <td>paid</td>\n",
       "    </tr>\n",
       "    <tr>\n",
       "      <th>2</th>\n",
       "      <td>200002</td>\n",
       "      <td>0</td>\n",
       "      <td>free</td>\n",
       "    </tr>\n",
       "    <tr>\n",
       "      <th>3</th>\n",
       "      <td>125</td>\n",
       "      <td>1</td>\n",
       "      <td>free</td>\n",
       "    </tr>\n",
       "    <tr>\n",
       "      <th>4</th>\n",
       "      <td>124</td>\n",
       "      <td>0</td>\n",
       "      <td>paid</td>\n",
       "    </tr>\n",
       "  </tbody>\n",
       "</table>\n",
       "</div>"
      ],
      "text/plain": [
       "   userId  churn level\n",
       "0  100010      0  free\n",
       "1  200002      0  paid\n",
       "2  200002      0  free\n",
       "3     125      1  free\n",
       "4     124      0  paid"
      ]
     },
     "execution_count": 46,
     "metadata": {},
     "output_type": "execute_result"
    }
   ],
   "source": [
    "# create gender df grouped by churn and gender\n",
    "df_level = df.select(['userId', 'churn', 'level']).dropDuplicates()\n",
    "df_level = df_level.toPandas()\n",
    "df_level.head()"
   ]
  },
  {
   "cell_type": "code",
   "execution_count": 47,
   "metadata": {},
   "outputs": [],
   "source": [
    "\n",
    "def plot_level_distribution_by_churn(df, output_file=None):\n",
    "    \"\"\"\n",
    "    Plots pie charts of level distribution grouped by churn status \n",
    "    and optionally saves the plot to a PNG file.\n",
    "\n",
    "    This function takes a DataFrame, groups it by the 'churn' column, \n",
    "    and plots pie charts showing the proportion of each level for users \n",
    "    with different churn statuses (0 or 1).\n",
    "\n",
    "    Parameters:\n",
    "    -----------\n",
    "    df : pandas.DataFrame\n",
    "        A DataFrame containing the user activity data. It should have the following columns:\n",
    "        - 'churn': Binary column indicating churn status (0 = not churned, 1 = churned).\n",
    "        - 'level': Categorical column representing user level (e.g., 'Free', 'Paid').\n",
    "\n",
    "    output_file : str, optional\n",
    "        The file path where the plot will be saved as a PNG file. If None, the plot will only be displayed.\n",
    "\n",
    "    Returns:\n",
    "    --------\n",
    "    None\n",
    "        Displays pie chart plots with subplots for each churn status and optionally saves it to a file.\n",
    "    \"\"\"\n",
    "    # Group by churn\n",
    "    grouped = df.groupby('churn')\n",
    "\n",
    "    # Create a figure with 2 subplots side by side\n",
    "    fig = plt.figure(figsize=(12, 6))\n",
    "\n",
    "    # Iterate through each group and plot on separate axes\n",
    "    for i, (churn_value, group) in enumerate(grouped):\n",
    "        ax = fig.add_subplot(1, 2, i + 1)  # Create a subplot (1 row, 2 columns, index i+1)\n",
    "        level_counts = group['level'].value_counts()  # Count occurrences of each level\n",
    "        \n",
    "        # Plot pie chart\n",
    "        ax.pie(\n",
    "            level_counts, \n",
    "            labels=level_counts.index, \n",
    "            autopct='%1.1f%%',  # Show percentage with one decimal place\n",
    "            startangle=90,      # Rotate start angle for better alignment\n",
    "            textprops={'fontsize': 10}  # Adjust text size\n",
    "        )\n",
    "        ax.set_title(f'Level Distribution for Churn = {churn_value}', fontsize=12)  # Add title\n",
    "\n",
    "    # Adjust layout for better spacing\n",
    "    plt.tight_layout()\n",
    "\n",
    "    # Save the plot to file if output_file is specified\n",
    "    if output_file:\n",
    "        plt.savefig(output_file, format='png', dpi=300)\n",
    "        print(f\"Figure saved to {output_file}\")\n",
    "\n",
    "    # Display the plot\n",
    "    plt.show()\n"
   ]
  },
  {
   "cell_type": "code",
   "execution_count": 48,
   "metadata": {},
   "outputs": [
    {
     "name": "stdout",
     "output_type": "stream",
     "text": [
      "Figure saved to level_distribution.png\n"
     ]
    },
    {
     "data": {
      "image/png": "[encoded data removed]",
      "text/plain": [
       "<matplotlib.figure.Figure at 0x7b8a4b9cf7f0>"
      ]
     },
     "metadata": {},
     "output_type": "display_data"
    }
   ],
   "source": [
    "plot_level_distribution_by_churn(df_level, output_file='level_distribution.png')"
   ]
  },
  {
   "cell_type": "markdown",
   "metadata": {},
   "source": [
    "![Gender Distribution](level_distribution.png)\n",
    "\n",
    "Free level users have a higher chance of churn = 1"
   ]
  },
  {
   "cell_type": "markdown",
   "metadata": {},
   "source": [
    "#### How long has the user been a member of each group?"
   ]
  },
  {
   "cell_type": "code",
   "execution_count": 49,
   "metadata": {},
   "outputs": [
    {
     "data": {
      "text/plain": [
       "[Row(artist=None, auth='Logged In', firstName='Darianna', gender='F', itemInSession=34, lastName='Carpenter', length=None, level='free', location='Bridgeport-Stamford-Norwalk, CT', method='PUT', page='Logout', registration=1538016340000, sessionId=187, song=None, status=307, ts=1542823952000, userAgent='\"Mozilla/5.0 (iPhone; CPU iPhone OS 7_1_2 like Mac OS X) AppleWebKit/537.51.2 (KHTML, like Gecko) Version/7.0 Mobile/11D257 Safari/9537.53\"', userId='100010', churn=0, datetime_registration='2018-09-27 02:45:40')]"
      ]
     },
     "execution_count": 49,
     "metadata": {},
     "output_type": "execute_result"
    }
   ],
   "source": [
    "# get datetime from timestamp\n",
    "get_datetime_str = udf(lambda x: datetime.datetime.fromtimestamp(x / 1000.0).strftime(\"%Y-%m-%d %H:%M:%S\"))\n",
    "# add datetime_registration to df\n",
    "df = df.withColumn('datetime_registration', get_datetime_str(df.registration))\n",
    "df.take(1)"
   ]
  },
  {
   "cell_type": "code",
   "execution_count": 50,
   "metadata": {},
   "outputs": [
    {
     "data": {
      "text/plain": [
       "[Row(artist=None, auth='Logged In', firstName='Darianna', gender='F', itemInSession=34, lastName='Carpenter', length=None, level='free', location='Bridgeport-Stamford-Norwalk, CT', method='PUT', page='Logout', registration=1538016340000, sessionId=187, song=None, status=307, ts=1542823952000, userAgent='\"Mozilla/5.0 (iPhone; CPU iPhone OS 7_1_2 like Mac OS X) AppleWebKit/537.51.2 (KHTML, like Gecko) Version/7.0 Mobile/11D257 Safari/9537.53\"', userId='100010', churn=0, datetime_registration='2018-09-27 02:45:40', datetime_ts='2018-11-21 18:12:32')]"
      ]
     },
     "execution_count": 50,
     "metadata": {},
     "output_type": "execute_result"
    }
   ],
   "source": [
    "# get datetime from timestamp\n",
    "get_datetime_str = udf(lambda x: datetime.datetime.fromtimestamp(x / 1000.0).strftime(\"%Y-%m-%d %H:%M:%S\"))\n",
    "# add datetime_registration to df\n",
    "df = df.withColumn('datetime_ts', get_datetime_str(df.ts))\n",
    "df.take(1)"
   ]
  },
  {
   "cell_type": "markdown",
   "metadata": {},
   "source": [
    "Determine the number of days the user is a member"
   ]
  },
  {
   "cell_type": "code",
   "execution_count": 51,
   "metadata": {},
   "outputs": [],
   "source": [
    "get_duration = udf(lambda x,y: float((x-y)/(1000*60*60*24)))\n",
    "\n",
    "df = df.withColumn(\"days_of_membership\", get_duration(df.ts, df.registration))\n",
    "df = df.withColumn(\"days_of_membership\", df[\"days_of_membership\"].cast(IntegerType()))"
   ]
  },
  {
   "cell_type": "code",
   "execution_count": 52,
   "metadata": {},
   "outputs": [
    {
     "data": {
      "text/plain": [
       "[Row(artist=None, auth='Logged In', firstName='Darianna', gender='F', itemInSession=34, lastName='Carpenter', length=None, level='free', location='Bridgeport-Stamford-Norwalk, CT', method='PUT', page='Logout', registration=1538016340000, sessionId=187, song=None, status=307, ts=1542823952000, userAgent='\"Mozilla/5.0 (iPhone; CPU iPhone OS 7_1_2 like Mac OS X) AppleWebKit/537.51.2 (KHTML, like Gecko) Version/7.0 Mobile/11D257 Safari/9537.53\"', userId='100010', churn=0, datetime_registration='2018-09-27 02:45:40', datetime_ts='2018-11-21 18:12:32', days_of_membership=55)]"
      ]
     },
     "execution_count": 52,
     "metadata": {},
     "output_type": "execute_result"
    }
   ],
   "source": [
    "df.take(1)"
   ]
  },
  {
   "cell_type": "code",
   "execution_count": 53,
   "metadata": {},
   "outputs": [],
   "source": [
    "df_days_of_membership = df.select(['userId', 'churn', 'days_of_membership']).dropDuplicates()"
   ]
  },
  {
   "cell_type": "code",
   "execution_count": 54,
   "metadata": {},
   "outputs": [
    {
     "data": {
      "text/html": [
       "<div>\n",
       "<style scoped>\n",
       "    .dataframe tbody tr th:only-of-type {\n",
       "        vertical-align: middle;\n",
       "    }\n",
       "\n",
       "    .dataframe tbody tr th {\n",
       "        vertical-align: top;\n",
       "    }\n",
       "\n",
       "    .dataframe thead th {\n",
       "        text-align: right;\n",
       "    }\n",
       "</style>\n",
       "<table border=\"1\" class=\"dataframe\">\n",
       "  <thead>\n",
       "    <tr style=\"text-align: right;\">\n",
       "      <th></th>\n",
       "      <th>artist</th>\n",
       "      <th>auth</th>\n",
       "      <th>firstName</th>\n",
       "      <th>gender</th>\n",
       "      <th>itemInSession</th>\n",
       "      <th>lastName</th>\n",
       "      <th>length</th>\n",
       "      <th>level</th>\n",
       "      <th>location</th>\n",
       "      <th>method</th>\n",
       "      <th>...</th>\n",
       "      <th>sessionId</th>\n",
       "      <th>song</th>\n",
       "      <th>status</th>\n",
       "      <th>ts</th>\n",
       "      <th>userAgent</th>\n",
       "      <th>userId</th>\n",
       "      <th>churn</th>\n",
       "      <th>datetime_registration</th>\n",
       "      <th>datetime_ts</th>\n",
       "      <th>days_of_membership</th>\n",
       "    </tr>\n",
       "  </thead>\n",
       "  <tbody>\n",
       "    <tr>\n",
       "      <th>0</th>\n",
       "      <td>None</td>\n",
       "      <td>Logged In</td>\n",
       "      <td>Darianna</td>\n",
       "      <td>F</td>\n",
       "      <td>34</td>\n",
       "      <td>Carpenter</td>\n",
       "      <td>NaN</td>\n",
       "      <td>free</td>\n",
       "      <td>Bridgeport-Stamford-Norwalk, CT</td>\n",
       "      <td>PUT</td>\n",
       "      <td>...</td>\n",
       "      <td>187</td>\n",
       "      <td>None</td>\n",
       "      <td>307</td>\n",
       "      <td>1542823952000</td>\n",
       "      <td>\"Mozilla/5.0 (iPhone; CPU iPhone OS 7_1_2 like...</td>\n",
       "      <td>100010</td>\n",
       "      <td>0</td>\n",
       "      <td>2018-09-27 02:45:40</td>\n",
       "      <td>2018-11-21 18:12:32</td>\n",
       "      <td>55</td>\n",
       "    </tr>\n",
       "    <tr>\n",
       "      <th>1</th>\n",
       "      <td>Lily Allen</td>\n",
       "      <td>Logged In</td>\n",
       "      <td>Darianna</td>\n",
       "      <td>F</td>\n",
       "      <td>33</td>\n",
       "      <td>Carpenter</td>\n",
       "      <td>185.25995</td>\n",
       "      <td>free</td>\n",
       "      <td>Bridgeport-Stamford-Norwalk, CT</td>\n",
       "      <td>PUT</td>\n",
       "      <td>...</td>\n",
       "      <td>187</td>\n",
       "      <td>22</td>\n",
       "      <td>200</td>\n",
       "      <td>1542823951000</td>\n",
       "      <td>\"Mozilla/5.0 (iPhone; CPU iPhone OS 7_1_2 like...</td>\n",
       "      <td>100010</td>\n",
       "      <td>0</td>\n",
       "      <td>2018-09-27 02:45:40</td>\n",
       "      <td>2018-11-21 18:12:31</td>\n",
       "      <td>55</td>\n",
       "    </tr>\n",
       "    <tr>\n",
       "      <th>2</th>\n",
       "      <td>John Waite</td>\n",
       "      <td>Logged In</td>\n",
       "      <td>Darianna</td>\n",
       "      <td>F</td>\n",
       "      <td>32</td>\n",
       "      <td>Carpenter</td>\n",
       "      <td>269.76608</td>\n",
       "      <td>free</td>\n",
       "      <td>Bridgeport-Stamford-Norwalk, CT</td>\n",
       "      <td>PUT</td>\n",
       "      <td>...</td>\n",
       "      <td>187</td>\n",
       "      <td>Missing You</td>\n",
       "      <td>200</td>\n",
       "      <td>1542823682000</td>\n",
       "      <td>\"Mozilla/5.0 (iPhone; CPU iPhone OS 7_1_2 like...</td>\n",
       "      <td>100010</td>\n",
       "      <td>0</td>\n",
       "      <td>2018-09-27 02:45:40</td>\n",
       "      <td>2018-11-21 18:08:02</td>\n",
       "      <td>55</td>\n",
       "    </tr>\n",
       "    <tr>\n",
       "      <th>3</th>\n",
       "      <td>Hermano</td>\n",
       "      <td>Logged In</td>\n",
       "      <td>Darianna</td>\n",
       "      <td>F</td>\n",
       "      <td>31</td>\n",
       "      <td>Carpenter</td>\n",
       "      <td>115.90485</td>\n",
       "      <td>free</td>\n",
       "      <td>Bridgeport-Stamford-Norwalk, CT</td>\n",
       "      <td>PUT</td>\n",
       "      <td>...</td>\n",
       "      <td>187</td>\n",
       "      <td>Letters From Madrid</td>\n",
       "      <td>200</td>\n",
       "      <td>1542823567000</td>\n",
       "      <td>\"Mozilla/5.0 (iPhone; CPU iPhone OS 7_1_2 like...</td>\n",
       "      <td>100010</td>\n",
       "      <td>0</td>\n",
       "      <td>2018-09-27 02:45:40</td>\n",
       "      <td>2018-11-21 18:06:07</td>\n",
       "      <td>55</td>\n",
       "    </tr>\n",
       "    <tr>\n",
       "      <th>4</th>\n",
       "      <td>None</td>\n",
       "      <td>Logged In</td>\n",
       "      <td>Darianna</td>\n",
       "      <td>F</td>\n",
       "      <td>30</td>\n",
       "      <td>Carpenter</td>\n",
       "      <td>NaN</td>\n",
       "      <td>free</td>\n",
       "      <td>Bridgeport-Stamford-Norwalk, CT</td>\n",
       "      <td>GET</td>\n",
       "      <td>...</td>\n",
       "      <td>187</td>\n",
       "      <td>None</td>\n",
       "      <td>200</td>\n",
       "      <td>1542823257000</td>\n",
       "      <td>\"Mozilla/5.0 (iPhone; CPU iPhone OS 7_1_2 like...</td>\n",
       "      <td>100010</td>\n",
       "      <td>0</td>\n",
       "      <td>2018-09-27 02:45:40</td>\n",
       "      <td>2018-11-21 18:00:57</td>\n",
       "      <td>55</td>\n",
       "    </tr>\n",
       "  </tbody>\n",
       "</table>\n",
       "<p>5 rows × 22 columns</p>\n",
       "</div>"
      ],
      "text/plain": [
       "       artist       auth firstName gender  itemInSession   lastName  \\\n",
       "0        None  Logged In  Darianna      F             34  Carpenter   \n",
       "1  Lily Allen  Logged In  Darianna      F             33  Carpenter   \n",
       "2  John Waite  Logged In  Darianna      F             32  Carpenter   \n",
       "3     Hermano  Logged In  Darianna      F             31  Carpenter   \n",
       "4        None  Logged In  Darianna      F             30  Carpenter   \n",
       "\n",
       "      length level                         location method        ...          \\\n",
       "0        NaN  free  Bridgeport-Stamford-Norwalk, CT    PUT        ...           \n",
       "1  185.25995  free  Bridgeport-Stamford-Norwalk, CT    PUT        ...           \n",
       "2  269.76608  free  Bridgeport-Stamford-Norwalk, CT    PUT        ...           \n",
       "3  115.90485  free  Bridgeport-Stamford-Norwalk, CT    PUT        ...           \n",
       "4        NaN  free  Bridgeport-Stamford-Norwalk, CT    GET        ...           \n",
       "\n",
       "  sessionId                 song  status             ts  \\\n",
       "0       187                 None     307  1542823952000   \n",
       "1       187                   22     200  1542823951000   \n",
       "2       187          Missing You     200  1542823682000   \n",
       "3       187  Letters From Madrid     200  1542823567000   \n",
       "4       187                 None     200  1542823257000   \n",
       "\n",
       "                                           userAgent  userId churn  \\\n",
       "0  \"Mozilla/5.0 (iPhone; CPU iPhone OS 7_1_2 like...  100010     0   \n",
       "1  \"Mozilla/5.0 (iPhone; CPU iPhone OS 7_1_2 like...  100010     0   \n",
       "2  \"Mozilla/5.0 (iPhone; CPU iPhone OS 7_1_2 like...  100010     0   \n",
       "3  \"Mozilla/5.0 (iPhone; CPU iPhone OS 7_1_2 like...  100010     0   \n",
       "4  \"Mozilla/5.0 (iPhone; CPU iPhone OS 7_1_2 like...  100010     0   \n",
       "\n",
       "  datetime_registration          datetime_ts days_of_membership  \n",
       "0   2018-09-27 02:45:40  2018-11-21 18:12:32                 55  \n",
       "1   2018-09-27 02:45:40  2018-11-21 18:12:31                 55  \n",
       "2   2018-09-27 02:45:40  2018-11-21 18:08:02                 55  \n",
       "3   2018-09-27 02:45:40  2018-11-21 18:06:07                 55  \n",
       "4   2018-09-27 02:45:40  2018-11-21 18:00:57                 55  \n",
       "\n",
       "[5 rows x 22 columns]"
      ]
     },
     "execution_count": 54,
     "metadata": {},
     "output_type": "execute_result"
    }
   ],
   "source": [
    "df_days_of_membership = df.toPandas()\n",
    "df_days_of_membership.head()"
   ]
  },
  {
   "cell_type": "code",
   "execution_count": 55,
   "metadata": {},
   "outputs": [
    {
     "data": {
      "text/plain": [
       "(225, 2)"
      ]
     },
     "execution_count": 55,
     "metadata": {},
     "output_type": "execute_result"
    }
   ],
   "source": [
    "df_days_of_membership = df_days_of_membership.groupby('userId').agg({'churn': 'max', 'days_of_membership': 'mean'})\n",
    "df_days_of_membership.shape\n"
   ]
  },
  {
   "cell_type": "code",
   "execution_count": 56,
   "metadata": {},
   "outputs": [],
   "source": [
    "\n",
    "def plot_days_of_membership_histogram(df, column, output_file=None, bin_width=10, xlim_max=None):\n",
    "    \"\"\"\n",
    "    Plots histograms of 'days_of_membership' grouped by churn status \n",
    "    and optionally saves the plot to a PNG file.\n",
    "\n",
    "    This function takes a DataFrame, groups it by the 'churn' column, \n",
    "    and plots histograms showing the distribution of 'days_of_membership'\n",
    "    for users with different churn statuses (0 or 1).\n",
    "\n",
    "    Parameters:\n",
    "    -----------\n",
    "    df : pandas.DataFrame\n",
    "        A DataFrame containing user membership data. It should have the following columns:\n",
    "        - 'churn': Binary column indicating churn status (0 = not churned, 1 = churned).\n",
    "        - column: Continuous numeric column to plot (e.g., 'days_of_membership').\n",
    "\n",
    "    column : str\n",
    "        The column name to plot as histogram (e.g., 'days_of_membership').\n",
    "\n",
    "    output_file : str, optional\n",
    "        The file path where the plot will be saved as a PNG file. If None, the plot will only be displayed.\n",
    "\n",
    "    bin_width : int, optional\n",
    "        The width of each bin in the histogram. Default is 10.\n",
    "\n",
    "    xlim_max : int, optional\n",
    "        The maximum limit for the x-axis. If None, it is set based on the column's maximum value.\n",
    "\n",
    "    Returns:\n",
    "    --------\n",
    "    None\n",
    "        Displays histogram plots with subplots for each churn status and optionally saves it to a file.\n",
    "    \"\"\"\n",
    "    # Group by churn\n",
    "    grouped = df.groupby('churn')\n",
    "\n",
    "    # Automatically calculate bin edges\n",
    "    bin_edges = np.arange(0, df[column].max() + bin_width, bin_width)\n",
    "\n",
    "    # Set x-axis limit if not provided\n",
    "    if xlim_max is None:\n",
    "        xlim_max = df[column].max()\n",
    "\n",
    "    # Create a figure with 2 subplots side by side\n",
    "    fig = plt.figure(figsize=(12, 6))\n",
    "\n",
    "    # Iterate through each group and plot on separate axes\n",
    "    for i, (churn_value, group) in enumerate(grouped):\n",
    "        ax = fig.add_subplot(1, 2, i + 1)  # Create a subplot (1 row, 2 columns, index i+1)\n",
    "        \n",
    "        # Plot histogram\n",
    "        counts, bins, patches = ax.hist(\n",
    "            group[column], \n",
    "            bins=bin_edges, \n",
    "            alpha=0.7, \n",
    "            color='blue' if churn_value == 0 else 'orange'\n",
    "        )\n",
    "        ax.set_title(f'Histogram for Churn = {churn_value}')  # Title for each subplot\n",
    "        ax.set_xlabel('Days of Membership')                   # X-axis label\n",
    "        ax.set_ylabel('Frequency')                            # Y-axis label\n",
    "        ax.set_xlim(0, xlim_max)                              # Set x-axis limit\n",
    "        ax.grid(axis='y', alpha=0.75)                         # Add gridlines for clarity\n",
    "\n",
    "        # Add labels to each bar\n",
    "        for count, bin_left, patch in zip(counts, bins[:-1], patches):\n",
    "            x_position = bin_left + (bins[1] - bins[0]) / 2\n",
    "\n",
    "    # Adjust layout for better spacing\n",
    "    plt.tight_layout()\n",
    "\n",
    "    # Save the plot to file if output_file is specified\n",
    "    if output_file:\n",
    "        plt.savefig(output_file, format='png', dpi=300)\n",
    "        print(f\"Figure saved to {output_file}\")\n",
    "\n",
    "    # Display the plot\n",
    "    plt.show()\n"
   ]
  },
  {
   "cell_type": "code",
   "execution_count": 57,
   "metadata": {},
   "outputs": [
    {
     "name": "stdout",
     "output_type": "stream",
     "text": [
      "Figure saved to membership_distribution.png\n"
     ]
    },
    {
     "data": {
      "image/png": "[encoded data removed]",
      "text/plain": [
       "<matplotlib.figure.Figure at 0x7b8a47b6f0f0>"
      ]
     },
     "metadata": {
      "needs_background": "light"
     },
     "output_type": "display_data"
    }
   ],
   "source": [
    "plot_days_of_membership_histogram(\n",
    "    df_days_of_membership, \n",
    "    column='days_of_membership', \n",
    "    output_file='membership_distribution.png', \n",
    "    bin_width=10, \n",
    "    xlim_max=300\n",
    ")\n"
   ]
  },
  {
   "cell_type": "markdown",
   "metadata": {},
   "source": [
    "!['Days of Membership']('membership_distribution.png')\n",
    "The average number of days a user is a membership user churned is usually less than 100 days."
   ]
  },
  {
   "cell_type": "markdown",
   "metadata": {},
   "source": [
    "#### How many user actions are there in each group?"
   ]
  },
  {
   "cell_type": "code",
   "execution_count": 58,
   "metadata": {},
   "outputs": [],
   "source": [
    "df_user_action = df.select(['userId', 'churn', 'sessionId', 'itemInSession']).dropDuplicates().toPandas()\n",
    "df_user_action = df_user_action.groupby(['userId', 'sessionId']).agg({'churn': 'max', 'itemInSession': 'count'}).reset_index()\n",
    "df_user_action = df_user_action.groupby(['userId']).agg({'churn': 'max', 'itemInSession': 'mean'}).reset_index()"
   ]
  },
  {
   "cell_type": "code",
   "execution_count": 59,
   "metadata": {},
   "outputs": [
    {
     "data": {
      "text/html": [
       "<div>\n",
       "<style scoped>\n",
       "    .dataframe tbody tr th:only-of-type {\n",
       "        vertical-align: middle;\n",
       "    }\n",
       "\n",
       "    .dataframe tbody tr th {\n",
       "        vertical-align: top;\n",
       "    }\n",
       "\n",
       "    .dataframe thead th {\n",
       "        text-align: right;\n",
       "    }\n",
       "</style>\n",
       "<table border=\"1\" class=\"dataframe\">\n",
       "  <thead>\n",
       "    <tr style=\"text-align: right;\">\n",
       "      <th></th>\n",
       "      <th>userId</th>\n",
       "      <th>churn</th>\n",
       "      <th>avg_number_actions</th>\n",
       "    </tr>\n",
       "  </thead>\n",
       "  <tbody>\n",
       "    <tr>\n",
       "      <th>0</th>\n",
       "      <td>10</td>\n",
       "      <td>0</td>\n",
       "      <td>132.500000</td>\n",
       "    </tr>\n",
       "    <tr>\n",
       "      <th>1</th>\n",
       "      <td>100</td>\n",
       "      <td>0</td>\n",
       "      <td>91.828571</td>\n",
       "    </tr>\n",
       "    <tr>\n",
       "      <th>2</th>\n",
       "      <td>100001</td>\n",
       "      <td>1</td>\n",
       "      <td>46.750000</td>\n",
       "    </tr>\n",
       "    <tr>\n",
       "      <th>3</th>\n",
       "      <td>100002</td>\n",
       "      <td>0</td>\n",
       "      <td>54.500000</td>\n",
       "    </tr>\n",
       "    <tr>\n",
       "      <th>4</th>\n",
       "      <td>100003</td>\n",
       "      <td>1</td>\n",
       "      <td>39.000000</td>\n",
       "    </tr>\n",
       "  </tbody>\n",
       "</table>\n",
       "</div>"
      ],
      "text/plain": [
       "   userId  churn  avg_number_actions\n",
       "0      10      0          132.500000\n",
       "1     100      0           91.828571\n",
       "2  100001      1           46.750000\n",
       "3  100002      0           54.500000\n",
       "4  100003      1           39.000000"
      ]
     },
     "execution_count": 59,
     "metadata": {},
     "output_type": "execute_result"
    }
   ],
   "source": [
    "df_user_action.columns = ['userId',\t'churn','avg_number_actions']\n",
    "df_user_action.head()"
   ]
  },
  {
   "cell_type": "code",
   "execution_count": 60,
   "metadata": {},
   "outputs": [],
   "source": [
    "def plot_avg_actions_histogram(df, column, output_file=None, bin_width=10, xlim_max=None):\n",
    "    \"\"\"\n",
    "    Plots histograms of a specified column grouped by churn status\n",
    "    and optionally saves the plot to a PNG file.\n",
    "\n",
    "    This function groups data by the 'churn' column and plots histograms\n",
    "    showing the distribution of the specified column for users with different churn statuses.\n",
    "\n",
    "    Parameters:\n",
    "    -----------\n",
    "    df : pandas.DataFrame\n",
    "        A DataFrame containing user action data. It should have the following columns:\n",
    "        - 'churn': Binary column indicating churn status (0 = not churned, 1 = churned).\n",
    "        - column: Continuous numeric column to plot (e.g., 'avg_number_actions').\n",
    "\n",
    "    column : str\n",
    "        The column name to plot as histogram (e.g., 'avg_number_actions').\n",
    "\n",
    "    output_file : str, optional\n",
    "        The file path where the plot will be saved as a PNG file. If None, the plot will only be displayed.\n",
    "\n",
    "    bin_width : int, optional\n",
    "        The width of each bin in the histogram. Default is 10.\n",
    "\n",
    "    xlim_max : int, optional\n",
    "        The maximum limit for the x-axis. If None, it is set based on the column's maximum value.\n",
    "\n",
    "    Returns:\n",
    "    --------\n",
    "    None\n",
    "        Displays histogram plots with subplots for each churn status and optionally saves it to a file.\n",
    "    \"\"\"\n",
    "    # Group by churn\n",
    "    grouped = df.groupby('churn')\n",
    "\n",
    "    # Automatically calculate bin edges\n",
    "    bin_edges = np.arange(0, df[column].max() + bin_width, bin_width)\n",
    "\n",
    "    # Set x-axis limit if not provided\n",
    "    if xlim_max is None:\n",
    "        xlim_max = df[column].max()\n",
    "\n",
    "    # Create a figure with 2 subplots side by side\n",
    "    fig = plt.figure(figsize=(12, 6))\n",
    "\n",
    "    # Iterate through each group and plot on separate axes\n",
    "    for i, (churn_value, group) in enumerate(grouped):\n",
    "        ax = fig.add_subplot(1, 2, i + 1)  # Create a subplot (1 row, 2 columns, index i+1)\n",
    "        \n",
    "        # Plot histogram\n",
    "        counts, bins, patches = ax.hist(\n",
    "            group[column], \n",
    "            bins=bin_edges, \n",
    "            alpha=0.7, \n",
    "            color='blue' if churn_value == 0 else 'orange'\n",
    "        )\n",
    "        ax.set_title(f'Histogram for Churn = {churn_value}', fontsize=12)  # Title for each subplot\n",
    "        ax.set_xlabel('Average Number of Actions per Session', fontsize=10)  # X-axis label\n",
    "        ax.set_ylabel('Frequency', fontsize=10)  # Y-axis label\n",
    "        ax.set_xlim(0, xlim_max)  # Set x-axis limit\n",
    "        ax.grid(axis='y', alpha=0.75)  # Add gridlines for clarity\n",
    "\n",
    "        # Add labels to each bar (optional)\n",
    "        for count, bin_left, patch in zip(counts, bins[:-1], patches):\n",
    "            x_position = bin_left + (bins[1] - bins[0]) / 2\n",
    "\n",
    "    # Adjust layout for better spacing\n",
    "    plt.tight_layout()\n",
    "\n",
    "    # Save the plot to file if output_file is specified\n",
    "    if output_file:\n",
    "        plt.savefig(output_file, format='png', dpi=300)\n",
    "        print(f\"Figure saved to {output_file}\")\n",
    "\n",
    "    # Display the plot\n",
    "    plt.show()\n"
   ]
  },
  {
   "cell_type": "code",
   "execution_count": 61,
   "metadata": {},
   "outputs": [
    {
     "name": "stdout",
     "output_type": "stream",
     "text": [
      "Figure saved to avg_actions_distribution.png\n"
     ]
    },
    {
     "data": {
      "image/png": "[encoded data removed]",
      "text/plain": [
       "<matplotlib.figure.Figure at 0x7b8a2d32a518>"
      ]
     },
     "metadata": {
      "needs_background": "light"
     },
     "output_type": "display_data"
    }
   ],
   "source": [
    "plot_avg_actions_histogram(\n",
    "    df_user_action, \n",
    "    column='avg_number_actions', \n",
    "    output_file='avg_actions_distribution.png', \n",
    "    bin_width=10, \n",
    "    xlim_max=300\n",
    ")\n"
   ]
  },
  {
   "cell_type": "markdown",
   "metadata": {},
   "source": [
    "![Average Number of Actions per Session](avg_actions_distribution.png)\n",
    "Average number of actions of churned users = 1 mainly concentrated under 100 actions per session"
   ]
  },
  {
   "cell_type": "markdown",
   "metadata": {},
   "source": [
    "#### How many artists are users interested in each session?"
   ]
  },
  {
   "cell_type": "code",
   "execution_count": 62,
   "metadata": {},
   "outputs": [
    {
     "name": "stdout",
     "output_type": "stream",
     "text": [
      "+------+-----+---------+--------------------+\n",
      "|userId|churn|sessionId|              artist|\n",
      "+------+-----+---------+--------------------+\n",
      "|100010|    0|      187|          Lily Allen|\n",
      "|100010|    0|      187|          John Waite|\n",
      "|100010|    0|      187|             Hermano|\n",
      "|100010|    0|      187|            Hot Chip|\n",
      "|100010|    0|      187|              Eminem|\n",
      "|100010|    0|      187|          The Police|\n",
      "|100010|    0|      187|               Ke$ha|\n",
      "|100010|    0|      187|        Gwen Stefani|\n",
      "|100010|    0|      187|           DJ Khaled|\n",
      "|100010|    0|      187|      Kelly Clarkson|\n",
      "|100010|    0|      187|           Bob James|\n",
      "|100010|    0|      187|Nick Cave & The B...|\n",
      "|100010|    0|      187|                T.I.|\n",
      "|100010|    0|      187|          Sev Statik|\n",
      "|100010|    0|      187|       Drowning Pool|\n",
      "|100010|    0|      187|Usher featuring B...|\n",
      "|100010|    0|      187|          Kanye West|\n",
      "|100010|    0|      187|      Hit The Lights|\n",
      "|100010|    0|      187|         Heidi Berry|\n",
      "|100010|    0|      187|         Dragonforce|\n",
      "+------+-----+---------+--------------------+\n",
      "only showing top 20 rows\n",
      "\n"
     ]
    }
   ],
   "source": [
    "df.filter(df['artist'] != \"NaN\").select(['userId', 'churn', 'sessionId', 'artist']).dropDuplicates().show()"
   ]
  },
  {
   "cell_type": "code",
   "execution_count": 63,
   "metadata": {},
   "outputs": [
    {
     "data": {
      "text/html": [
       "<div>\n",
       "<style scoped>\n",
       "    .dataframe tbody tr th:only-of-type {\n",
       "        vertical-align: middle;\n",
       "    }\n",
       "\n",
       "    .dataframe tbody tr th {\n",
       "        vertical-align: top;\n",
       "    }\n",
       "\n",
       "    .dataframe thead th {\n",
       "        text-align: right;\n",
       "    }\n",
       "</style>\n",
       "<table border=\"1\" class=\"dataframe\">\n",
       "  <thead>\n",
       "    <tr style=\"text-align: right;\">\n",
       "      <th></th>\n",
       "      <th>userId</th>\n",
       "      <th>churn</th>\n",
       "      <th>avg_number_artist</th>\n",
       "    </tr>\n",
       "  </thead>\n",
       "  <tbody>\n",
       "    <tr>\n",
       "      <th>0</th>\n",
       "      <td>10</td>\n",
       "      <td>0</td>\n",
       "      <td>104.666667</td>\n",
       "    </tr>\n",
       "    <tr>\n",
       "      <th>1</th>\n",
       "      <td>100</td>\n",
       "      <td>0</td>\n",
       "      <td>74.588235</td>\n",
       "    </tr>\n",
       "    <tr>\n",
       "      <th>2</th>\n",
       "      <td>100001</td>\n",
       "      <td>1</td>\n",
       "      <td>33.000000</td>\n",
       "    </tr>\n",
       "    <tr>\n",
       "      <th>3</th>\n",
       "      <td>100002</td>\n",
       "      <td>0</td>\n",
       "      <td>46.500000</td>\n",
       "    </tr>\n",
       "    <tr>\n",
       "      <th>4</th>\n",
       "      <td>100003</td>\n",
       "      <td>1</td>\n",
       "      <td>25.000000</td>\n",
       "    </tr>\n",
       "  </tbody>\n",
       "</table>\n",
       "</div>"
      ],
      "text/plain": [
       "   userId  churn  avg_number_artist\n",
       "0      10      0         104.666667\n",
       "1     100      0          74.588235\n",
       "2  100001      1          33.000000\n",
       "3  100002      0          46.500000\n",
       "4  100003      1          25.000000"
      ]
     },
     "execution_count": 63,
     "metadata": {},
     "output_type": "execute_result"
    }
   ],
   "source": [
    "df_user_artist = df.filter(df['artist'] != \"NaN\").select(['userId', 'churn', 'sessionId', 'artist']).dropDuplicates().toPandas()\n",
    "df_user_artist = df_user_artist.groupby(['userId', 'sessionId']).agg({'churn': 'max', 'artist': 'count'}).reset_index()\n",
    "df_user_artist = df_user_artist.groupby(['userId']).agg({'churn': 'max', 'artist': 'mean'}).reset_index()\n",
    "df_user_artist.columns = ['userId',\t'churn','avg_number_artist']\n",
    "df_user_artist.head()"
   ]
  },
  {
   "cell_type": "code",
   "execution_count": 64,
   "metadata": {},
   "outputs": [],
   "source": [
    "def plot_avg_artist_histogram(df, column, output_file=None, bin_width=10, xlim_max=None):\n",
    "    \"\"\"\n",
    "    Plots histograms of a specified column grouped by churn status\n",
    "    and optionally saves the plot to a PNG file.\n",
    "\n",
    "    Parameters:\n",
    "    -----------\n",
    "    df : pandas.DataFrame\n",
    "        A DataFrame containing user artist data. It should have the following columns:\n",
    "        - 'churn': Binary column indicating churn status (0 = not churned, 1 = churned).\n",
    "        - column: Continuous numeric column to plot (e.g., 'avg_number_artist').\n",
    "\n",
    "    column : str\n",
    "        The column name to plot as histogram (e.g., 'avg_number_artist').\n",
    "\n",
    "    output_file : str, optional\n",
    "        The file path where the plot will be saved as a PNG file. If None, the plot will only be displayed.\n",
    "\n",
    "    bin_width : int, optional\n",
    "        The width of each bin in the histogram. Default is 10.\n",
    "\n",
    "    xlim_max : int, optional\n",
    "        The maximum limit for the x-axis. If None, it is set based on the column's maximum value.\n",
    "\n",
    "    Returns:\n",
    "    --------\n",
    "    None\n",
    "        Displays histogram plots with subplots for each churn status and optionally saves it to a file.\n",
    "    \"\"\"\n",
    "    # Group by churn\n",
    "    grouped = df.groupby('churn')\n",
    "\n",
    "    # Automatically calculate bin edges\n",
    "    bin_edges = np.arange(0, df[column].max() + bin_width, bin_width)\n",
    "\n",
    "    # Set x-axis limit if not provided\n",
    "    if xlim_max is None:\n",
    "        xlim_max = df[column].max()\n",
    "\n",
    "    # Create a figure with 2 subplots side by side\n",
    "    fig = plt.figure(figsize=(12, 6))\n",
    "\n",
    "    # Iterate through each group and plot on separate axes\n",
    "    for i, (churn_value, group) in enumerate(grouped):\n",
    "        ax = fig.add_subplot(1, 2, i + 1)  # Create a subplot (1 row, 2 columns, index i+1)\n",
    "        \n",
    "        # Plot histogram\n",
    "        counts, bins, patches = ax.hist(\n",
    "            group[column], \n",
    "            bins=bin_edges, \n",
    "            alpha=0.7, \n",
    "            color='blue' if churn_value == 0 else 'orange'\n",
    "        )\n",
    "        ax.set_title(f'Histogram for Churn = {churn_value}', fontsize=12)  # Title for each subplot\n",
    "        ax.set_xlabel('Average Number of Artists per Session', fontsize=10)  # X-axis label\n",
    "        ax.set_ylabel('Frequency', fontsize=10)  # Y-axis label\n",
    "        ax.set_xlim(0, xlim_max)  # Set x-axis limit\n",
    "        ax.grid(axis='y', alpha=0.75)  # Add gridlines for clarity\n",
    "\n",
    "    # Adjust layout for better spacing\n",
    "    plt.tight_layout()\n",
    "\n",
    "    # Save the plot to file if output_file is specified\n",
    "    if output_file:\n",
    "        plt.savefig(output_file, format='png', dpi=300)\n",
    "        print(f\"Figure saved to {output_file}\")\n",
    "\n",
    "    # Display the plot\n",
    "    plt.show()\n"
   ]
  },
  {
   "cell_type": "code",
   "execution_count": 65,
   "metadata": {},
   "outputs": [
    {
     "name": "stdout",
     "output_type": "stream",
     "text": [
      "Figure saved to avg_artist_distribution.png\n"
     ]
    },
    {
     "data": {
      "image/png": "[encoded data removed]",
      "text/plain": [
       "<matplotlib.figure.Figure at 0x7b8a1f66c588>"
      ]
     },
     "metadata": {
      "needs_background": "light"
     },
     "output_type": "display_data"
    }
   ],
   "source": [
    "plot_avg_artist_histogram(\n",
    "    df_user_artist, \n",
    "    column='avg_number_artist', \n",
    "    output_file='avg_artist_distribution.png', \n",
    "    bin_width=10, \n",
    "    xlim_max=300\n",
    ")\n"
   ]
  },
  {
   "cell_type": "markdown",
   "metadata": {},
   "source": [
    "![Average Number of Artists per Session](avg_artist_distribution.png)\n",
    "Average number of artists listened to per churn group = 1 mostly less than 100 artists per session"
   ]
  },
  {
   "cell_type": "markdown",
   "metadata": {},
   "source": [
    "#### What are the user's Thumbs Down/Thumbs Up?"
   ]
  },
  {
   "cell_type": "code",
   "execution_count": 66,
   "metadata": {},
   "outputs": [],
   "source": [
    "df_like_or_dislike = df.filter((df['page'] == \"Thumbs Up\")|(df['page'] == \"Thumbs Down\")).select(['userId', 'churn', 'sessionId', 'page']).dropDuplicates().toPandas()"
   ]
  },
  {
   "cell_type": "code",
   "execution_count": 67,
   "metadata": {},
   "outputs": [
    {
     "data": {
      "text/html": [
       "<div>\n",
       "<style scoped>\n",
       "    .dataframe tbody tr th:only-of-type {\n",
       "        vertical-align: middle;\n",
       "    }\n",
       "\n",
       "    .dataframe tbody tr th {\n",
       "        vertical-align: top;\n",
       "    }\n",
       "\n",
       "    .dataframe thead th {\n",
       "        text-align: right;\n",
       "    }\n",
       "</style>\n",
       "<table border=\"1\" class=\"dataframe\">\n",
       "  <thead>\n",
       "    <tr style=\"text-align: right;\">\n",
       "      <th></th>\n",
       "      <th>userId</th>\n",
       "      <th>churn</th>\n",
       "      <th>sessionId</th>\n",
       "      <th>page</th>\n",
       "    </tr>\n",
       "  </thead>\n",
       "  <tbody>\n",
       "    <tr>\n",
       "      <th>0</th>\n",
       "      <td>100010</td>\n",
       "      <td>0</td>\n",
       "      <td>187</td>\n",
       "      <td>Thumbs Up</td>\n",
       "    </tr>\n",
       "    <tr>\n",
       "      <th>1</th>\n",
       "      <td>100010</td>\n",
       "      <td>0</td>\n",
       "      <td>187</td>\n",
       "      <td>Thumbs Down</td>\n",
       "    </tr>\n",
       "    <tr>\n",
       "      <th>2</th>\n",
       "      <td>100010</td>\n",
       "      <td>0</td>\n",
       "      <td>174</td>\n",
       "      <td>Thumbs Up</td>\n",
       "    </tr>\n",
       "    <tr>\n",
       "      <th>3</th>\n",
       "      <td>100010</td>\n",
       "      <td>0</td>\n",
       "      <td>174</td>\n",
       "      <td>Thumbs Down</td>\n",
       "    </tr>\n",
       "    <tr>\n",
       "      <th>4</th>\n",
       "      <td>100010</td>\n",
       "      <td>0</td>\n",
       "      <td>133</td>\n",
       "      <td>Thumbs Up</td>\n",
       "    </tr>\n",
       "  </tbody>\n",
       "</table>\n",
       "</div>"
      ],
      "text/plain": [
       "   userId  churn  sessionId         page\n",
       "0  100010      0        187    Thumbs Up\n",
       "1  100010      0        187  Thumbs Down\n",
       "2  100010      0        174    Thumbs Up\n",
       "3  100010      0        174  Thumbs Down\n",
       "4  100010      0        133    Thumbs Up"
      ]
     },
     "execution_count": 67,
     "metadata": {},
     "output_type": "execute_result"
    }
   ],
   "source": [
    "df_like_or_dislike.head()"
   ]
  },
  {
   "cell_type": "code",
   "execution_count": 68,
   "metadata": {},
   "outputs": [
    {
     "data": {
      "text/html": [
       "<div>\n",
       "<style scoped>\n",
       "    .dataframe tbody tr th:only-of-type {\n",
       "        vertical-align: middle;\n",
       "    }\n",
       "\n",
       "    .dataframe tbody tr th {\n",
       "        vertical-align: top;\n",
       "    }\n",
       "\n",
       "    .dataframe thead th {\n",
       "        text-align: right;\n",
       "    }\n",
       "</style>\n",
       "<table border=\"1\" class=\"dataframe\">\n",
       "  <thead>\n",
       "    <tr style=\"text-align: right;\">\n",
       "      <th></th>\n",
       "      <th>userId</th>\n",
       "      <th>churn</th>\n",
       "      <th>page</th>\n",
       "      <th>sessionId</th>\n",
       "    </tr>\n",
       "  </thead>\n",
       "  <tbody>\n",
       "    <tr>\n",
       "      <th>0</th>\n",
       "      <td>10</td>\n",
       "      <td>0</td>\n",
       "      <td>Thumbs Down</td>\n",
       "      <td>1</td>\n",
       "    </tr>\n",
       "    <tr>\n",
       "      <th>1</th>\n",
       "      <td>10</td>\n",
       "      <td>0</td>\n",
       "      <td>Thumbs Up</td>\n",
       "      <td>6</td>\n",
       "    </tr>\n",
       "    <tr>\n",
       "      <th>2</th>\n",
       "      <td>100</td>\n",
       "      <td>0</td>\n",
       "      <td>Thumbs Down</td>\n",
       "      <td>11</td>\n",
       "    </tr>\n",
       "    <tr>\n",
       "      <th>3</th>\n",
       "      <td>100</td>\n",
       "      <td>0</td>\n",
       "      <td>Thumbs Up</td>\n",
       "      <td>30</td>\n",
       "    </tr>\n",
       "    <tr>\n",
       "      <th>4</th>\n",
       "      <td>100001</td>\n",
       "      <td>1</td>\n",
       "      <td>Thumbs Down</td>\n",
       "      <td>2</td>\n",
       "    </tr>\n",
       "    <tr>\n",
       "      <th>5</th>\n",
       "      <td>100001</td>\n",
       "      <td>1</td>\n",
       "      <td>Thumbs Up</td>\n",
       "      <td>3</td>\n",
       "    </tr>\n",
       "    <tr>\n",
       "      <th>6</th>\n",
       "      <td>100002</td>\n",
       "      <td>0</td>\n",
       "      <td>Thumbs Up</td>\n",
       "      <td>2</td>\n",
       "    </tr>\n",
       "    <tr>\n",
       "      <th>7</th>\n",
       "      <td>100003</td>\n",
       "      <td>1</td>\n",
       "      <td>Thumbs Up</td>\n",
       "      <td>1</td>\n",
       "    </tr>\n",
       "    <tr>\n",
       "      <th>8</th>\n",
       "      <td>100004</td>\n",
       "      <td>0</td>\n",
       "      <td>Thumbs Down</td>\n",
       "      <td>7</td>\n",
       "    </tr>\n",
       "    <tr>\n",
       "      <th>9</th>\n",
       "      <td>100004</td>\n",
       "      <td>0</td>\n",
       "      <td>Thumbs Up</td>\n",
       "      <td>13</td>\n",
       "    </tr>\n",
       "    <tr>\n",
       "      <th>10</th>\n",
       "      <td>100005</td>\n",
       "      <td>1</td>\n",
       "      <td>Thumbs Down</td>\n",
       "      <td>2</td>\n",
       "    </tr>\n",
       "    <tr>\n",
       "      <th>11</th>\n",
       "      <td>100005</td>\n",
       "      <td>1</td>\n",
       "      <td>Thumbs Up</td>\n",
       "      <td>3</td>\n",
       "    </tr>\n",
       "    <tr>\n",
       "      <th>12</th>\n",
       "      <td>100006</td>\n",
       "      <td>1</td>\n",
       "      <td>Thumbs Down</td>\n",
       "      <td>1</td>\n",
       "    </tr>\n",
       "    <tr>\n",
       "      <th>13</th>\n",
       "      <td>100006</td>\n",
       "      <td>1</td>\n",
       "      <td>Thumbs Up</td>\n",
       "      <td>1</td>\n",
       "    </tr>\n",
       "    <tr>\n",
       "      <th>14</th>\n",
       "      <td>100007</td>\n",
       "      <td>1</td>\n",
       "      <td>Thumbs Down</td>\n",
       "      <td>3</td>\n",
       "    </tr>\n",
       "    <tr>\n",
       "      <th>15</th>\n",
       "      <td>100007</td>\n",
       "      <td>1</td>\n",
       "      <td>Thumbs Up</td>\n",
       "      <td>6</td>\n",
       "    </tr>\n",
       "    <tr>\n",
       "      <th>16</th>\n",
       "      <td>100008</td>\n",
       "      <td>0</td>\n",
       "      <td>Thumbs Down</td>\n",
       "      <td>3</td>\n",
       "    </tr>\n",
       "    <tr>\n",
       "      <th>17</th>\n",
       "      <td>100008</td>\n",
       "      <td>0</td>\n",
       "      <td>Thumbs Up</td>\n",
       "      <td>5</td>\n",
       "    </tr>\n",
       "    <tr>\n",
       "      <th>18</th>\n",
       "      <td>100009</td>\n",
       "      <td>1</td>\n",
       "      <td>Thumbs Down</td>\n",
       "      <td>4</td>\n",
       "    </tr>\n",
       "    <tr>\n",
       "      <th>19</th>\n",
       "      <td>100009</td>\n",
       "      <td>1</td>\n",
       "      <td>Thumbs Up</td>\n",
       "      <td>8</td>\n",
       "    </tr>\n",
       "    <tr>\n",
       "      <th>20</th>\n",
       "      <td>100010</td>\n",
       "      <td>0</td>\n",
       "      <td>Thumbs Down</td>\n",
       "      <td>4</td>\n",
       "    </tr>\n",
       "    <tr>\n",
       "      <th>21</th>\n",
       "      <td>100010</td>\n",
       "      <td>0</td>\n",
       "      <td>Thumbs Up</td>\n",
       "      <td>6</td>\n",
       "    </tr>\n",
       "    <tr>\n",
       "      <th>22</th>\n",
       "      <td>100011</td>\n",
       "      <td>1</td>\n",
       "      <td>Thumbs Down</td>\n",
       "      <td>1</td>\n",
       "    </tr>\n",
       "    <tr>\n",
       "      <th>23</th>\n",
       "      <td>100012</td>\n",
       "      <td>1</td>\n",
       "      <td>Thumbs Down</td>\n",
       "      <td>4</td>\n",
       "    </tr>\n",
       "    <tr>\n",
       "      <th>24</th>\n",
       "      <td>100012</td>\n",
       "      <td>1</td>\n",
       "      <td>Thumbs Up</td>\n",
       "      <td>5</td>\n",
       "    </tr>\n",
       "    <tr>\n",
       "      <th>25</th>\n",
       "      <td>100013</td>\n",
       "      <td>1</td>\n",
       "      <td>Thumbs Down</td>\n",
       "      <td>6</td>\n",
       "    </tr>\n",
       "    <tr>\n",
       "      <th>26</th>\n",
       "      <td>100013</td>\n",
       "      <td>1</td>\n",
       "      <td>Thumbs Up</td>\n",
       "      <td>11</td>\n",
       "    </tr>\n",
       "    <tr>\n",
       "      <th>27</th>\n",
       "      <td>100014</td>\n",
       "      <td>1</td>\n",
       "      <td>Thumbs Down</td>\n",
       "      <td>3</td>\n",
       "    </tr>\n",
       "    <tr>\n",
       "      <th>28</th>\n",
       "      <td>100014</td>\n",
       "      <td>1</td>\n",
       "      <td>Thumbs Up</td>\n",
       "      <td>5</td>\n",
       "    </tr>\n",
       "    <tr>\n",
       "      <th>29</th>\n",
       "      <td>100015</td>\n",
       "      <td>1</td>\n",
       "      <td>Thumbs Down</td>\n",
       "      <td>5</td>\n",
       "    </tr>\n",
       "    <tr>\n",
       "      <th>...</th>\n",
       "      <td>...</td>\n",
       "      <td>...</td>\n",
       "      <td>...</td>\n",
       "      <td>...</td>\n",
       "    </tr>\n",
       "    <tr>\n",
       "      <th>393</th>\n",
       "      <td>85</td>\n",
       "      <td>0</td>\n",
       "      <td>Thumbs Down</td>\n",
       "      <td>21</td>\n",
       "    </tr>\n",
       "    <tr>\n",
       "      <th>394</th>\n",
       "      <td>85</td>\n",
       "      <td>0</td>\n",
       "      <td>Thumbs Up</td>\n",
       "      <td>35</td>\n",
       "    </tr>\n",
       "    <tr>\n",
       "      <th>395</th>\n",
       "      <td>86</td>\n",
       "      <td>0</td>\n",
       "      <td>Thumbs Down</td>\n",
       "      <td>5</td>\n",
       "    </tr>\n",
       "    <tr>\n",
       "      <th>396</th>\n",
       "      <td>86</td>\n",
       "      <td>0</td>\n",
       "      <td>Thumbs Up</td>\n",
       "      <td>7</td>\n",
       "    </tr>\n",
       "    <tr>\n",
       "      <th>397</th>\n",
       "      <td>87</td>\n",
       "      <td>1</td>\n",
       "      <td>Thumbs Down</td>\n",
       "      <td>5</td>\n",
       "    </tr>\n",
       "    <tr>\n",
       "      <th>398</th>\n",
       "      <td>87</td>\n",
       "      <td>1</td>\n",
       "      <td>Thumbs Up</td>\n",
       "      <td>14</td>\n",
       "    </tr>\n",
       "    <tr>\n",
       "      <th>399</th>\n",
       "      <td>88</td>\n",
       "      <td>0</td>\n",
       "      <td>Thumbs Down</td>\n",
       "      <td>7</td>\n",
       "    </tr>\n",
       "    <tr>\n",
       "      <th>400</th>\n",
       "      <td>88</td>\n",
       "      <td>0</td>\n",
       "      <td>Thumbs Up</td>\n",
       "      <td>16</td>\n",
       "    </tr>\n",
       "    <tr>\n",
       "      <th>401</th>\n",
       "      <td>89</td>\n",
       "      <td>0</td>\n",
       "      <td>Thumbs Down</td>\n",
       "      <td>2</td>\n",
       "    </tr>\n",
       "    <tr>\n",
       "      <th>402</th>\n",
       "      <td>89</td>\n",
       "      <td>0</td>\n",
       "      <td>Thumbs Up</td>\n",
       "      <td>5</td>\n",
       "    </tr>\n",
       "    <tr>\n",
       "      <th>403</th>\n",
       "      <td>9</td>\n",
       "      <td>0</td>\n",
       "      <td>Thumbs Down</td>\n",
       "      <td>17</td>\n",
       "    </tr>\n",
       "    <tr>\n",
       "      <th>404</th>\n",
       "      <td>9</td>\n",
       "      <td>0</td>\n",
       "      <td>Thumbs Up</td>\n",
       "      <td>27</td>\n",
       "    </tr>\n",
       "    <tr>\n",
       "      <th>405</th>\n",
       "      <td>91</td>\n",
       "      <td>0</td>\n",
       "      <td>Thumbs Down</td>\n",
       "      <td>7</td>\n",
       "    </tr>\n",
       "    <tr>\n",
       "      <th>406</th>\n",
       "      <td>91</td>\n",
       "      <td>0</td>\n",
       "      <td>Thumbs Up</td>\n",
       "      <td>9</td>\n",
       "    </tr>\n",
       "    <tr>\n",
       "      <th>407</th>\n",
       "      <td>92</td>\n",
       "      <td>0</td>\n",
       "      <td>Thumbs Down</td>\n",
       "      <td>35</td>\n",
       "    </tr>\n",
       "    <tr>\n",
       "      <th>408</th>\n",
       "      <td>92</td>\n",
       "      <td>0</td>\n",
       "      <td>Thumbs Up</td>\n",
       "      <td>66</td>\n",
       "    </tr>\n",
       "    <tr>\n",
       "      <th>409</th>\n",
       "      <td>93</td>\n",
       "      <td>0</td>\n",
       "      <td>Thumbs Down</td>\n",
       "      <td>4</td>\n",
       "    </tr>\n",
       "    <tr>\n",
       "      <th>410</th>\n",
       "      <td>93</td>\n",
       "      <td>0</td>\n",
       "      <td>Thumbs Up</td>\n",
       "      <td>11</td>\n",
       "    </tr>\n",
       "    <tr>\n",
       "      <th>411</th>\n",
       "      <td>94</td>\n",
       "      <td>0</td>\n",
       "      <td>Thumbs Down</td>\n",
       "      <td>1</td>\n",
       "    </tr>\n",
       "    <tr>\n",
       "      <th>412</th>\n",
       "      <td>94</td>\n",
       "      <td>0</td>\n",
       "      <td>Thumbs Up</td>\n",
       "      <td>2</td>\n",
       "    </tr>\n",
       "    <tr>\n",
       "      <th>413</th>\n",
       "      <td>95</td>\n",
       "      <td>0</td>\n",
       "      <td>Thumbs Down</td>\n",
       "      <td>12</td>\n",
       "    </tr>\n",
       "    <tr>\n",
       "      <th>414</th>\n",
       "      <td>95</td>\n",
       "      <td>0</td>\n",
       "      <td>Thumbs Up</td>\n",
       "      <td>23</td>\n",
       "    </tr>\n",
       "    <tr>\n",
       "      <th>415</th>\n",
       "      <td>96</td>\n",
       "      <td>0</td>\n",
       "      <td>Thumbs Down</td>\n",
       "      <td>10</td>\n",
       "    </tr>\n",
       "    <tr>\n",
       "      <th>416</th>\n",
       "      <td>96</td>\n",
       "      <td>0</td>\n",
       "      <td>Thumbs Up</td>\n",
       "      <td>14</td>\n",
       "    </tr>\n",
       "    <tr>\n",
       "      <th>417</th>\n",
       "      <td>97</td>\n",
       "      <td>0</td>\n",
       "      <td>Thumbs Down</td>\n",
       "      <td>9</td>\n",
       "    </tr>\n",
       "    <tr>\n",
       "      <th>418</th>\n",
       "      <td>97</td>\n",
       "      <td>0</td>\n",
       "      <td>Thumbs Up</td>\n",
       "      <td>20</td>\n",
       "    </tr>\n",
       "    <tr>\n",
       "      <th>419</th>\n",
       "      <td>98</td>\n",
       "      <td>0</td>\n",
       "      <td>Thumbs Down</td>\n",
       "      <td>10</td>\n",
       "    </tr>\n",
       "    <tr>\n",
       "      <th>420</th>\n",
       "      <td>98</td>\n",
       "      <td>0</td>\n",
       "      <td>Thumbs Up</td>\n",
       "      <td>25</td>\n",
       "    </tr>\n",
       "    <tr>\n",
       "      <th>421</th>\n",
       "      <td>99</td>\n",
       "      <td>0</td>\n",
       "      <td>Thumbs Down</td>\n",
       "      <td>4</td>\n",
       "    </tr>\n",
       "    <tr>\n",
       "      <th>422</th>\n",
       "      <td>99</td>\n",
       "      <td>0</td>\n",
       "      <td>Thumbs Up</td>\n",
       "      <td>7</td>\n",
       "    </tr>\n",
       "  </tbody>\n",
       "</table>\n",
       "<p>423 rows × 4 columns</p>\n",
       "</div>"
      ],
      "text/plain": [
       "     userId  churn         page  sessionId\n",
       "0        10      0  Thumbs Down          1\n",
       "1        10      0    Thumbs Up          6\n",
       "2       100      0  Thumbs Down         11\n",
       "3       100      0    Thumbs Up         30\n",
       "4    100001      1  Thumbs Down          2\n",
       "5    100001      1    Thumbs Up          3\n",
       "6    100002      0    Thumbs Up          2\n",
       "7    100003      1    Thumbs Up          1\n",
       "8    100004      0  Thumbs Down          7\n",
       "9    100004      0    Thumbs Up         13\n",
       "10   100005      1  Thumbs Down          2\n",
       "11   100005      1    Thumbs Up          3\n",
       "12   100006      1  Thumbs Down          1\n",
       "13   100006      1    Thumbs Up          1\n",
       "14   100007      1  Thumbs Down          3\n",
       "15   100007      1    Thumbs Up          6\n",
       "16   100008      0  Thumbs Down          3\n",
       "17   100008      0    Thumbs Up          5\n",
       "18   100009      1  Thumbs Down          4\n",
       "19   100009      1    Thumbs Up          8\n",
       "20   100010      0  Thumbs Down          4\n",
       "21   100010      0    Thumbs Up          6\n",
       "22   100011      1  Thumbs Down          1\n",
       "23   100012      1  Thumbs Down          4\n",
       "24   100012      1    Thumbs Up          5\n",
       "25   100013      1  Thumbs Down          6\n",
       "26   100013      1    Thumbs Up         11\n",
       "27   100014      1  Thumbs Down          3\n",
       "28   100014      1    Thumbs Up          5\n",
       "29   100015      1  Thumbs Down          5\n",
       "..      ...    ...          ...        ...\n",
       "393      85      0  Thumbs Down         21\n",
       "394      85      0    Thumbs Up         35\n",
       "395      86      0  Thumbs Down          5\n",
       "396      86      0    Thumbs Up          7\n",
       "397      87      1  Thumbs Down          5\n",
       "398      87      1    Thumbs Up         14\n",
       "399      88      0  Thumbs Down          7\n",
       "400      88      0    Thumbs Up         16\n",
       "401      89      0  Thumbs Down          2\n",
       "402      89      0    Thumbs Up          5\n",
       "403       9      0  Thumbs Down         17\n",
       "404       9      0    Thumbs Up         27\n",
       "405      91      0  Thumbs Down          7\n",
       "406      91      0    Thumbs Up          9\n",
       "407      92      0  Thumbs Down         35\n",
       "408      92      0    Thumbs Up         66\n",
       "409      93      0  Thumbs Down          4\n",
       "410      93      0    Thumbs Up         11\n",
       "411      94      0  Thumbs Down          1\n",
       "412      94      0    Thumbs Up          2\n",
       "413      95      0  Thumbs Down         12\n",
       "414      95      0    Thumbs Up         23\n",
       "415      96      0  Thumbs Down         10\n",
       "416      96      0    Thumbs Up         14\n",
       "417      97      0  Thumbs Down          9\n",
       "418      97      0    Thumbs Up         20\n",
       "419      98      0  Thumbs Down         10\n",
       "420      98      0    Thumbs Up         25\n",
       "421      99      0  Thumbs Down          4\n",
       "422      99      0    Thumbs Up          7\n",
       "\n",
       "[423 rows x 4 columns]"
      ]
     },
     "execution_count": 68,
     "metadata": {},
     "output_type": "execute_result"
    }
   ],
   "source": [
    "df_like_or_dislike = df_like_or_dislike.groupby(['userId','churn','page']).count().reset_index()\n",
    "df_like_or_dislike\n"
   ]
  },
  {
   "cell_type": "code",
   "execution_count": 69,
   "metadata": {},
   "outputs": [],
   "source": [
    "df_like_or_dislike = df_like_or_dislike.pivot_table(index=['userId', 'churn'], columns='page', values='sessionId', aggfunc='sum', fill_value=0).reset_index()"
   ]
  },
  {
   "cell_type": "code",
   "execution_count": 70,
   "metadata": {},
   "outputs": [
    {
     "data": {
      "text/html": [
       "<div>\n",
       "<style scoped>\n",
       "    .dataframe tbody tr th:only-of-type {\n",
       "        vertical-align: middle;\n",
       "    }\n",
       "\n",
       "    .dataframe tbody tr th {\n",
       "        vertical-align: top;\n",
       "    }\n",
       "\n",
       "    .dataframe thead th {\n",
       "        text-align: right;\n",
       "    }\n",
       "</style>\n",
       "<table border=\"1\" class=\"dataframe\">\n",
       "  <thead>\n",
       "    <tr style=\"text-align: right;\">\n",
       "      <th>page</th>\n",
       "      <th>userId</th>\n",
       "      <th>churn</th>\n",
       "      <th>Thumbs Down</th>\n",
       "      <th>Thumbs Up</th>\n",
       "      <th>rate</th>\n",
       "    </tr>\n",
       "  </thead>\n",
       "  <tbody>\n",
       "    <tr>\n",
       "      <th>0</th>\n",
       "      <td>10</td>\n",
       "      <td>0</td>\n",
       "      <td>1</td>\n",
       "      <td>6</td>\n",
       "      <td>3.500000</td>\n",
       "    </tr>\n",
       "    <tr>\n",
       "      <th>1</th>\n",
       "      <td>100</td>\n",
       "      <td>0</td>\n",
       "      <td>11</td>\n",
       "      <td>30</td>\n",
       "      <td>2.583333</td>\n",
       "    </tr>\n",
       "    <tr>\n",
       "      <th>2</th>\n",
       "      <td>100001</td>\n",
       "      <td>1</td>\n",
       "      <td>2</td>\n",
       "      <td>3</td>\n",
       "      <td>1.333333</td>\n",
       "    </tr>\n",
       "    <tr>\n",
       "      <th>3</th>\n",
       "      <td>100002</td>\n",
       "      <td>0</td>\n",
       "      <td>0</td>\n",
       "      <td>2</td>\n",
       "      <td>3.000000</td>\n",
       "    </tr>\n",
       "    <tr>\n",
       "      <th>4</th>\n",
       "      <td>100003</td>\n",
       "      <td>1</td>\n",
       "      <td>0</td>\n",
       "      <td>1</td>\n",
       "      <td>2.000000</td>\n",
       "    </tr>\n",
       "  </tbody>\n",
       "</table>\n",
       "</div>"
      ],
      "text/plain": [
       "page  userId  churn  Thumbs Down  Thumbs Up      rate\n",
       "0         10      0            1          6  3.500000\n",
       "1        100      0           11         30  2.583333\n",
       "2     100001      1            2          3  1.333333\n",
       "3     100002      0            0          2  3.000000\n",
       "4     100003      1            0          1  2.000000"
      ]
     },
     "execution_count": 70,
     "metadata": {},
     "output_type": "execute_result"
    }
   ],
   "source": [
    "df_like_or_dislike['rate'] = (df_like_or_dislike['Thumbs Up']+1)/(df_like_or_dislike['Thumbs Down']+1)\n",
    "df_like_or_dislike.head()"
   ]
  },
  {
   "cell_type": "code",
   "execution_count": 71,
   "metadata": {},
   "outputs": [
    {
     "data": {
      "text/html": [
       "<div>\n",
       "<style scoped>\n",
       "    .dataframe tbody tr th:only-of-type {\n",
       "        vertical-align: middle;\n",
       "    }\n",
       "\n",
       "    .dataframe tbody tr th {\n",
       "        vertical-align: top;\n",
       "    }\n",
       "\n",
       "    .dataframe thead th {\n",
       "        text-align: right;\n",
       "    }\n",
       "</style>\n",
       "<table border=\"1\" class=\"dataframe\">\n",
       "  <thead>\n",
       "    <tr style=\"text-align: right;\">\n",
       "      <th>page</th>\n",
       "      <th>Thumbs Down</th>\n",
       "      <th>Thumbs Up</th>\n",
       "      <th>rate</th>\n",
       "    </tr>\n",
       "    <tr>\n",
       "      <th>churn</th>\n",
       "      <th></th>\n",
       "      <th></th>\n",
       "      <th></th>\n",
       "    </tr>\n",
       "  </thead>\n",
       "  <tbody>\n",
       "    <tr>\n",
       "      <th>0</th>\n",
       "      <td>6.341176</td>\n",
       "      <td>11.758824</td>\n",
       "      <td>1.921603</td>\n",
       "    </tr>\n",
       "    <tr>\n",
       "      <th>1</th>\n",
       "      <td>4.921569</td>\n",
       "      <td>7.686275</td>\n",
       "      <td>1.569598</td>\n",
       "    </tr>\n",
       "  </tbody>\n",
       "</table>\n",
       "</div>"
      ],
      "text/plain": [
       "page   Thumbs Down  Thumbs Up      rate\n",
       "churn                                  \n",
       "0         6.341176  11.758824  1.921603\n",
       "1         4.921569   7.686275  1.569598"
      ]
     },
     "execution_count": 71,
     "metadata": {},
     "output_type": "execute_result"
    }
   ],
   "source": [
    "# Group by churn\n",
    "grouped = df_like_or_dislike.groupby('churn').mean()\n",
    "grouped.head()"
   ]
  },
  {
   "cell_type": "markdown",
   "metadata": {},
   "source": [
    "The number of likes and dislikes churned is quite low, the like/dislike ratio is also lower than churn=0"
   ]
  },
  {
   "cell_type": "markdown",
   "metadata": {},
   "source": [
    "#### Does the operating system have any impact on churn?"
   ]
  },
  {
   "cell_type": "code",
   "execution_count": 72,
   "metadata": {},
   "outputs": [
    {
     "data": {
      "text/html": [
       "<div>\n",
       "<style scoped>\n",
       "    .dataframe tbody tr th:only-of-type {\n",
       "        vertical-align: middle;\n",
       "    }\n",
       "\n",
       "    .dataframe tbody tr th {\n",
       "        vertical-align: top;\n",
       "    }\n",
       "\n",
       "    .dataframe thead th {\n",
       "        text-align: right;\n",
       "    }\n",
       "</style>\n",
       "<table border=\"1\" class=\"dataframe\">\n",
       "  <thead>\n",
       "    <tr style=\"text-align: right;\">\n",
       "      <th></th>\n",
       "      <th>userId</th>\n",
       "      <th>churn</th>\n",
       "      <th>sessionId</th>\n",
       "      <th>userAgent</th>\n",
       "    </tr>\n",
       "  </thead>\n",
       "  <tbody>\n",
       "    <tr>\n",
       "      <th>0</th>\n",
       "      <td>100010</td>\n",
       "      <td>0</td>\n",
       "      <td>187</td>\n",
       "      <td>\"Mozilla/5.0 (iPhone; CPU iPhone OS 7_1_2 like...</td>\n",
       "    </tr>\n",
       "    <tr>\n",
       "      <th>1</th>\n",
       "      <td>100010</td>\n",
       "      <td>0</td>\n",
       "      <td>174</td>\n",
       "      <td>\"Mozilla/5.0 (iPhone; CPU iPhone OS 7_1_2 like...</td>\n",
       "    </tr>\n",
       "    <tr>\n",
       "      <th>2</th>\n",
       "      <td>100010</td>\n",
       "      <td>0</td>\n",
       "      <td>133</td>\n",
       "      <td>\"Mozilla/5.0 (iPhone; CPU iPhone OS 7_1_2 like...</td>\n",
       "    </tr>\n",
       "    <tr>\n",
       "      <th>3</th>\n",
       "      <td>100010</td>\n",
       "      <td>0</td>\n",
       "      <td>118</td>\n",
       "      <td>\"Mozilla/5.0 (iPhone; CPU iPhone OS 7_1_2 like...</td>\n",
       "    </tr>\n",
       "    <tr>\n",
       "      <th>4</th>\n",
       "      <td>100010</td>\n",
       "      <td>0</td>\n",
       "      <td>113</td>\n",
       "      <td>\"Mozilla/5.0 (iPhone; CPU iPhone OS 7_1_2 like...</td>\n",
       "    </tr>\n",
       "  </tbody>\n",
       "</table>\n",
       "</div>"
      ],
      "text/plain": [
       "   userId  churn  sessionId                                          userAgent\n",
       "0  100010      0        187  \"Mozilla/5.0 (iPhone; CPU iPhone OS 7_1_2 like...\n",
       "1  100010      0        174  \"Mozilla/5.0 (iPhone; CPU iPhone OS 7_1_2 like...\n",
       "2  100010      0        133  \"Mozilla/5.0 (iPhone; CPU iPhone OS 7_1_2 like...\n",
       "3  100010      0        118  \"Mozilla/5.0 (iPhone; CPU iPhone OS 7_1_2 like...\n",
       "4  100010      0        113  \"Mozilla/5.0 (iPhone; CPU iPhone OS 7_1_2 like..."
      ]
     },
     "execution_count": 72,
     "metadata": {},
     "output_type": "execute_result"
    }
   ],
   "source": [
    "df_userAgent = df.select(['userId', 'churn', 'sessionId', 'userAgent']).dropDuplicates().toPandas()\n",
    "df_userAgent.head()"
   ]
  },
  {
   "cell_type": "code",
   "execution_count": 73,
   "metadata": {},
   "outputs": [
    {
     "data": {
      "text/plain": [
       "\"Mozilla/5.0 (Windows NT 6.1; WOW64) AppleWebKit/537.36 (KHTML, like Gecko) Chrome/36.0.1985.143 Safari/537.36\"                                265\n",
       "\"Mozilla/5.0 (Macintosh; Intel Mac OS X 10_9_4) AppleWebKit/537.77.4 (KHTML, like Gecko) Version/7.0.5 Safari/537.77.4\"                        236\n",
       "Mozilla/5.0 (Windows NT 6.1; WOW64; rv:31.0) Gecko/20100101 Firefox/31.0                                                                       196\n",
       "\"Mozilla/5.0 (Macintosh; Intel Mac OS X 10_9_4) AppleWebKit/537.36 (KHTML, like Gecko) Chrome/36.0.1985.125 Safari/537.36\"                     174\n",
       "\"Mozilla/5.0 (Macintosh; Intel Mac OS X 10_9_4) AppleWebKit/537.36 (KHTML, like Gecko) Chrome/36.0.1985.143 Safari/537.36\"                     163\n",
       "\"Mozilla/5.0 (Windows NT 6.1; WOW64) AppleWebKit/537.36 (KHTML, like Gecko) Chrome/37.0.2062.103 Safari/537.36\"                                156\n",
       "\"Mozilla/5.0 (Windows NT 6.1; WOW64) AppleWebKit/537.36 (KHTML, like Gecko) Chrome/36.0.1985.125 Safari/537.36\"                                156\n",
       "Mozilla/5.0 (Macintosh; Intel Mac OS X 10.9; rv:31.0) Gecko/20100101 Firefox/31.0                                                              141\n",
       "\"Mozilla/5.0 (Windows NT 6.3; WOW64) AppleWebKit/537.36 (KHTML, like Gecko) Chrome/36.0.1985.143 Safari/537.36\"                                123\n",
       "\"Mozilla/5.0 (Macintosh; Intel Mac OS X 10_9_4) AppleWebKit/537.78.2 (KHTML, like Gecko) Version/7.0.6 Safari/537.78.2\"                        108\n",
       "\"Mozilla/5.0 (iPad; CPU OS 7_1_2 like Mac OS X) AppleWebKit/537.51.2 (KHTML, like Gecko) Version/7.0 Mobile/11D257 Safari/9537.53\"             106\n",
       "\"Mozilla/5.0 (iPhone; CPU iPhone OS 7_1_2 like Mac OS X) AppleWebKit/537.51.2 (KHTML, like Gecko) Version/7.0 Mobile/11D257 Safari/9537.53\"    102\n",
       "Mozilla/5.0 (compatible; MSIE 9.0; Windows NT 6.1; WOW64; Trident/5.0)                                                                          98\n",
       "\"Mozilla/5.0 (Macintosh; Intel Mac OS X 10_10) AppleWebKit/600.1.8 (KHTML, like Gecko) Version/8.0 Safari/600.1.8\"                              84\n",
       "\"Mozilla/5.0 (Macintosh; Intel Mac OS X 10_9_4) AppleWebKit/537.36 (KHTML, like Gecko) Chrome/37.0.2062.94 Safari/537.36\"                       84\n",
       "\"Mozilla/5.0 (Windows NT 6.1) AppleWebKit/537.36 (KHTML, like Gecko) Chrome/36.0.1985.143 Safari/537.36\"                                        79\n",
       "Mozilla/5.0 (Windows NT 6.1; WOW64; Trident/7.0; rv:11.0) like Gecko                                                                            60\n",
       "\"Mozilla/5.0 (Windows NT 5.1) AppleWebKit/537.36 (KHTML, like Gecko) Chrome/36.0.1985.143 Safari/537.36\"                                        55\n",
       "\"Mozilla/5.0 (Windows NT 6.3; WOW64) AppleWebKit/537.36 (KHTML, like Gecko) Chrome/36.0.1985.125 Safari/537.36\"                                 51\n",
       "\"Mozilla/5.0 (Windows NT 6.1; WOW64) AppleWebKit/537.36 (KHTML, like Gecko) Chrome/37.0.2062.94 Safari/537.36\"                                  50\n",
       "\"Mozilla/5.0 (Macintosh; Intel Mac OS X 10_9_2) AppleWebKit/537.36 (KHTML, like Gecko) Chrome/36.0.1985.125 Safari/537.36\"                      43\n",
       "Mozilla/5.0 (Windows NT 6.1; WOW64; rv:32.0) Gecko/20100101 Firefox/32.0                                                                        41\n",
       "\"Mozilla/5.0 (X11; Linux x86_64) AppleWebKit/537.36 (KHTML, like Gecko) Chrome/36.0.1985.143 Safari/537.36\"                                     40\n",
       "Mozilla/5.0 (Windows NT 6.3; WOW64; rv:31.0) Gecko/20100101 Firefox/31.0                                                                        39\n",
       "\"Mozilla/5.0 (iPhone; CPU iPhone OS 7_1 like Mac OS X) AppleWebKit/537.51.2 (KHTML, like Gecko) Version/7.0 Mobile/11D167 Safari/9537.53\"       36\n",
       "Mozilla/5.0 (Windows NT 6.1; WOW64; rv:30.0) Gecko/20100101 Firefox/30.0                                                                        35\n",
       "Mozilla/5.0 (X11; Ubuntu; Linux x86_64; rv:31.0) Gecko/20100101 Firefox/31.0                                                                    29\n",
       "\"Mozilla/5.0 (X11; Linux x86_64) AppleWebKit/537.36 (KHTML, like Gecko) Chrome/36.0.1985.125 Safari/537.36\"                                     29\n",
       "\"Mozilla/5.0 (Windows NT 6.1) AppleWebKit/537.36 (KHTML, like Gecko) Chrome/36.0.1985.125 Safari/537.36\"                                        26\n",
       "\"Mozilla/5.0 (Windows NT 6.1; WOW64) AppleWebKit/537.36 (KHTML, like Gecko) Chrome/35.0.1916.153 Safari/537.36\"                                 24\n",
       "\"Mozilla/5.0 (Windows NT 6.2; WOW64) AppleWebKit/537.36 (KHTML, like Gecko) Chrome/36.0.1985.125 Safari/537.36\"                                 24\n",
       "Mozilla/5.0 (X11; Linux x86_64; rv:31.0) Gecko/20100101 Firefox/31.0                                                                            23\n",
       "Mozilla/5.0 (Macintosh; Intel Mac OS X 10.7; rv:31.0) Gecko/20100101 Firefox/31.0                                                               23\n",
       "Mozilla/5.0 (Windows NT 6.0; rv:31.0) Gecko/20100101 Firefox/31.0                                                                               22\n",
       "Mozilla/5.0 (Windows NT 6.1; rv:31.0) Gecko/20100101 Firefox/31.0                                                                               21\n",
       "Mozilla/5.0 (compatible; MSIE 9.0; Windows NT 6.1; Trident/5.0)                                                                                 21\n",
       "\"Mozilla/5.0 (Windows NT 5.1) AppleWebKit/537.36 (KHTML, like Gecko) Chrome/36.0.1985.125 Safari/537.36\"                                        19\n",
       "\"Mozilla/5.0 (iPhone; CPU iPhone OS 7_1_1 like Mac OS X) AppleWebKit/537.51.2 (KHTML, like Gecko) Version/7.0 Mobile/11D201 Safari/9537.53\"     19\n",
       "Mozilla/5.0 (Macintosh; Intel Mac OS X 10.8; rv:31.0) Gecko/20100101 Firefox/31.0                                                               18\n",
       "\"Mozilla/5.0 (Macintosh; Intel Mac OS X 10_9_3) AppleWebKit/537.76.4 (KHTML, like Gecko) Version/7.0.4 Safari/537.76.4\"                         17\n",
       "\"Mozilla/5.0 (Macintosh; Intel Mac OS X 10_9_4) AppleWebKit/537.36 (KHTML, like Gecko) Chrome/35.0.1916.153 Safari/537.36\"                      17\n",
       "\"Mozilla/5.0 (iPad; CPU OS 7_1_1 like Mac OS X) AppleWebKit/537.51.2 (KHTML, like Gecko) Version/7.0 Mobile/11D201 Safari/9537.53\"              15\n",
       "\"Mozilla/5.0 (Macintosh; Intel Mac OS X 10_10) AppleWebKit/600.1.3 (KHTML, like Gecko) Version/8.0 Safari/600.1.3\"                              13\n",
       "\"Mozilla/5.0 (Windows NT 6.2; WOW64) AppleWebKit/537.36 (KHTML, like Gecko) Chrome/36.0.1985.143 Safari/537.36\"                                 12\n",
       "Mozilla/5.0 (compatible; MSIE 10.0; Windows NT 6.1; WOW64; Trident/6.0)                                                                         12\n",
       "\"Mozilla/5.0 (Macintosh; Intel Mac OS X 10_9_2) AppleWebKit/537.74.9 (KHTML, like Gecko) Version/7.0.2 Safari/537.74.9\"                         11\n",
       "Mozilla/5.0 (Windows NT 6.2; WOW64; rv:31.0) Gecko/20100101 Firefox/31.0                                                                        10\n",
       "\"Mozilla/5.0 (Macintosh; Intel Mac OS X 10_7_5) AppleWebKit/537.77.4 (KHTML, like Gecko) Version/6.1.5 Safari/537.77.4\"                          9\n",
       "Mozilla/5.0 (Macintosh; Intel Mac OS X 10.6; rv:31.0) Gecko/20100101 Firefox/31.0                                                                9\n",
       "Mozilla/5.0 (Windows NT 6.1; WOW64; rv:24.0) Gecko/20100101 Firefox/24.0                                                                         7\n",
       "\"Mozilla/5.0 (Macintosh; Intel Mac OS X 10_7_5) AppleWebKit/537.36 (KHTML, like Gecko) Chrome/36.0.1985.125 Safari/537.36\"                       5\n",
       "\"Mozilla/5.0 (Macintosh; Intel Mac OS X 10_8_5) AppleWebKit/537.36 (KHTML, like Gecko) Chrome/37.0.2062.94 Safari/537.36\"                        5\n",
       "\"Mozilla/5.0 (Macintosh; Intel Mac OS X 10_8_5) AppleWebKit/537.36 (KHTML, like Gecko) Chrome/36.0.1985.143 Safari/537.36\"                       4\n",
       "\"Mozilla/5.0 (Macintosh; Intel Mac OS X 10_6_8) AppleWebKit/537.36 (KHTML, like Gecko) Chrome/36.0.1985.143 Safari/537.36\"                       4\n",
       "Mozilla/5.0 (X11; Ubuntu; Linux i686; rv:31.0) Gecko/20100101 Firefox/31.0                                                                       4\n",
       "\"Mozilla/5.0 (Macintosh; Intel Mac OS X 10_9_2) AppleWebKit/537.75.14 (KHTML, like Gecko) Version/7.0.3 Safari/537.75.14\"                        3\n",
       "Name: userAgent, dtype: int64"
      ]
     },
     "execution_count": 73,
     "metadata": {},
     "output_type": "execute_result"
    }
   ],
   "source": [
    "df_userAgent.userAgent.value_counts()"
   ]
  },
  {
   "cell_type": "code",
   "execution_count": 74,
   "metadata": {},
   "outputs": [],
   "source": [
    "# OS keywords\n",
    "os_keywords = {\n",
    "    \"Windows\": [\"Windows NT\"],\n",
    "    \"Mac\": [\"Macintosh\"],\n",
    "    \"Linux\": [\"X11\", \"Linux\"],\n",
    "    \"iOS\": [\"iPhone\", \"iPad\"],\n",
    "    \"Other\": []  # Default category for unmatched cases\n",
    "}\n",
    "\n",
    "# Function to classify OS\n",
    "def classify_os(user_agent):\n",
    "    for os, keywords in os_keywords.items():\n",
    "        if any(keyword in user_agent for keyword in keywords):\n",
    "            return os\n",
    "    return \"Other\"\n",
    "\n",
    "# Add a new column for OS classification\n",
    "df_userAgent[\"OS\"] = df_userAgent[\"userAgent\"].apply(classify_os)\n",
    "\n",
    "# Group by OS and sum the counts\n",
    "os_distribution = df_userAgent.groupby([\"churn\",\"OS\"])['userId'].count().reset_index()\n",
    "\n"
   ]
  },
  {
   "cell_type": "code",
   "execution_count": 75,
   "metadata": {},
   "outputs": [
    {
     "data": {
      "text/html": [
       "<div>\n",
       "<style scoped>\n",
       "    .dataframe tbody tr th:only-of-type {\n",
       "        vertical-align: middle;\n",
       "    }\n",
       "\n",
       "    .dataframe tbody tr th {\n",
       "        vertical-align: top;\n",
       "    }\n",
       "\n",
       "    .dataframe thead th {\n",
       "        text-align: right;\n",
       "    }\n",
       "</style>\n",
       "<table border=\"1\" class=\"dataframe\">\n",
       "  <thead>\n",
       "    <tr style=\"text-align: right;\">\n",
       "      <th></th>\n",
       "      <th>churn</th>\n",
       "      <th>OS</th>\n",
       "      <th>userId</th>\n",
       "    </tr>\n",
       "  </thead>\n",
       "  <tbody>\n",
       "    <tr>\n",
       "      <th>0</th>\n",
       "      <td>0</td>\n",
       "      <td>Linux</td>\n",
       "      <td>97</td>\n",
       "    </tr>\n",
       "    <tr>\n",
       "      <th>1</th>\n",
       "      <td>0</td>\n",
       "      <td>Mac</td>\n",
       "      <td>936</td>\n",
       "    </tr>\n",
       "    <tr>\n",
       "      <th>2</th>\n",
       "      <td>0</td>\n",
       "      <td>Windows</td>\n",
       "      <td>1352</td>\n",
       "    </tr>\n",
       "    <tr>\n",
       "      <th>3</th>\n",
       "      <td>0</td>\n",
       "      <td>iOS</td>\n",
       "      <td>254</td>\n",
       "    </tr>\n",
       "    <tr>\n",
       "      <th>4</th>\n",
       "      <td>1</td>\n",
       "      <td>Linux</td>\n",
       "      <td>28</td>\n",
       "    </tr>\n",
       "  </tbody>\n",
       "</table>\n",
       "</div>"
      ],
      "text/plain": [
       "   churn       OS  userId\n",
       "0      0    Linux      97\n",
       "1      0      Mac     936\n",
       "2      0  Windows    1352\n",
       "3      0      iOS     254\n",
       "4      1    Linux      28"
      ]
     },
     "execution_count": 75,
     "metadata": {},
     "output_type": "execute_result"
    }
   ],
   "source": [
    "os_distribution.head()"
   ]
  },
  {
   "cell_type": "code",
   "execution_count": 76,
   "metadata": {
    "scrolled": true
   },
   "outputs": [],
   "source": [
    "def plot_os_distribution_pie(df, column_userid, column_os, output_file=None):\n",
    "    \"\"\"\n",
    "    Plots pie charts showing OS distribution grouped by churn status.\n",
    "\n",
    "    Parameters:\n",
    "    -----------\n",
    "    df : pandas.DataFrame\n",
    "        A DataFrame containing OS distribution data. It should have the following columns:\n",
    "        - 'churn': Binary column indicating churn status (0 = not churned, 1 = churned).\n",
    "        - column_userid: Column representing counts or weights for each OS.\n",
    "        - column_os: Column representing the OS categories.\n",
    "\n",
    "    column_userid : str\n",
    "        The column name representing user counts or weights (e.g., 'userId').\n",
    "\n",
    "    column_os : str\n",
    "        The column name representing OS categories (e.g., 'OS').\n",
    "\n",
    "    output_file : str, optional\n",
    "        The file path where the plot will be saved as a PNG file. If None, the plot will only be displayed.\n",
    "\n",
    "    Returns:\n",
    "    --------\n",
    "    None\n",
    "        Displays pie charts with subplots for each churn status and optionally saves it to a file.\n",
    "    \"\"\"\n",
    "    # Group by churn\n",
    "    grouped = df.groupby('churn')\n",
    "\n",
    "    # Create a figure with 2 subplots side by side\n",
    "    fig = plt.figure(figsize=(12, 6))\n",
    "\n",
    "    # Iterate through each group and plot on separate axes\n",
    "    for i, (churn_value, group) in enumerate(grouped):\n",
    "        ax = fig.add_subplot(1, 2, i + 1)  # Create a subplot (1 row, 2 columns, index i+1)\n",
    "        \n",
    "        # Group data by OS and calculate the sum of users for each OS\n",
    "        os_counts = group.groupby(column_os)[column_userid].sum()\n",
    "\n",
    "        # Plot pie chart\n",
    "        ax.pie(\n",
    "            os_counts, \n",
    "            labels=os_counts.index, \n",
    "            autopct='%1.1f%%',  # Show percentage with one decimal place\n",
    "            startangle=90,      # Rotate start angle for better alignment\n",
    "            textprops={'fontsize': 10}  # Adjust text size\n",
    "        )\n",
    "        ax.set_title(f'OS Distribution for Churn = {churn_value}', fontsize=12)  # Add title\n",
    "\n",
    "    # Adjust layout for better spacing\n",
    "    plt.tight_layout()\n",
    "\n",
    "    # Save the plot to file if output_file is specified\n",
    "    if output_file:\n",
    "        plt.savefig(output_file, format='png', dpi=300)\n",
    "        print(f\"Figure saved to {output_file}\")\n",
    "\n",
    "    # Display the plot\n",
    "    plt.show()\n"
   ]
  },
  {
   "cell_type": "code",
   "execution_count": 77,
   "metadata": {},
   "outputs": [
    {
     "name": "stdout",
     "output_type": "stream",
     "text": [
      "Figure saved to os_distribution_pie.png\n"
     ]
    },
    {
     "data": {
      "image/png": "[encoded data removed]",
      "text/plain": [
       "<matplotlib.figure.Figure at 0x7b8a483c6518>"
      ]
     },
     "metadata": {},
     "output_type": "display_data"
    }
   ],
   "source": [
    "plot_os_distribution_pie(\n",
    "    os_distribution, \n",
    "    column_userid='userId', \n",
    "    column_os='OS', \n",
    "    output_file='os_distribution_pie.png'\n",
    ")\n"
   ]
  },
  {
   "cell_type": "markdown",
   "metadata": {},
   "source": [
    "![OS Distribution](os_distribution_pie.png)\n",
    "MacOs and Windows are the majority operating systems."
   ]
  },
  {
   "cell_type": "markdown",
   "metadata": {},
   "source": [
    "#### What is the churn rate if a user has many friends?"
   ]
  },
  {
   "cell_type": "code",
   "execution_count": 78,
   "metadata": {},
   "outputs": [
    {
     "data": {
      "text/html": [
       "<div>\n",
       "<style scoped>\n",
       "    .dataframe tbody tr th:only-of-type {\n",
       "        vertical-align: middle;\n",
       "    }\n",
       "\n",
       "    .dataframe tbody tr th {\n",
       "        vertical-align: top;\n",
       "    }\n",
       "\n",
       "    .dataframe thead th {\n",
       "        text-align: right;\n",
       "    }\n",
       "</style>\n",
       "<table border=\"1\" class=\"dataframe\">\n",
       "  <thead>\n",
       "    <tr style=\"text-align: right;\">\n",
       "      <th></th>\n",
       "      <th>userId</th>\n",
       "      <th>churn</th>\n",
       "      <th>sessionId</th>\n",
       "      <th>page</th>\n",
       "    </tr>\n",
       "  </thead>\n",
       "  <tbody>\n",
       "    <tr>\n",
       "      <th>0</th>\n",
       "      <td>100010</td>\n",
       "      <td>0</td>\n",
       "      <td>133</td>\n",
       "      <td>Add Friend</td>\n",
       "    </tr>\n",
       "    <tr>\n",
       "      <th>1</th>\n",
       "      <td>100010</td>\n",
       "      <td>0</td>\n",
       "      <td>118</td>\n",
       "      <td>Add Friend</td>\n",
       "    </tr>\n",
       "    <tr>\n",
       "      <th>2</th>\n",
       "      <td>100010</td>\n",
       "      <td>0</td>\n",
       "      <td>113</td>\n",
       "      <td>Add Friend</td>\n",
       "    </tr>\n",
       "    <tr>\n",
       "      <th>3</th>\n",
       "      <td>200002</td>\n",
       "      <td>0</td>\n",
       "      <td>163</td>\n",
       "      <td>Add Friend</td>\n",
       "    </tr>\n",
       "    <tr>\n",
       "      <th>4</th>\n",
       "      <td>200002</td>\n",
       "      <td>0</td>\n",
       "      <td>44</td>\n",
       "      <td>Add Friend</td>\n",
       "    </tr>\n",
       "  </tbody>\n",
       "</table>\n",
       "</div>"
      ],
      "text/plain": [
       "   userId  churn  sessionId        page\n",
       "0  100010      0        133  Add Friend\n",
       "1  100010      0        118  Add Friend\n",
       "2  100010      0        113  Add Friend\n",
       "3  200002      0        163  Add Friend\n",
       "4  200002      0         44  Add Friend"
      ]
     },
     "execution_count": 78,
     "metadata": {},
     "output_type": "execute_result"
    }
   ],
   "source": [
    "df_add_friends = df.filter((df['page'] == \"Add Friend\")).select(['userId', 'churn', 'sessionId', 'page']).dropDuplicates().toPandas()\n",
    "df_add_friends.head()"
   ]
  },
  {
   "cell_type": "code",
   "execution_count": 79,
   "metadata": {},
   "outputs": [],
   "source": [
    "df_add_friends = df_add_friends.groupby('userId').agg({'churn': 'max', 'page': 'count'})"
   ]
  },
  {
   "cell_type": "code",
   "execution_count": 80,
   "metadata": {},
   "outputs": [
    {
     "data": {
      "text/html": [
       "<div>\n",
       "<style scoped>\n",
       "    .dataframe tbody tr th:only-of-type {\n",
       "        vertical-align: middle;\n",
       "    }\n",
       "\n",
       "    .dataframe tbody tr th {\n",
       "        vertical-align: top;\n",
       "    }\n",
       "\n",
       "    .dataframe thead th {\n",
       "        text-align: right;\n",
       "    }\n",
       "</style>\n",
       "<table border=\"1\" class=\"dataframe\">\n",
       "  <thead>\n",
       "    <tr style=\"text-align: right;\">\n",
       "      <th></th>\n",
       "      <th>churn</th>\n",
       "      <th>page</th>\n",
       "    </tr>\n",
       "    <tr>\n",
       "      <th>userId</th>\n",
       "      <th></th>\n",
       "      <th></th>\n",
       "    </tr>\n",
       "  </thead>\n",
       "  <tbody>\n",
       "    <tr>\n",
       "      <th>10</th>\n",
       "      <td>0</td>\n",
       "      <td>6</td>\n",
       "    </tr>\n",
       "    <tr>\n",
       "      <th>100</th>\n",
       "      <td>0</td>\n",
       "      <td>20</td>\n",
       "    </tr>\n",
       "    <tr>\n",
       "      <th>100001</th>\n",
       "      <td>1</td>\n",
       "      <td>2</td>\n",
       "    </tr>\n",
       "    <tr>\n",
       "      <th>100002</th>\n",
       "      <td>0</td>\n",
       "      <td>1</td>\n",
       "    </tr>\n",
       "    <tr>\n",
       "      <th>100004</th>\n",
       "      <td>0</td>\n",
       "      <td>9</td>\n",
       "    </tr>\n",
       "  </tbody>\n",
       "</table>\n",
       "</div>"
      ],
      "text/plain": [
       "        churn  page\n",
       "userId             \n",
       "10          0     6\n",
       "100         0    20\n",
       "100001      1     2\n",
       "100002      0     1\n",
       "100004      0     9"
      ]
     },
     "execution_count": 80,
     "metadata": {},
     "output_type": "execute_result"
    }
   ],
   "source": [
    "df_add_friends.head()"
   ]
  },
  {
   "cell_type": "code",
   "execution_count": 81,
   "metadata": {},
   "outputs": [],
   "source": [
    "def plot_add_friends_histogram(df, column_page, bin_width=10, max_x=300, output_file=None):\n",
    "    \"\"\"\n",
    "    Plots histograms showing the distribution of 'Add friends' actions grouped by churn status.\n",
    "\n",
    "    Parameters:\n",
    "    -----------\n",
    "    df : pandas.DataFrame\n",
    "        A DataFrame containing user actions data. It should have the following columns:\n",
    "        - 'churn': Binary column indicating churn status (0 = not churned, 1 = churned).\n",
    "        - column_page: Column representing the number of 'Add friends' actions.\n",
    "\n",
    "    column_page : str\n",
    "        The column name representing the 'Add friends' data (e.g., 'page').\n",
    "\n",
    "    bin_width : int, optional (default=10)\n",
    "        The width of bins in the histogram.\n",
    "\n",
    "    max_x : int, optional (default=300)\n",
    "        The maximum value for the x-axis (used for consistent scaling).\n",
    "\n",
    "    output_file : str, optional\n",
    "        The file path where the plot will be saved as a PNG file. If None, the plot will only be displayed.\n",
    "\n",
    "    Returns:\n",
    "    --------\n",
    "    None\n",
    "        Displays histograms with subplots for each churn status and optionally saves it to a file.\n",
    "    \"\"\"\n",
    "    # Group by churn\n",
    "    grouped = df.groupby('churn')\n",
    "\n",
    "    # Define bin edges\n",
    "    bin_edges = np.arange(0, max_x + bin_width, bin_width)\n",
    "\n",
    "    # Create a figure with 2 subplots side by side\n",
    "    fig = plt.figure(figsize=(12, 6))\n",
    "\n",
    "    # Iterate through each group and plot on separate axes\n",
    "    for i, (churn_value, group) in enumerate(grouped):\n",
    "        ax = fig.add_subplot(1, 2, i + 1)  # Create a subplot (1 row, 2 columns, index i+1)\n",
    "        \n",
    "        # Plot histogram\n",
    "        counts, bins, patches = ax.hist(\n",
    "            group[column_page], \n",
    "            bins=bin_edges, \n",
    "            alpha=0.7, \n",
    "            color='blue' if churn_value == 0 else 'orange'\n",
    "        )\n",
    "        ax.set_title(f'Histogram for Churn = {churn_value}', fontsize=12)  # Title for each subplot\n",
    "        ax.set_xlabel('Add friends actions')                              # X-axis label\n",
    "        ax.set_ylabel('Frequency')                                        # Y-axis label\n",
    "        ax.set_xlim(0, max_x)                                             # Set x-axis limit\n",
    "        ax.grid(axis='y', alpha=0.75)                                     # Add gridlines for clarity\n",
    "        # Add labels to each bar\n",
    "        for count, bin_left, patch in zip(counts, bins[:-1], patches):\n",
    "            # Calculate the position for the label\n",
    "            if count > 0:  # Add labels only for non-zero counts\n",
    "                x_position = bin_left + (bins[1] - bins[0]) / 2\n",
    "                y_position = count + 10  # Offset for better readability\n",
    "                ax.text(\n",
    "                    x_position, y_position, f'{int(count)}', \n",
    "                    ha='center', fontsize=8, color='black', alpha=0.8\n",
    "                )\n",
    "\n",
    "    # Adjust layout for better spacing\n",
    "    plt.tight_layout()\n",
    "\n",
    "    # Save the plot to file if output_file is specified\n",
    "    if output_file:\n",
    "        plt.savefig(output_file, format='png', dpi=300)\n",
    "        print(f\"Figure saved to {output_file}\")\n",
    "\n",
    "    # Display the plot\n",
    "    plt.show()\n"
   ]
  },
  {
   "cell_type": "code",
   "execution_count": 82,
   "metadata": {},
   "outputs": [
    {
     "name": "stdout",
     "output_type": "stream",
     "text": [
      "Figure saved to add_friends_histogram.png\n"
     ]
    },
    {
     "data": {
      "image/png": "[encoded data removed]",
      "text/plain": [
       "<matplotlib.figure.Figure at 0x7b8a556ba748>"
      ]
     },
     "metadata": {
      "needs_background": "light"
     },
     "output_type": "display_data"
    }
   ],
   "source": [
    "plot_add_friends_histogram(\n",
    "    df_add_friends, \n",
    "    column_page='page', \n",
    "    bin_width=10, \n",
    "    max_x=300, \n",
    "    output_file='add_friends_histogram.png'\n",
    ")\n"
   ]
  },
  {
   "cell_type": "markdown",
   "metadata": {},
   "source": [
    "!['Add friends actions'](add_friends_histogram.png)\n",
    "The number of added friends of each user is quite small in churn = 1 set."
   ]
  },
  {
   "cell_type": "markdown",
   "metadata": {},
   "source": [
    "#### What if a user has multiple Add to Playlist actions?"
   ]
  },
  {
   "cell_type": "code",
   "execution_count": 83,
   "metadata": {},
   "outputs": [
    {
     "data": {
      "text/html": [
       "<div>\n",
       "<style scoped>\n",
       "    .dataframe tbody tr th:only-of-type {\n",
       "        vertical-align: middle;\n",
       "    }\n",
       "\n",
       "    .dataframe tbody tr th {\n",
       "        vertical-align: top;\n",
       "    }\n",
       "\n",
       "    .dataframe thead th {\n",
       "        text-align: right;\n",
       "    }\n",
       "</style>\n",
       "<table border=\"1\" class=\"dataframe\">\n",
       "  <thead>\n",
       "    <tr style=\"text-align: right;\">\n",
       "      <th></th>\n",
       "      <th>userId</th>\n",
       "      <th>churn</th>\n",
       "      <th>sessionId</th>\n",
       "      <th>page</th>\n",
       "    </tr>\n",
       "  </thead>\n",
       "  <tbody>\n",
       "    <tr>\n",
       "      <th>0</th>\n",
       "      <td>100010</td>\n",
       "      <td>0</td>\n",
       "      <td>187</td>\n",
       "      <td>Add to Playlist</td>\n",
       "    </tr>\n",
       "    <tr>\n",
       "      <th>1</th>\n",
       "      <td>100010</td>\n",
       "      <td>0</td>\n",
       "      <td>174</td>\n",
       "      <td>Add to Playlist</td>\n",
       "    </tr>\n",
       "    <tr>\n",
       "      <th>2</th>\n",
       "      <td>100010</td>\n",
       "      <td>0</td>\n",
       "      <td>133</td>\n",
       "      <td>Add to Playlist</td>\n",
       "    </tr>\n",
       "    <tr>\n",
       "      <th>3</th>\n",
       "      <td>100010</td>\n",
       "      <td>0</td>\n",
       "      <td>118</td>\n",
       "      <td>Add to Playlist</td>\n",
       "    </tr>\n",
       "    <tr>\n",
       "      <th>4</th>\n",
       "      <td>100010</td>\n",
       "      <td>0</td>\n",
       "      <td>113</td>\n",
       "      <td>Add to Playlist</td>\n",
       "    </tr>\n",
       "  </tbody>\n",
       "</table>\n",
       "</div>"
      ],
      "text/plain": [
       "   userId  churn  sessionId             page\n",
       "0  100010      0        187  Add to Playlist\n",
       "1  100010      0        174  Add to Playlist\n",
       "2  100010      0        133  Add to Playlist\n",
       "3  100010      0        118  Add to Playlist\n",
       "4  100010      0        113  Add to Playlist"
      ]
     },
     "execution_count": 83,
     "metadata": {},
     "output_type": "execute_result"
    }
   ],
   "source": [
    "df_add_playlist = df.filter((df['page'] == \"Add to Playlist\")).select(['userId', 'churn', 'sessionId', 'page']).dropDuplicates().toPandas()\n",
    "df_add_playlist.head()"
   ]
  },
  {
   "cell_type": "code",
   "execution_count": 84,
   "metadata": {},
   "outputs": [],
   "source": [
    "def plot_histograms_by_churn(df, output_file=None, bins='auto'):\n",
    "    \"\"\"\n",
    "    Plots histograms of the 'Add to Playlist' action grouped by 'churn' status \n",
    "    and optionally saves to a PNG file.\n",
    "\n",
    "    This function takes a DataFrame, groups it by the 'churn' column, \n",
    "    and plots histograms for the count of 'Add to Playlist' actions \n",
    "    for users with different churn statuses (0 or 1).\n",
    "\n",
    "    Parameters:\n",
    "    -----------\n",
    "    df : pandas.DataFrame\n",
    "        A DataFrame containing the user activity data. It should have the following columns:\n",
    "        - 'userId': Unique identifier for each user.\n",
    "        - 'churn': Binary column indicating churn status (0 = not churned, 1 = churned).\n",
    "        - 'page': Represents the activity being counted (e.g., 'Add to Playlist').\n",
    "\n",
    "    output_file : str, optional\n",
    "        The file path where the plot will be saved as a PNG file. If None, the plot will only be displayed.\n",
    "\n",
    "    bins : int, str, or numpy array, optional\n",
    "        The bin strategy or number of bins to use for the histograms. \n",
    "        Default is 'auto', which automatically determines bin edges using numpy.histogram_bin_edges.\n",
    "\n",
    "    Returns:\n",
    "    --------\n",
    "    None\n",
    "        Displays a histogram plot with subplots for each churn status and optionally saves it to a file.\n",
    "    \"\"\"\n",
    "    # Aggregate by userId\n",
    "    df_agg = df.groupby('userId').agg({'churn': 'max', 'page': 'count'})\n",
    "    \n",
    "    # Group by churn\n",
    "    grouped = df_agg.groupby('churn')\n",
    "\n",
    "    # Determine bin edges based on the entire dataset\n",
    "    all_data = df_agg['page']\n",
    "    _, bin_edges = np.histogram(all_data, bins=bins)\n",
    "\n",
    "    # Create a figure with 2 subplots side by side\n",
    "    fig = plt.figure(figsize=(12, 6))\n",
    "\n",
    "    # Iterate through each group and plot on separate axes\n",
    "    for i, (churn_value, group) in enumerate(grouped):\n",
    "        ax = fig.add_subplot(1, 2, i + 1)  # Create a subplot (1 row, 2 columns, index i+1)\n",
    "        \n",
    "        # Plot histogram\n",
    "        counts, bins, patches = ax.hist(\n",
    "            group['page'], \n",
    "            bins=bin_edges, \n",
    "            alpha=0.7, \n",
    "            color='blue' if churn_value == 0 else 'orange'\n",
    "        )\n",
    "        ax.set_title(f'Histogram for Churn = {churn_value}')  # Title for each subplot\n",
    "        ax.set_xlabel('Add to Playlist')                     # X-axis label\n",
    "        ax.set_ylabel('Frequency')                           # Y-axis label\n",
    "        ax.set_xlim(bin_edges[0], bin_edges[-1])             # Set x-axis limit\n",
    "        ax.grid(axis='y', alpha=0.75)                        # Add gridlines for clarity\n",
    "\n",
    "    # Adjust layout for better spacing\n",
    "    plt.tight_layout()\n",
    "\n",
    "    # Save the plot to file if output_file is specified\n",
    "    if output_file:\n",
    "        plt.savefig(output_file, format='png', dpi=300)\n",
    "        print(f\"Figure saved to {output_file}\")\n",
    "\n",
    "    # Display the plot\n",
    "    plt.show()"
   ]
  },
  {
   "cell_type": "code",
   "execution_count": 85,
   "metadata": {},
   "outputs": [
    {
     "name": "stdout",
     "output_type": "stream",
     "text": [
      "Figure saved to histograms_add_to_playlist_by_churn.png\n"
     ]
    },
    {
     "data": {
      "image/png": "[encoded data removed]",
      "text/plain": [
       "<matplotlib.figure.Figure at 0x7b8a327446a0>"
      ]
     },
     "metadata": {
      "needs_background": "light"
     },
     "output_type": "display_data"
    }
   ],
   "source": [
    "plot_histograms_by_churn(df_add_playlist, output_file='histograms_add_to_playlist_by_churn.png', bins=20)"
   ]
  },
  {
   "cell_type": "code",
   "execution_count": null,
   "metadata": {},
   "outputs": [],
   "source": []
  }
 ],
 "metadata": {
  "kernelspec": {
   "display_name": "venv",
   "language": "python",
   "name": "python3"
  },
  "language_info": {
   "codemirror_mode": {
    "name": "ipython",
    "version": 3
   },
   "file_extension": ".py",
   "mimetype": "text/x-python",
   "name": "python",
   "nbconvert_exporter": "python",
   "pygments_lexer": "ipython3",
   "version": "3.10.0"
  }
 },
 "nbformat": 4,
 "nbformat_minor": 2
}
