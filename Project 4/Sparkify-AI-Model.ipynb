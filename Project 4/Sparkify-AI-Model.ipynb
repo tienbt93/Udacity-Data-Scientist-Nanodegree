{
 "cells": [
  {
   "cell_type": "markdown",
   "metadata": {},
   "source": [
    "# Sparkify Project Workspace\n",
    "This workspace contains a tiny subset (128MB) of the full dataset available (12GB). Feel free to use this workspace to build your project, or to explore a smaller subset with Spark before deploying your cluster on the cloud. Instructions for setting up your Spark cluster is included in the last lesson of the Extracurricular Spark Course content.\n",
    "\n",
    "You can follow the steps below to guide your data analysis and model building portion of this project."
   ]
  },
  {
   "cell_type": "code",
   "execution_count": 1,
   "metadata": {},
   "outputs": [],
   "source": [
    "!pip freeze > requirements.txt"
   ]
  },
  {
   "cell_type": "code",
   "execution_count": 2,
   "metadata": {},
   "outputs": [
    {
     "name": "stdout",
     "output_type": "stream",
     "text": [
      "Python 3.10.0\n"
     ]
    }
   ],
   "source": [
    "!python -V"
   ]
  },
  {
   "cell_type": "code",
   "execution_count": 3,
   "metadata": {},
   "outputs": [
    {
     "name": "stderr",
     "output_type": "stream",
     "text": [
      "'free' is not recognized as an internal or external command,\n",
      "operable program or batch file.\n"
     ]
    }
   ],
   "source": [
    "!free"
   ]
  },
  {
   "cell_type": "code",
   "execution_count": 4,
   "metadata": {},
   "outputs": [],
   "source": [
    "# import libraries\n",
    "import pyspark\n",
    "from pyspark import SparkConf\n",
    "from pyspark.sql import SparkSession\n",
    "from pyspark.sql.functions import udf\n",
    "from pyspark.sql.types import StringType\n",
    "from pyspark.sql.types import IntegerType\n",
    "from pyspark.sql.functions import isnan, count, when, col, desc, udf, col, sort_array, asc, avg\n",
    "from pyspark.sql.functions import sum as Fsum\n",
    "from pyspark.sql.window import Window\n",
    "from pyspark.sql import Row\n",
    "from pyspark.sql import functions as F\n",
    "from pyspark.sql.functions import *\n",
    "\n",
    "from pyspark.ml import Pipeline\n",
    "from pyspark.ml.classification import LogisticRegression, RandomForestClassifier, GBTClassifier, LinearSVC, NaiveBayes\n",
    "from pyspark.ml.evaluation import MulticlassClassificationEvaluator\n",
    "from pyspark.ml.feature import CountVectorizer, IDF, PCA, RegexTokenizer, VectorAssembler, Normalizer, StandardScaler\n",
    "from pyspark.ml.regression import LinearRegression\n",
    "from pyspark.ml.tuning import CrossValidator, ParamGridBuilder\n",
    "from pyspark.sql import SparkSession\n",
    "from pyspark.sql.functions import udf, col, when, count, avg, sum as Fsum, approx_count_distinct, max, min, first\n",
    "from pyspark.sql.types import IntegerType, FloatType, StringType\n",
    "import datetime\n",
    "\n",
    "import datetime\n",
    "import time\n",
    "import os\n",
    "import pandas as pd\n",
    "import numpy as np\n",
    "import re\n",
    "%matplotlib inline\n",
    "import matplotlib.pyplot as plt\n",
    "import seaborn as sns\n",
    "sns.set()"
   ]
  },
  {
   "cell_type": "code",
   "execution_count": 5,
   "metadata": {},
   "outputs": [],
   "source": [
    "# # create a Spark session\n",
    "# spark = SparkSession \\\n",
    "#     .builder \\\n",
    "#     .appName(\"Sparkify Project\") \\\n",
    "#     .getOrCreate()"
   ]
  },
  {
   "cell_type": "code",
   "execution_count": 6,
   "metadata": {},
   "outputs": [],
   "source": [
    "spark = SparkSession.builder \\\n",
    "    .appName(\"MySparkJob\") \\\n",
    "    .config(\"spark.executor.memory\", \"24g\") \\\n",
    "    .config(\"spark.driver.memory\", \"14g\") \\\n",
    "    .config(\"spark.executor.cores\", \"12\") \\\n",
    "    .config(\"spark.num.executors\", \"14\") \\\n",
    "    .config(\"spark.network.timeout\", \"120s\") \\\n",
    "    .config(\"spark.executor.heartbeatInterval\", \"60s\") \\\n",
    "    .getOrCreate()"
   ]
  },
  {
   "cell_type": "code",
   "execution_count": 7,
   "metadata": {},
   "outputs": [
    {
     "data": {
      "text/plain": [
       "[('spark.executor.memory', '24g'),\n",
       " ('spark.app.startTime', '1734581178617'),\n",
       " ('spark.driver.port', '59026'),\n",
       " ('spark.driver.extraJavaOptions',\n",
       "  '-Djava.net.preferIPv6Addresses=false -XX:+IgnoreUnrecognizedVMOptions --add-opens=java.base/java.lang=ALL-UNNAMED --add-opens=java.base/java.lang.invoke=ALL-UNNAMED --add-opens=java.base/java.lang.reflect=ALL-UNNAMED --add-opens=java.base/java.io=ALL-UNNAMED --add-opens=java.base/java.net=ALL-UNNAMED --add-opens=java.base/java.nio=ALL-UNNAMED --add-opens=java.base/java.util=ALL-UNNAMED --add-opens=java.base/java.util.concurrent=ALL-UNNAMED --add-opens=java.base/java.util.concurrent.atomic=ALL-UNNAMED --add-opens=java.base/jdk.internal.ref=ALL-UNNAMED --add-opens=java.base/sun.nio.ch=ALL-UNNAMED --add-opens=java.base/sun.nio.cs=ALL-UNNAMED --add-opens=java.base/sun.security.action=ALL-UNNAMED --add-opens=java.base/sun.util.calendar=ALL-UNNAMED --add-opens=java.security.jgss/sun.security.krb5=ALL-UNNAMED -Djdk.reflect.useDirectMethodHandle=false'),\n",
       " ('spark.executor.heartbeatInterval', '60s'),\n",
       " ('spark.executor.id', 'driver'),\n",
       " ('spark.num.executors', '14'),\n",
       " ('spark.app.id', 'local-1734581180577'),\n",
       " ('spark.executor.cores', '12'),\n",
       " ('spark.rdd.compress', 'True'),\n",
       " ('spark.app.submitTime', '1734581178423'),\n",
       " ('spark.executor.extraJavaOptions',\n",
       "  '-Djava.net.preferIPv6Addresses=false -XX:+IgnoreUnrecognizedVMOptions --add-opens=java.base/java.lang=ALL-UNNAMED --add-opens=java.base/java.lang.invoke=ALL-UNNAMED --add-opens=java.base/java.lang.reflect=ALL-UNNAMED --add-opens=java.base/java.io=ALL-UNNAMED --add-opens=java.base/java.net=ALL-UNNAMED --add-opens=java.base/java.nio=ALL-UNNAMED --add-opens=java.base/java.util=ALL-UNNAMED --add-opens=java.base/java.util.concurrent=ALL-UNNAMED --add-opens=java.base/java.util.concurrent.atomic=ALL-UNNAMED --add-opens=java.base/jdk.internal.ref=ALL-UNNAMED --add-opens=java.base/sun.nio.ch=ALL-UNNAMED --add-opens=java.base/sun.nio.cs=ALL-UNNAMED --add-opens=java.base/sun.security.action=ALL-UNNAMED --add-opens=java.base/sun.util.calendar=ALL-UNNAMED --add-opens=java.security.jgss/sun.security.krb5=ALL-UNNAMED -Djdk.reflect.useDirectMethodHandle=false'),\n",
       " ('spark.serializer.objectStreamReset', '100'),\n",
       " ('spark.driver.host', 'AdminPC'),\n",
       " ('spark.master', 'local[*]'),\n",
       " ('spark.submit.pyFiles', ''),\n",
       " ('spark.submit.deployMode', 'client'),\n",
       " ('spark.driver.memory', '14g'),\n",
       " ('spark.ui.showConsoleProgress', 'true'),\n",
       " ('spark.network.timeout', '120s'),\n",
       " ('spark.app.name', 'MySparkJob')]"
      ]
     },
     "execution_count": 7,
     "metadata": {},
     "output_type": "execute_result"
    }
   ],
   "source": [
    "spark.sparkContext.getConf().getAll()"
   ]
  },
  {
   "cell_type": "markdown",
   "metadata": {},
   "source": [
    "# Load and Clean Dataset\n",
    "In this workspace, the mini-dataset file is `mini_sparkify_event_data.json`. Load and clean the dataset, checking for invalid or missing data - for example, records without userids or sessionids. "
   ]
  },
  {
   "cell_type": "code",
   "execution_count": 8,
   "metadata": {},
   "outputs": [],
   "source": [
    "# load in the dataset\n",
    "df = spark.read.json(\"mini_sparkify_event_data.json\")"
   ]
  },
  {
   "cell_type": "markdown",
   "metadata": {},
   "source": [
    "# Feature Engineering\n",
    "Once you've familiarized yourself with the data, build out the features you find promising to train your model on. To work with the full dataset, you can follow the following steps.\n",
    "- Write a script to extract the necessary features from the smaller subset of data\n",
    "- Ensure that your script is scalable, using the best practices discussed in Lesson 3\n",
    "- Try your script on the full data set, debugging your script if necessary\n",
    "\n",
    "If you are working in the classroom workspace, you can just extract features based on the small subset of data contained here. Be sure to transfer over this work to the larger dataset when you work on your Spark cluster."
   ]
  },
  {
   "cell_type": "markdown",
   "metadata": {},
   "source": [
    "### `extract_features(df)`\n",
    "This function processes the Spark DataFrame containing user activity logs to extract meaningful features for modeling. \n",
    "\n",
    "- **Input**: A Spark DataFrame with raw user activity data.\n",
    "- **Output**: A Spark DataFrame with aggregated features, including:\n",
    "  - **Songs Listened**: Total songs played by the user.\n",
    "  - **Unique Artists**: Number of unique artists listened to.\n",
    "  - **Thumbs Up/Down**: Number of likes and dislikes given by the user.\n",
    "  - **Friends Added/Playlists Added**: Number of interactions with friends and playlists.\n",
    "  - **Errors**: Number of errors encountered.\n",
    "  - **Membership Duration**: Duration of the user's membership.\n",
    "  - **Device**: User's device type derived from the `userAgent`.\n",
    "  - **Churn**: Whether the user has canceled their subscription.\n",
    "\n",
    "It also handles missing values by imputing numerical features with the mean and categorical features with default values.\n"
   ]
  },
  {
   "cell_type": "code",
   "execution_count": 9,
   "metadata": {},
   "outputs": [],
   "source": [
    "from pyspark.sql import SparkSession\n",
    "from pyspark.sql.functions import udf, col, when, count, avg, sum as Fsum, approx_count_distinct, max, min, first, isnan\n",
    "from pyspark.sql.types import IntegerType, FloatType, StringType\n",
    "import datetime\n",
    "\n",
    "def extract_features(df):\n",
    "    \"\"\"\n",
    "    Extracts features from a Spark DataFrame containing user activity data.\n",
    "\n",
    "    Args:\n",
    "        df (DataFrame): Input Spark DataFrame with user activity logs.\n",
    "\n",
    "    Returns:\n",
    "        DataFrame: A Pandas DataFrame containing aggregated features for each user.\n",
    "    \"\"\"\n",
    "\n",
    "    # Step 1: Clean the data by removing rows with missing userId or sessionId, and filtering out empty userIds\n",
    "    df_cleaned = df.dropna(subset=[\"userId\", \"sessionId\"]).filter(df[\"userId\"] != \"\")\n",
    "\n",
    "    # Step 2: Define necessary UDFs\n",
    "    get_datetime_str = udf(lambda x: datetime.datetime.fromtimestamp(x / 1000.0).strftime(\"%Y-%m-%d %H:%M:%S\"), StringType())\n",
    "    get_duration_days = udf(lambda x, y: float((x - y) / (1000 * 60 * 60 * 24)), FloatType())\n",
    "\n",
    "    # Device classification based on userAgent\n",
    "    def classify_device(user_agent):\n",
    "        if \"iPhone\" in user_agent or \"iPad\" in user_agent:\n",
    "            return \"iOS\"\n",
    "        elif \"Android\" in user_agent:\n",
    "            return \"Android\"\n",
    "        elif \"Windows\" in user_agent:\n",
    "            return \"Windows\"\n",
    "        elif \"Macintosh\" in user_agent:\n",
    "            return \"Mac\"\n",
    "        elif \"Linux\" in user_agent:\n",
    "            return \"Linux\"\n",
    "        else:\n",
    "            return \"Other\"\n",
    "\n",
    "    classify_device_udf = udf(classify_device, StringType())\n",
    "\n",
    "    # Step 3: Add a column for device type\n",
    "    df_cleaned = df_cleaned.withColumn(\"device\", classify_device_udf(col(\"userAgent\")))\n",
    "\n",
    "    # Step 4: Aggregate features at the user level\n",
    "    features = df_cleaned.groupBy(\"userId\").agg(\n",
    "        Fsum(when(col(\"page\") == \"NextSong\", 1).otherwise(0)).alias(\"songsListened\"),\n",
    "        approx_count_distinct(\"artist\").alias(\"uniqueArtists\"),\n",
    "        Fsum(when(col(\"page\") == \"Thumbs Up\", 1).otherwise(0)).alias(\"thumbsUp\"),\n",
    "        Fsum(when(col(\"page\") == \"Thumbs Down\", 1).otherwise(0)).alias(\"thumbsDown\"),\n",
    "        Fsum(when(col(\"page\") == \"Add Friend\", 1).otherwise(0)).alias(\"friendsAdded\"),\n",
    "        Fsum(when(col(\"page\") == \"Add to Playlist\", 1).otherwise(0)).alias(\"playlistsAdded\"),\n",
    "        Fsum(when(col(\"page\") == \"Error\", 1).otherwise(0)).alias(\"errors\"),\n",
    "        Fsum(when(col(\"page\") == \"Help\", 1).otherwise(0)).alias(\"helpInteractions\"),\n",
    "        Fsum(when(col(\"page\") == \"Submit Upgrade\", 1).otherwise(0)).alias(\"numUpgrades\"),\n",
    "        Fsum(when(col(\"page\") == \"Submit Downgrade\", 1).otherwise(0)).alias(\"numDowngrades\"),\n",
    "        (max(\"ts\") - min(\"registration\")).alias(\"membershipDurationMs\"),\n",
    "        first(\"gender\").alias(\"gender\"),\n",
    "        first(\"device\").alias(\"device\"),\n",
    "        Fsum(when(col(\"page\") == \"Cancellation Confirmation\", 1).otherwise(0)).alias(\"churn\")\n",
    "    )\n",
    "\n",
    "    # Step 5: Calculate additional derived features\n",
    "    features = features.withColumn(\"thumbsUpRatio\", col(\"thumbsUp\") / (col(\"thumbsUp\") + col(\"thumbsDown\")))\\\n",
    "                       .withColumn(\"songsPerArtist\", col(\"songsListened\") / col(\"uniqueArtists\"))\\\n",
    "                       .withColumn(\"membershipDurationDays\", col(\"membershipDurationMs\") / (1000 * 60 * 60 * 24))\n",
    "\n",
    "    # Step 6: Check for missing values\n",
    "    missing_values = features.select(\n",
    "        [count(when(isnan(c) | col(c).isNull(), 1)).alias(c) for c in features.columns]\n",
    "    )\n",
    "    # missing_values.show()  # Display columns with missing values\n",
    "\n",
    "    # Suggested strategies for handling missing values:\n",
    "    # Replace NaN in numerical columns with the mean value\n",
    "    numerical_columns = [\"thumbsUpRatio\", \"songsPerArtist\", \"membershipDurationDays\"]\n",
    "    for column in numerical_columns:\n",
    "        mean_value = features.select(avg(col(column))).first()[0]\n",
    "        features = features.fillna({column: mean_value})\n",
    "\n",
    "    # Fill NaN in categorical columns with default values\n",
    "    features = features.fillna({\n",
    "        \"gender\": \"Unknown\",\n",
    "        \"device\": \"Unknown\"\n",
    "    })\n",
    "\n",
    "    # Step 7: Convert to Pandas DataFrame for further use\n",
    "    return features"
   ]
  },
  {
   "cell_type": "code",
   "execution_count": 10,
   "metadata": {},
   "outputs": [
    {
     "data": {
      "text/plain": [
       "DataFrame[artist: string, auth: string, firstName: string, gender: string, itemInSession: bigint, lastName: string, length: double, level: string, location: string, method: string, page: string, registration: bigint, sessionId: bigint, song: string, status: bigint, ts: bigint, userAgent: string, userId: string]"
      ]
     },
     "execution_count": 10,
     "metadata": {},
     "output_type": "execute_result"
    }
   ],
   "source": [
    "df"
   ]
  },
  {
   "cell_type": "code",
   "execution_count": 11,
   "metadata": {},
   "outputs": [],
   "source": [
    "df_features = extract_features(df)"
   ]
  },
  {
   "cell_type": "code",
   "execution_count": 13,
   "metadata": {},
   "outputs": [],
   "source": [
    "# df_features.toPandas().info()"
   ]
  },
  {
   "cell_type": "markdown",
   "metadata": {},
   "source": [
    "# Modeling\n",
    "Split the full dataset into train, test, and validation sets. Test out several of the machine learning methods you learned. Evaluate the accuracy of the various models, tuning parameters as necessary. Determine your winning model based on test accuracy and report results on the validation set. Since the churned users are a fairly small subset, I suggest using F1 score as the metric to optimize.\n",
    "\n",
    "\n",
    "### Data Imbalance Issue  \n",
    "\n",
    "Churned users account for relatively few records in the training set\n",
    "\n",
    "| churn | count | \n",
    "|:-------|:------:|\n",
    "|   0  |  173  |\n",
    "|  1  |  52  |\n",
    "\n",
    "\n",
    "### Evaluation Metrics  \n",
    "Using accuracy alone can be misleading in imbalanced datasets. Instead, metrics such as **Precision**, **Recall**, **F1-Score**, and **ROC-AUC** are more effective in assessing performance. For multi-class problems, metrics like **macro-averaged F1-Score** or **weighted metrics** are preferable.  \n",
    "\n",
    "### Data Sampling Methods  \n",
    "To address imbalance, data sampling techniques such as **oversampling** (e.g., SMOTE, ADASYN) or **undersampling** can be applied. Oversampling focuses on increasing the representation of minority classes, while undersampling reduces the dominant class size to balance the dataset. Hybrid approaches combining both methods can also be effective.  \n",
    "\n",
    "### Suitable Models  \n",
    "Some models are inherently better at handling imbalanced data. For example:  \n",
    "- **Tree-based models** (e.g., Random Forest, XGBoost) with built-in class weighting.  \n",
    "- **Logistic Regression** or **SVM** with adjusted class weights.  \n",
    "- **Neural Networks** using loss functions like Focal Loss or Class-Balanced Loss.  \n",
    "Additionally, ensemble techniques such as **Bagging** or **Boosting** can further improve performance.  \n"
   ]
  },
  {
   "cell_type": "markdown",
   "metadata": {},
   "source": [
    "### `train_models(features)`\n",
    "This function trains and evaluates multiple classification models using the extracted features, identifies the best model, and tunes it if necessary.\n",
    "\n",
    "- **Input**: A Spark DataFrame of extracted features with labels.\n",
    "- **Models**:\n",
    "  - **Logistic Regression**\n",
    "  - **Random Forest Classifier**\n",
    "  - **Gradient-Boosted Trees (GBT) Classifier**\n",
    "- **Steps**:\n",
    "  1. Assemble features into a single vector.\n",
    "  2. Split data into training and test sets (80%-20%).\n",
    "  3. Train each model and evaluate using accuracy.\n",
    "  4. Identify the best-performing model.\n",
    "  5. Perform hyperparameter tuning for Random Forest if it is the best model.\n",
    "- **Output**: Prints accuracy for each model and the tuned Random Forest accuracy (if applicable).\n",
    "\n",
    "---\n",
    "\n",
    "### `tune_random_forest(train_data, test_data)`\n",
    "This function performs hyperparameter tuning for the Random Forest Classifier using cross-validation.\n",
    "\n",
    "- **Input**: Training and test datasets.\n",
    "- **Hyperparameters Tuned**:\n",
    "  - `numTrees`: Number of trees in the forest ([50, 100]).\n",
    "  - `maxDepth`: Maximum depth of the tree ([5, 10]).\n",
    "- **Output**: Best-tuned accuracy of the Random Forest model."
   ]
  },
  {
   "cell_type": "code",
   "execution_count": 14,
   "metadata": {},
   "outputs": [],
   "source": [
    "def split_train_test(features, seed=143):\n",
    "     # Step 1: Assemble features into a single vector column\n",
    "    assembler = VectorAssembler(\n",
    "        inputCols=[\"songsListened\", \"uniqueArtists\", \"thumbsUp\", \"thumbsDown\", \"friendsAdded\", \"playlistsAdded\", \n",
    "                   \"errors\", \"helpInteractions\", \"numUpgrades\", \"numDowngrades\", \"thumbsUpRatio\", \n",
    "                   \"songsPerArtist\", \"membershipDurationDays\"],\n",
    "        outputCol=\"features\"\n",
    "    )\n",
    "    feature_data = assembler.transform(features).select(\"features\", col(\"churn\").alias(\"label\"))\n",
    "\n",
    "    # Step 2: Split the data into training and test sets\n",
    "    train_data, test_data = feature_data.randomSplit([0.8, 0.2], seed=seed)\n",
    "    \n",
    "    return train_data, test_data\n"
   ]
  },
  {
   "cell_type": "code",
   "execution_count": 15,
   "metadata": {},
   "outputs": [],
   "source": [
    "def save_model(model, model_name):\n",
    "    \"\"\"\n",
    "    Save the trained model to disk.\n",
    "\n",
    "    Args:\n",
    "        model: The trained model to be saved.\n",
    "        model_name (str): Name of the model for saving.\n",
    "\n",
    "    Returns:\n",
    "        None\n",
    "    \"\"\"\n",
    "    save_path = os.path.join(\"models\", model_name)\n",
    "    model.write().overwrite().save(save_path)\n",
    "    print(f\"Model saved at: {save_path}\")\n"
   ]
  },
  {
   "cell_type": "code",
   "execution_count": 16,
   "metadata": {},
   "outputs": [],
   "source": [
    "def train_models(train_data, test_data):\n",
    "    \"\"\"\n",
    "    Train classification models, evaluate them, and tune the best model using cross-validation.\n",
    "\n",
    "    Args:\n",
    "        features (DataFrame): Spark DataFrame containing extracted features.\n",
    "\n",
    "    Returns:\n",
    "        None\n",
    "    \"\"\"\n",
    "\n",
    "    # Step 1: Initialize models and evaluator\n",
    "    evaluator = MulticlassClassificationEvaluator(labelCol=\"label\", predictionCol=\"prediction\", metricName=\"accuracy\")\n",
    "\n",
    "    # Train Logistic Regression\n",
    "    print(\"Training Logistic Regression model...\")\n",
    "    lr = LogisticRegression(featuresCol=\"features\", labelCol=\"label\")\n",
    "    lr_model = lr.fit(train_data)\n",
    "    lr_predictions = lr_model.transform(test_data)\n",
    "    lr_accuracy = evaluator.evaluate(lr_predictions)\n",
    "    print(f\"Logistic Regression Accuracy: {lr_accuracy:.2f}\")\n",
    "    save_model(lr_model, \"logistic_regression\")\n",
    "\n",
    "    # Train Random Forest\n",
    "    print(\"Training Random Forest model...\")\n",
    "    rf = RandomForestClassifier(featuresCol=\"features\", labelCol=\"label\", numTrees=50)\n",
    "    rf_model = rf.fit(train_data)\n",
    "    rf_predictions = rf_model.transform(test_data)\n",
    "    rf_accuracy = evaluator.evaluate(rf_predictions)\n",
    "    print(f\"Random Forest Accuracy: {rf_accuracy:.2f}\")\n",
    "    save_model(rf_model, \"random_forest\")\n",
    "\n",
    "    # Train GBT Classifier\n",
    "    print(\"Training Gradient-Boosted Trees model...\")\n",
    "    gbt = GBTClassifier(featuresCol=\"features\", labelCol=\"label\", maxIter=50)\n",
    "    gbt_model = gbt.fit(train_data)\n",
    "    gbt_predictions = gbt_model.transform(test_data)\n",
    "    gbt_accuracy = evaluator.evaluate(gbt_predictions)\n",
    "    print(f\"Gradient-Boosted Trees Accuracy: {gbt_accuracy:.2f}\")\n",
    "    save_model(gbt_model, \"gradient_boosted_trees\")\n",
    "\n",
    "    # Identify the best model\n",
    "    accuracies = {\"Logistic Regression\": lr_accuracy, \"Random Forest\": rf_accuracy, \"GBT\": gbt_accuracy}\n",
    "    print(accuracies)\n",
    "    \n",
    "    return accuracies, (lr_model, rf_model, gbt_model) "
   ]
  },
  {
   "cell_type": "code",
   "execution_count": 17,
   "metadata": {},
   "outputs": [],
   "source": [
    "train_data, test_data = split_train_test(df_features)"
   ]
  },
  {
   "cell_type": "code",
   "execution_count": 18,
   "metadata": {},
   "outputs": [],
   "source": [
    "from pyspark.sql.functions import col, lit, when\n",
    "\n",
    "def compute_class_weights(train_data, label_col):\n",
    "    \"\"\"\n",
    "    Computes class weights for handling imbalanced datasets and adds a sample weight column to the dataset.\n",
    "\n",
    "    This function calculates the weights for each class based on the inverse of their frequencies\n",
    "    in the dataset. Minority class samples receive higher weights, while majority class samples \n",
    "    receive lower weights. The resulting weights are added as a new column, `weight`, to the dataset.\n",
    "\n",
    "    Args:\n",
    "        train_data (DataFrame): The input training dataset in PySpark containing the feature columns and labels.\n",
    "        label_col (str): The name of the column representing the class labels (binary: 0 or 1).\n",
    "\n",
    "    Returns:\n",
    "        DataFrame: A new dataset with an additional column named `weight`, containing the calculated weights for each sample.\n",
    "\n",
    "    Example:\n",
    "        weighted_train_data = compute_class_weights(train_data, \"label\")\n",
    "    \"\"\"\n",
    "    # Calculate the count of majority and minority classes\n",
    "    majority_class_count = train_data.filter(col(label_col) == 0).count()\n",
    "    minority_class_count = train_data.filter(col(label_col) == 1).count()\n",
    "    \n",
    "    # Compute weights inversely proportional to the class counts\n",
    "    majority_weight = 1.0 / majority_class_count\n",
    "    minority_weight = 1.0 / minority_class_count\n",
    "    \n",
    "    # Add a new column 'weight' with calculated weights based on the class label\n",
    "    weighted_train_data = train_data.withColumn(\n",
    "        \"weight\",\n",
    "        when(col(label_col) == 0, lit(majority_weight))  # Assign majority weight for class 0\n",
    "        .otherwise(lit(minority_weight))  # Assign minority weight for class 1\n",
    "    )\n",
    "    \n",
    "    return weighted_train_data\n"
   ]
  },
  {
   "cell_type": "code",
   "execution_count": 19,
   "metadata": {},
   "outputs": [],
   "source": [
    "# Step 1: Initialize evaluator with metrics suitable for imbalanced data\n",
    "evaluator_f1 = MulticlassClassificationEvaluator(labelCol=\"label\", predictionCol=\"prediction\", metricName=\"f1\")\n",
    "evaluator_recall = MulticlassClassificationEvaluator(labelCol=\"label\", predictionCol=\"prediction\", metricName=\"weightedRecall\")"
   ]
  },
  {
   "cell_type": "code",
   "execution_count": 20,
   "metadata": {},
   "outputs": [],
   "source": [
    "train_data = compute_class_weights(train_data, \"label\")"
   ]
  },
  {
   "cell_type": "code",
   "execution_count": 21,
   "metadata": {},
   "outputs": [
    {
     "data": {
      "text/plain": [
       "[Row(features=SparseVector(13, {0: 53.0, 1: 54.0, 2: 2.0, 5: 4.0, 10: 1.0, 11: 0.9815, 12: 71.143}), label=0, weight=0.007575757575757576)]"
      ]
     },
     "execution_count": 21,
     "metadata": {},
     "output_type": "execute_result"
    }
   ],
   "source": [
    "train_data.take(1)"
   ]
  },
  {
   "cell_type": "code",
   "execution_count": 22,
   "metadata": {},
   "outputs": [
    {
     "name": "stdout",
     "output_type": "stream",
     "text": [
      "Training Logistic Regression model...\n",
      "Logistic Regression - F1 Score: 0.77, Weighted Recall: 0.75\n",
      "Model saved at: models\\logistic_regression\n"
     ]
    }
   ],
   "source": [
    "# Step 2: Train Logistic Regression\n",
    "print(\"Training Logistic Regression model...\")\n",
    "lr = LogisticRegression(featuresCol=\"features\", labelCol=\"label\", weightCol=\"weight\")\n",
    "lr_model = lr.fit(train_data)\n",
    "lr_predictions = lr_model.transform(test_data)\n",
    "lr_f1 = evaluator_f1.evaluate(lr_predictions)\n",
    "lr_recall = evaluator_recall.evaluate(lr_predictions)\n",
    "print(f\"Logistic Regression - F1 Score: {lr_f1:.2f}, Weighted Recall: {lr_recall:.2f}\")\n",
    "save_model(lr_model, \"logistic_regression\")"
   ]
  },
  {
   "cell_type": "code",
   "execution_count": 23,
   "metadata": {},
   "outputs": [
    {
     "name": "stdout",
     "output_type": "stream",
     "text": [
      "Training Random Forest model...\n",
      "Random Forest - F1 Score: 0.78, Weighted Recall: 0.79\n",
      "Model saved at: models\\random_forest\n"
     ]
    }
   ],
   "source": [
    "# Step 3: Train Random Forest\n",
    "print(\"Training Random Forest model...\")\n",
    "rf = RandomForestClassifier(featuresCol=\"features\", labelCol=\"label\", numTrees=50)\n",
    "rf_model = rf.fit(train_data)\n",
    "rf_predictions = rf_model.transform(test_data)\n",
    "rf_f1 = evaluator_f1.evaluate(rf_predictions)\n",
    "rf_recall = evaluator_recall.evaluate(rf_predictions)\n",
    "print(f\"Random Forest - F1 Score: {rf_f1:.2f}, Weighted Recall: {rf_recall:.2f}\")\n",
    "save_model(rf_model, \"random_forest\")"
   ]
  },
  {
   "cell_type": "code",
   "execution_count": 24,
   "metadata": {},
   "outputs": [
    {
     "name": "stdout",
     "output_type": "stream",
     "text": [
      "Training Gradient-Boosted Trees model...\n",
      "Gradient-Boosted Trees - F1 Score: 0.73, Weighted Recall: 0.73\n",
      "Model saved at: models\\gradient_boosted_trees\n"
     ]
    }
   ],
   "source": [
    "# Step 4: Train GBT Classifier\n",
    "print(\"Training Gradient-Boosted Trees model...\")\n",
    "gbt = GBTClassifier(featuresCol=\"features\", labelCol=\"label\", maxIter=50)\n",
    "gbt_model = gbt.fit(train_data)\n",
    "gbt_predictions = gbt_model.transform(test_data)\n",
    "gbt_f1 = evaluator_f1.evaluate(gbt_predictions)\n",
    "gbt_recall = evaluator_recall.evaluate(gbt_predictions)\n",
    "print(f\"Gradient-Boosted Trees - F1 Score: {gbt_f1:.2f}, Weighted Recall: {gbt_recall:.2f}\")\n",
    "save_model(gbt_model, \"gradient_boosted_trees\")\n",
    "\n"
   ]
  },
  {
   "cell_type": "code",
   "execution_count": 25,
   "metadata": {},
   "outputs": [
    {
     "name": "stdout",
     "output_type": "stream",
     "text": [
      "F1 Scores: {'Logistic Regression': 0.7685057471264367, 'Random Forest': 0.775494165277447, 'GBT': 0.7307692307692308}\n"
     ]
    }
   ],
   "source": [
    "# Step 5: Identify the best model using F1 Score\n",
    "f1_scores = {\"Logistic Regression\": lr_f1, \"Random Forest\": rf_f1, \"GBT\": gbt_f1}\n",
    "print(\"F1 Scores:\", f1_scores)"
   ]
  },
  {
   "cell_type": "code",
   "execution_count": 52,
   "metadata": {},
   "outputs": [
    {
     "data": {
      "image/png": "[encoded data removed]",
      "text/plain": [
       "<Figure size 640x480 with 1 Axes>"
      ]
     },
     "metadata": {},
     "output_type": "display_data"
    }
   ],
   "source": [
    "import numpy as np\n",
    "\n",
    "import matplotlib.pyplot as plt\n",
    "\n",
    "# Extract model names and F1 scores\n",
    "model_names = list(f1_scores.keys())\n",
    "f1_values = list(f1_scores.values())\n",
    "\n",
    "# Create the bar chart\n",
    "fig, ax = plt.subplots()\n",
    "bars = ax.bar(model_names, f1_values, color='skyblue')\n",
    "\n",
    "# Add labels on top of each bar\n",
    "for bar in bars:\n",
    "    height = bar.get_height()\n",
    "    ax.text(\n",
    "        bar.get_x() + bar.get_width() / 2,  # x-coordinate: center of the bar\n",
    "        height,  # y-coordinate: top of the bar\n",
    "        f'{height:.2f}',  # Label text\n",
    "        ha='center',  # Horizontal alignment\n",
    "        va='bottom'   # Vertical alignment\n",
    "    )\n",
    "\n",
    "# Customize chart appearance\n",
    "ax.set_title('F1 Scores by Model')\n",
    "ax.set_xlabel('Model')\n",
    "ax.set_ylabel('F1 Score')\n",
    "ax.set_ylim(0, 1)  # Set y-axis limit to [0, 1]\n",
    "\n",
    "# Show the plot\n",
    "plt.tight_layout()\n",
    "plt.show()"
   ]
  },
  {
   "cell_type": "markdown",
   "metadata": {},
   "source": [
    "From the training results with the above models, we see that random forest gives the best results with small datasets."
   ]
  },
  {
   "cell_type": "markdown",
   "metadata": {},
   "source": [
    "### Tuning model parameters"
   ]
  },
  {
   "cell_type": "markdown",
   "metadata": {},
   "source": [
    "#### Random Forest Tuning"
   ]
  },
  {
   "cell_type": "code",
   "execution_count": 26,
   "metadata": {},
   "outputs": [],
   "source": [
    "def get_rf_params(model):\n",
    "    \"\"\"\n",
    "    Get the parameters of a trained Random Forest model.\n",
    "\n",
    "    Args:\n",
    "        model: The trained Random Forest model.\n",
    "\n",
    "    Returns:\n",
    "        dict: A dictionary of model parameters.\n",
    "    \"\"\"\n",
    "    print(\"Random Forest Model Parameters:\")\n",
    "    params = model.extractParamMap()\n",
    "    for param, value in params.items():\n",
    "        print(f\"{param.name}: {value}\")\n",
    "    return params\n"
   ]
  },
  {
   "cell_type": "code",
   "execution_count": 27,
   "metadata": {},
   "outputs": [],
   "source": [
    "def load_model(model_name, model_class):\n",
    "    \"\"\"\n",
    "    Load a saved model from disk.\n",
    "\n",
    "    Args:\n",
    "        model_name (str): Name of the model to load.\n",
    "        model_class: The class of the model to load (e.g., LogisticRegression, RandomForestClassifier).\n",
    "\n",
    "    Returns:\n",
    "        Model: The loaded model.\n",
    "    \"\"\"\n",
    "    load_path = os.path.join(\"models\", model_name)\n",
    "    print(f\"Loading model from: {load_path}\")\n",
    "    return model_class.load(load_path)"
   ]
  },
  {
   "cell_type": "markdown",
   "metadata": {},
   "source": [
    "Use CrossValidator with paramGrid to optimize the following RF model:\n",
    "- numTrees = [50, 100]\n",
    "- maxDepth = [4, 5, 6, 10]"
   ]
  },
  {
   "cell_type": "code",
   "execution_count": 38,
   "metadata": {},
   "outputs": [],
   "source": [
    "def tune_random_forest(train_data, test_data, numTrees=[50, 100], maxDepth=[4, 5, 6, 10]):\n",
    "    \"\"\"\n",
    "    Perform hyperparameter tuning for Random Forest Classifier and evaluate using multiple metrics.\n",
    "\n",
    "    Args:\n",
    "        train_data (DataFrame): Training dataset.\n",
    "        test_data (DataFrame): Test dataset.\n",
    "\n",
    "    Returns:\n",
    "        dict: Best tuned model and evaluation metrics.\n",
    "    \"\"\"\n",
    "    print(\"Tuning Random Forest model...\")\n",
    "    rf = RandomForestClassifier(featuresCol=\"features\", labelCol=\"label\")\n",
    "    paramGrid = ParamGridBuilder()\\\n",
    "        .addGrid(rf.numTrees, numTrees)\\\n",
    "        .addGrid(rf.maxDepth, maxDepth)\\\n",
    "        .build()\n",
    "\n",
    "    # Define multiple evaluators\n",
    "    evaluators = {\n",
    "        \"accuracy\": MulticlassClassificationEvaluator(labelCol=\"label\", predictionCol=\"prediction\", metricName=\"accuracy\"),\n",
    "        \"f1\": MulticlassClassificationEvaluator(labelCol=\"label\", predictionCol=\"prediction\", metricName=\"f1\"),\n",
    "        \"weightedRecall\": MulticlassClassificationEvaluator(labelCol=\"label\", predictionCol=\"prediction\", metricName=\"weightedRecall\"),\n",
    "    }\n",
    "\n",
    "    crossval = CrossValidator(\n",
    "        estimator=rf,\n",
    "        estimatorParamMaps=paramGrid,\n",
    "        evaluator=evaluators[\"accuracy\"],  # Use accuracy for tuning\n",
    "        numFolds=3\n",
    "    )\n",
    "\n",
    "    # Fit the model and get the best one\n",
    "    best_rf_model = crossval.fit(train_data)\n",
    "    tuned_predictions = best_rf_model.transform(test_data)\n",
    "\n",
    "    # Evaluate using all defined metrics\n",
    "    metrics = {}\n",
    "    for metric_name, evaluator in evaluators.items():\n",
    "        metric_value = evaluator.evaluate(tuned_predictions)\n",
    "        metrics[metric_name] = metric_value\n",
    "        print(f\"Tuned Random Forest {metric_name.capitalize()}: {metric_value:.2f}\")\n",
    "\n",
    "    return {\"model\": best_rf_model, \"metrics\": metrics}\n"
   ]
  },
  {
   "cell_type": "code",
   "execution_count": 39,
   "metadata": {},
   "outputs": [
    {
     "name": "stdout",
     "output_type": "stream",
     "text": [
      "Tuning Random Forest model...\n",
      "Tuned Random Forest Accuracy: 0.77\n",
      "Tuned Random Forest F1: 0.76\n",
      "Tuned Random Forest Weightedrecall: 0.77\n"
     ]
    }
   ],
   "source": [
    "# Tune Random Forest if it is the best model\n",
    "best_rf_model = tune_random_forest(train_data, test_data)"
   ]
  },
  {
   "cell_type": "markdown",
   "metadata": {},
   "source": [
    "#### GBTClassifier Tuning"
   ]
  },
  {
   "cell_type": "code",
   "execution_count": 41,
   "metadata": {},
   "outputs": [],
   "source": [
    "def tune_gbt_classifier(train_data, test_data, maxIter=[10, 20, 50], maxDepth=[3, 5, 7]):\n",
    "    \"\"\"\n",
    "    Perform hyperparameter tuning for Gradient Boosted Tree Classifier and evaluate using multiple metrics.\n",
    "\n",
    "    Args:\n",
    "        train_data (DataFrame): Training dataset.\n",
    "        test_data (DataFrame): Test dataset.\n",
    "\n",
    "    Returns:\n",
    "        dict: Best tuned model and evaluation metrics.\n",
    "    \"\"\"\n",
    "    print(\"Tuning GBTClassifier model...\")\n",
    "    gbt = GBTClassifier(featuresCol=\"features\", labelCol=\"label\")\n",
    "    paramGrid = ParamGridBuilder()\\\n",
    "        .addGrid(gbt.maxIter, maxIter)\\\n",
    "        .addGrid(gbt.maxDepth, maxDepth)\\\n",
    "        .build()\n",
    "\n",
    "    # Define multiple evaluators\n",
    "    evaluators = {\n",
    "        \"accuracy\": MulticlassClassificationEvaluator(labelCol=\"label\", predictionCol=\"prediction\", metricName=\"accuracy\"),\n",
    "        \"f1\": MulticlassClassificationEvaluator(labelCol=\"label\", predictionCol=\"prediction\", metricName=\"f1\"),\n",
    "        \"weightedRecall\": MulticlassClassificationEvaluator(labelCol=\"label\", predictionCol=\"prediction\", metricName=\"weightedRecall\"),\n",
    "    }\n",
    "\n",
    "    crossval = CrossValidator(\n",
    "        estimator=gbt,\n",
    "        estimatorParamMaps=paramGrid,\n",
    "        evaluator=evaluators[\"accuracy\"],  # Use accuracy for tuning\n",
    "        numFolds=3\n",
    "    )\n",
    "\n",
    "    # Fit the model and get the best one\n",
    "    best_gbt_model = crossval.fit(train_data)\n",
    "    tuned_predictions = best_gbt_model.transform(test_data)\n",
    "\n",
    "    # Evaluate using all defined metrics\n",
    "    metrics = {}\n",
    "    for metric_name, evaluator in evaluators.items():\n",
    "        metric_value = evaluator.evaluate(tuned_predictions)\n",
    "        metrics[metric_name] = metric_value\n",
    "        print(f\"Tuned GBTClassifier {metric_name.capitalize()}: {metric_value:.2f}\")\n",
    "\n",
    "    return {\"model\": best_gbt_model, \"metrics\": metrics}\n"
   ]
  },
  {
   "cell_type": "code",
   "execution_count": null,
   "metadata": {},
   "outputs": [],
   "source": [
    "# Tuning GBTClassifier\n",
    "gbt_results = tune_gbt_classifier(train_data, test_data)\n",
    "print(\"GBTClassifier Metrics:\", gbt_results[\"metrics\"])"
   ]
  },
  {
   "cell_type": "markdown",
   "metadata": {},
   "source": [
    "Tuning GBTClassifier model...\n",
    "\n",
    "Tuned GBTClassifier Accuracy: 0.79\n",
    "\n",
    "Tuned GBTClassifier F1: 0.78\n",
    "\n",
    "Tuned GBTClassifier Weightedrecall: 0.79\n",
    "\n",
    "GBTClassifier Metrics: {'accuracy': 0.7884615384615384, 'f1': 0.775494165277447, 'weightedRecall': 0.7884615384615385}"
   ]
  },
  {
   "cell_type": "markdown",
   "metadata": {},
   "source": [
    "#### LogisticRegression Tuning"
   ]
  },
  {
   "cell_type": "code",
   "execution_count": 42,
   "metadata": {},
   "outputs": [],
   "source": [
    "def tune_logistic_regression(train_data, test_data, regParam=[0.01, 0.1, 1.0], elasticNetParam=[0.0, 0.5, 1.0]):\n",
    "    \"\"\"\n",
    "    Perform hyperparameter tuning for Logistic Regression and evaluate using multiple metrics.\n",
    "\n",
    "    Args:\n",
    "        train_data (DataFrame): Training dataset.\n",
    "        test_data (DataFrame): Test dataset.\n",
    "\n",
    "    Returns:\n",
    "        dict: Best tuned model and evaluation metrics.\n",
    "    \"\"\"\n",
    "    print(\"Tuning LogisticRegression model...\")\n",
    "    lr = LogisticRegression(featuresCol=\"features\", labelCol=\"label\")\n",
    "    paramGrid = ParamGridBuilder()\\\n",
    "        .addGrid(lr.regParam, regParam)\\\n",
    "        .addGrid(lr.elasticNetParam, elasticNetParam)\\\n",
    "        .build()\n",
    "\n",
    "    # Define multiple evaluators\n",
    "    evaluators = {\n",
    "        \"accuracy\": MulticlassClassificationEvaluator(labelCol=\"label\", predictionCol=\"prediction\", metricName=\"accuracy\"),\n",
    "        \"f1\": MulticlassClassificationEvaluator(labelCol=\"label\", predictionCol=\"prediction\", metricName=\"f1\"),\n",
    "        \"weightedRecall\": MulticlassClassificationEvaluator(labelCol=\"label\", predictionCol=\"prediction\", metricName=\"weightedRecall\"),\n",
    "    }\n",
    "\n",
    "    crossval = CrossValidator(\n",
    "        estimator=lr,\n",
    "        estimatorParamMaps=paramGrid,\n",
    "        evaluator=evaluators[\"accuracy\"],  # Use accuracy for tuning\n",
    "        numFolds=3\n",
    "    )\n",
    "\n",
    "    # Fit the model and get the best one\n",
    "    best_lr_model = crossval.fit(train_data)\n",
    "    tuned_predictions = best_lr_model.transform(test_data)\n",
    "\n",
    "    # Evaluate using all defined metrics\n",
    "    metrics = {}\n",
    "    for metric_name, evaluator in evaluators.items():\n",
    "        metric_value = evaluator.evaluate(tuned_predictions)\n",
    "        metrics[metric_name] = metric_value\n",
    "        print(f\"Tuned LogisticRegression {metric_name.capitalize()}: {metric_value:.2f}\")\n",
    "\n",
    "    return {\"model\": best_lr_model, \"metrics\": metrics}\n"
   ]
  },
  {
   "cell_type": "code",
   "execution_count": 43,
   "metadata": {},
   "outputs": [
    {
     "name": "stdout",
     "output_type": "stream",
     "text": [
      "Tuning GBTClassifier model...\n",
      "Tuned GBTClassifier Accuracy: 0.79\n",
      "Tuned GBTClassifier F1: 0.78\n",
      "Tuned GBTClassifier Weightedrecall: 0.79\n",
      "GBTClassifier Metrics: {'accuracy': 0.7884615384615384, 'f1': 0.775494165277447, 'weightedRecall': 0.7884615384615385}\n",
      "Tuning LogisticRegression model...\n",
      "Tuned LogisticRegression Accuracy: 0.87\n",
      "Tuned LogisticRegression F1: 0.85\n",
      "Tuned LogisticRegression Weightedrecall: 0.87\n",
      "LogisticRegression Metrics: {'accuracy': 0.8653846153846154, 'f1': 0.8494564934727207, 'weightedRecall': 0.8653846153846154}\n"
     ]
    }
   ],
   "source": [
    "\n",
    "\n",
    "# Tuning LogisticRegression\n",
    "lr_results = tune_logistic_regression(train_data, test_data)\n",
    "print(\"LogisticRegression Metrics:\", lr_results[\"metrics\"])\n"
   ]
  },
  {
   "cell_type": "code",
   "execution_count": 48,
   "metadata": {},
   "outputs": [],
   "source": [
    "tuning_results = {\n",
    "    \"Random Forest\": best_rf_model[\"metrics\"],\n",
    "    \"GBTClassifier\": gbt_results[\"metrics\"],\n",
    "    \"LogisticRegression\": lr_results[\"metrics\"]\n",
    "}\n"
   ]
  },
  {
   "cell_type": "code",
   "execution_count": 51,
   "metadata": {},
   "outputs": [
    {
     "data": {
      "image/png": "[encoded data removed]",
      "text/plain": [
       "<Figure size 640x480 with 1 Axes>"
      ]
     },
     "metadata": {},
     "output_type": "display_data"
    }
   ],
   "source": [
    "import numpy as np\n",
    "\n",
    "import matplotlib.pyplot as plt\n",
    "\n",
    "# Extract model names and their F1 scores from tuning_results\n",
    "model_names = list(tuning_results.keys())\n",
    "f1_values = [tuning_results[model]['f1'] for model in model_names]\n",
    "\n",
    "# Create the bar chart\n",
    "fig, ax = plt.subplots()\n",
    "bars = ax.bar(model_names, f1_values, color='skyblue')\n",
    "\n",
    "# Add labels on top of each bar\n",
    "for bar in bars:\n",
    "    height = bar.get_height()\n",
    "    ax.text(\n",
    "        bar.get_x() + bar.get_width() / 2,  # x-coordinate: center of the bar\n",
    "        height,  # y-coordinate: top of the bar\n",
    "        f'{height:.2f}',  # Label text\n",
    "        ha='center',  # Horizontal alignment\n",
    "        va='bottom'   # Vertical alignment\n",
    "    )\n",
    "\n",
    "# Customize chart appearance\n",
    "ax.set_title('F1 Scores by Model after Tuning')\n",
    "ax.set_xlabel('Model')\n",
    "ax.set_ylabel('F1 Score')\n",
    "ax.set_ylim(0, 1)  # Set y-axis limit to [0, 1]\n",
    "\n",
    "# Show the plot\n",
    "plt.tight_layout()\n",
    "plt.show()"
   ]
  },
  {
   "cell_type": "markdown",
   "metadata": {},
   "source": []
  },
  {
   "cell_type": "markdown",
   "metadata": {},
   "source": [
    "# Final Steps\n",
    "Clean up your code, adding comments and renaming variables to make the code easier to read and maintain. Refer to the Spark Project Overview page and Data Scientist Capstone Project Rubric to make sure you are including all components of the capstone project and meet all expectations. Remember, this includes thorough documentation in a README file in a Github repository, as well as a web app or blog post."
   ]
  },
  {
   "cell_type": "code",
   "execution_count": null,
   "metadata": {},
   "outputs": [],
   "source": []
  }
 ],
 "metadata": {
  "kernelspec": {
   "display_name": "venv",
   "language": "python",
   "name": "python3"
  },
  "language_info": {
   "codemirror_mode": {
    "name": "ipython",
    "version": 3
   },
   "file_extension": ".py",
   "mimetype": "text/x-python",
   "name": "python",
   "nbconvert_exporter": "python",
   "pygments_lexer": "ipython3",
   "version": "3.10.0"
  }
 },
 "nbformat": 4,
 "nbformat_minor": 2
}
